{
 "cells": [
  {
   "cell_type": "markdown",
   "metadata": {},
   "source": [
    "# Problem 1 (25%)\n",
    "**Question:** Attached file *auto_mpg_original.csv* contains a set of data on automobile characteristics and fuel consumption. File *auto_mpg_description.csv* contains the description of the data.  Import data into Spark. Randomly select *10-20%* of you data for testing and use remaining data for training. Find all *null values* in all *numerical* columns. Replace *nulls*, if any, with *average values* for respective columns using *Spark Data Frame API*."
   ]
  },
  {
   "cell_type": "code",
   "execution_count": 1,
   "metadata": {
    "collapsed": true
   },
   "outputs": [],
   "source": [
    "# Load spark\n",
    "import findspark\n",
    "findspark.init(\"/home/tim/spark\")\n",
    "\n",
    "# Import libraries\n",
    "import os\n",
    "import pyspark\n",
    "from pyspark import SparkContext, SparkConf\n",
    "from pyspark.sql import Row\n",
    "import pyspark.mllib\n",
    "import numpy as np\n",
    "import matplotlib.pyplot as plt\n",
    "import seaborn as sns\n",
    "from IPython.display import display, HTML"
   ]
  },
  {
   "cell_type": "code",
   "execution_count": 2,
   "metadata": {
    "collapsed": true
   },
   "outputs": [],
   "source": [
    "# Start spark context\n",
    "conf = SparkConf().setAppName(\"hw7\").setMaster(\"local[*]\")\n",
    "sc = SparkContext(conf=conf)"
   ]
  },
  {
   "cell_type": "code",
   "execution_count": 3,
   "metadata": {
    "collapsed": true
   },
   "outputs": [],
   "source": [
    "from pyspark.ml.feature import Imputer\n",
    "from pyspark.mllib.regression import LabeledPoint\n",
    "from pyspark.mllib.regression import LinearRegressionWithSGD\n",
    "from pyspark.mllib.tree import DecisionTree\n",
    "from pyspark.sql.functions import *\n",
    "from pyspark.sql import SQLContext\n",
    "from pyspark.sql.functions import lit\n",
    "sqlContext = SQLContext(sc)"
   ]
  },
  {
   "cell_type": "code",
   "execution_count": 4,
   "metadata": {
    "collapsed": true
   },
   "outputs": [],
   "source": [
    "# Read data\n",
    "auto = sc.textFile(\"/home/tim/e63-coursework/hw7/data/auto_mpg_original-1.csv\", use_unicode=False)\n",
    "\n",
    "# Split data\n",
    "autordd = auto.map(lambda line: line.split(\",\"))"
   ]
  },
  {
   "cell_type": "code",
   "execution_count": 5,
   "metadata": {
    "collapsed": true
   },
   "outputs": [],
   "source": [
    "# Create dataframe\n",
    "df = autordd.map(lambda line: Row(mpg = line[0], cylinders = line[1], displacement=line[2], horsepower=line[3],\n",
    "                                  weight=line[4], acceleration=line[5], my=line[6], origin=line[7], name=line[8])).toDF()\n",
    "\n",
    "# Define numeric variables\n",
    "df_num = df.select(df.mpg.cast('float'), df.displacement.cast('float'),\n",
    "                   df.horsepower.cast('float'), df.weight.cast('float'),\n",
    "                   df.acceleration.cast('float'), df.cylinders.cast('float'),\n",
    "                   df.my.cast('float'), df.origin.cast('float'))\n",
    "\n",
    "# Define categorical variables\n",
    "df_cat = df.select(df.name.cast('string'))"
   ]
  },
  {
   "cell_type": "code",
   "execution_count": 6,
   "metadata": {},
   "outputs": [
    {
     "name": "stdout",
     "output_type": "stream",
     "text": [
      "+-------+-----------------+------------------+------------------+------------------+------------------+\n",
      "|summary|              mpg|      displacement|        horsepower|            weight|      acceleration|\n",
      "+-------+-----------------+------------------+------------------+------------------+------------------+\n",
      "|  count|              405|               406|               405|               406|               406|\n",
      "|   mean|23.49333333144953| 194.7795566502463|104.83703703703704|2979.4137931034484|15.519704440544391|\n",
      "| stddev|7.778236919313246|104.92245837948875|38.655601865131466| 847.0043282393509| 2.803358855032557|\n",
      "|    min|              9.0|              68.0|              46.0|            1613.0|               8.0|\n",
      "|    max|             46.6|             455.0|             230.0|            5140.0|              24.8|\n",
      "+-------+-----------------+------------------+------------------+------------------+------------------+\n",
      "\n"
     ]
    }
   ],
   "source": [
    "# Show numeric variabels\n",
    "df_num.describe('mpg', 'displacement', 'horsepower', 'weight', 'acceleration').show()"
   ]
  },
  {
   "cell_type": "code",
   "execution_count": 7,
   "metadata": {},
   "outputs": [
    {
     "name": "stdout",
     "output_type": "stream",
     "text": [
      "+-----------------+------------------+------------------+------------------+------------------+\n",
      "|              mpg|      displacement|        horsepower|            weight|      acceleration|\n",
      "+-----------------+------------------+------------------+------------------+------------------+\n",
      "|              405|               406|               405|               406|               406|\n",
      "|23.49333333144953| 194.7795566502463|104.83703703703704|2979.4137931034484|15.519704440544391|\n",
      "|7.778236919313246|104.92245837948875|38.655601865131466| 847.0043282393509| 2.803358855032557|\n",
      "|              9.0|              68.0|              46.0|            1613.0|               8.0|\n",
      "|             46.6|             455.0|             230.0|            5140.0|              24.8|\n",
      "+-----------------+------------------+------------------+------------------+------------------+\n",
      "\n"
     ]
    }
   ],
   "source": [
    "df_num_summary = df_num.describe()\n",
    "df_num_summary['mpg', 'displacement', 'horsepower', 'weight', 'acceleration'].show()"
   ]
  },
  {
   "cell_type": "code",
   "execution_count": 8,
   "metadata": {},
   "outputs": [
    {
     "name": "stdout",
     "output_type": "stream",
     "text": [
      "+------------------+-----------------+------------------+\n",
      "|         cylinders|               my|            origin|\n",
      "+------------------+-----------------+------------------+\n",
      "|               406|              406|               406|\n",
      "| 5.475369458128079|75.92118226600985|1.5689655172413792|\n",
      "|1.7121596315485292|3.748737345455887|0.7974789993244706|\n",
      "|               3.0|             70.0|               1.0|\n",
      "|               8.0|             82.0|               3.0|\n",
      "+------------------+-----------------+------------------+\n",
      "\n"
     ]
    }
   ],
   "source": [
    "df_num_summary['cylinders', 'my', 'origin'].show()"
   ]
  },
  {
   "cell_type": "code",
   "execution_count": 9,
   "metadata": {
    "collapsed": true
   },
   "outputs": [],
   "source": [
    "# Impute NA's with the average (new function on Spark 2.2)\n",
    "imputer = Imputer(inputCols=df_num.columns, outputCols=[\"{}\".format(c) for c in df_num.columns])\n",
    "df_num = imputer.setStrategy(\"mean\").fit(df_num).transform(df_num)"
   ]
  },
  {
   "cell_type": "markdown",
   "metadata": {},
   "source": [
    "### Join numeric and categorical together (optional)"
   ]
  },
  {
   "cell_type": "code",
   "execution_count": 10,
   "metadata": {},
   "outputs": [
    {
     "name": "stdout",
     "output_type": "stream",
     "text": [
      "+----+------------+----------+------+------------+---------+----+------+----------+\n",
      "| mpg|displacement|horsepower|weight|acceleration|cylinders|  my|origin|      name|\n",
      "+----+------------+----------+------+------------+---------+----+------+----------+\n",
      "|25.0|       110.0|      87.0|2672.0|        17.5|      4.0|70.0|   2.0|   peugeot|\n",
      "|26.0|       121.0|     113.0|2234.0|        12.5|      4.0|70.0|   2.0|       bmw|\n",
      "|27.2|       119.0|      97.0|2300.0|        14.7|      4.0|78.0|   3.0|    datsun|\n",
      "|25.0|        97.5|      80.0|2126.0|        17.0|      4.0|72.0|   1.0|     dodge|\n",
      "|25.0|       140.0|      92.0|2572.0|        14.9|      4.0|76.0|   1.0|     capri|\n",
      "|44.0|        97.0|      52.0|2130.0|        24.6|      4.0|82.0|   2.0|        vw|\n",
      "|17.5|       258.0|      95.0|3193.0|        17.8|      6.0|76.0|   1.0|       amc|\n",
      "|14.0|       455.0|     225.0|3086.0|        10.0|      8.0|70.0|   1.0|     buick|\n",
      "|19.0|       250.0|     100.0|3282.0|        15.0|      6.0|71.0|   1.0|   pontiac|\n",
      "|18.0|       307.0|     130.0|3504.0|        12.0|      8.0|70.0|   1.0| chevrolet|\n",
      "|13.0|       360.0|     170.0|4654.0|        13.0|      8.0|73.0|   1.0|  plymouth|\n",
      "|12.0|       350.0|     180.0|4499.0|        12.5|      8.0|73.0|   1.0|oldsmobile|\n",
      "|26.0|       116.0|      75.0|2246.0|        14.0|      4.0|74.0|   2.0|      fiat|\n",
      "|17.0|       231.0|     110.0|3907.0|        21.0|      6.0|75.0|   1.0|     buick|\n",
      "|30.5|        98.0|      63.0|2051.0|        17.0|      4.0|77.0|   1.0| chevrolet|\n",
      "|19.2|       267.0|     125.0|3605.0|        15.0|      8.0|79.0|   1.0| chevrolet|\n",
      "|34.3|        97.0|      78.0|2188.0|        15.8|      4.0|80.0|   2.0|      audi|\n",
      "|31.6|       120.0|      74.0|2635.0|        18.3|      4.0|81.0|   3.0|     mazda|\n",
      "|18.0|       199.0|      97.0|2774.0|        15.5|      6.0|70.0|   1.0|       amc|\n",
      "|22.0|       225.0|     100.0|3233.0|        15.4|      6.0|76.0|   1.0|  plymouth|\n",
      "+----+------------+----------+------+------------+---------+----+------+----------+\n",
      "only showing top 20 rows\n",
      "\n"
     ]
    }
   ],
   "source": [
    "df_num = df_num.withColumn(\"row_id\", monotonically_increasing_id())\n",
    "df_cat = df_cat.withColumn(\"row_id\", monotonically_increasing_id())\n",
    "df2 = df_num.join(df_cat, \"row_id\").drop(\"row_id\")\n",
    "df2.show()"
   ]
  },
  {
   "cell_type": "code",
   "execution_count": 11,
   "metadata": {},
   "outputs": [
    {
     "name": "stdout",
     "output_type": "stream",
     "text": [
      "Total Count:406\n"
     ]
    }
   ],
   "source": [
    "print ('Total Count:' + str(df2.count()))"
   ]
  },
  {
   "cell_type": "code",
   "execution_count": 12,
   "metadata": {},
   "outputs": [
    {
     "name": "stdout",
     "output_type": "stream",
     "text": [
      "+----+------------+----------+------+------------+---------+----+------+-------+\n",
      "| mpg|displacement|horsepower|weight|acceleration|cylinders|  my|origin|   name|\n",
      "+----+------------+----------+------+------------+---------+----+------+-------+\n",
      "|25.0|       110.0|      87.0|2672.0|        17.5|      4.0|70.0|   2.0|peugeot|\n",
      "|26.0|       121.0|     113.0|2234.0|        12.5|      4.0|70.0|   2.0|    bmw|\n",
      "|27.2|       119.0|      97.0|2300.0|        14.7|      4.0|78.0|   3.0| datsun|\n",
      "|25.0|        97.5|      80.0|2126.0|        17.0|      4.0|72.0|   1.0|  dodge|\n",
      "|25.0|       140.0|      92.0|2572.0|        14.9|      4.0|76.0|   1.0|  capri|\n",
      "+----+------------+----------+------+------------+---------+----+------+-------+\n",
      "only showing top 5 rows\n",
      "\n"
     ]
    }
   ],
   "source": [
    "df2.show(5)"
   ]
  },
  {
   "cell_type": "markdown",
   "metadata": {},
   "source": [
    "**Note:** In order to use the categorical variable *name* we would have to use *one-hot binary encoding*. However, it is not necessary for the following analysis in problem 2. That is why it is not used. Furthermore, only the variables *mpg* and *horsepower* are used. That is we only select those values."
   ]
  },
  {
   "cell_type": "code",
   "execution_count": 13,
   "metadata": {},
   "outputs": [
    {
     "name": "stdout",
     "output_type": "stream",
     "text": [
      "+----+----------+\n",
      "| mpg|horsepower|\n",
      "+----+----------+\n",
      "|25.0|      87.0|\n",
      "|26.0|     113.0|\n",
      "|27.2|      97.0|\n",
      "|25.0|      80.0|\n",
      "|25.0|      92.0|\n",
      "+----+----------+\n",
      "only showing top 5 rows\n",
      "\n"
     ]
    }
   ],
   "source": [
    "# Select\n",
    "df3 = df2.select(df2.mpg.cast('float'), df2.horsepower.cast('float'))\n",
    "df3.show(5)"
   ]
  },
  {
   "cell_type": "code",
   "execution_count": 14,
   "metadata": {},
   "outputs": [
    {
     "data": {
      "text/plain": [
       "[LabeledPoint(25.0, [87.0]),\n",
       " LabeledPoint(26.0, [113.0]),\n",
       " LabeledPoint(27.2000007629, [97.0]),\n",
       " LabeledPoint(25.0, [80.0]),\n",
       " LabeledPoint(25.0, [92.0])]"
      ]
     },
     "execution_count": 14,
     "metadata": {},
     "output_type": "execute_result"
    }
   ],
   "source": [
    "# Create labeled points\n",
    "df_labeled = df3.rdd.map(lambda r : LabeledPoint(r[0], r[1:]))\n",
    "df_labeled.take(5)"
   ]
  },
  {
   "cell_type": "code",
   "execution_count": 15,
   "metadata": {
    "collapsed": true
   },
   "outputs": [],
   "source": [
    "# Test and learning set.\n",
    "df_train, df_test = df_labeled.randomSplit([.8, .2], seed=123)\n",
    "\n",
    "# Cache data\n",
    "df_train = df_train.cache()\n",
    "df_test = df_test.cache()"
   ]
  },
  {
   "cell_type": "code",
   "execution_count": 16,
   "metadata": {},
   "outputs": [
    {
     "name": "stdout",
     "output_type": "stream",
     "text": [
      "Training data size: 315\n",
      "Test data size: 91\n",
      "Total data size: 406 \n",
      "Train + Test size : 406\n"
     ]
    }
   ],
   "source": [
    "# Get values\n",
    "print \"Training data size: %d\" % df_train.count()\n",
    "print \"Test data size: %d\" % df_test.count()\n",
    "print \"Total data size: %d \" % df3.count()\n",
    "print \"Train + Test size : %d\" % (df_train.count() + df_test.count())"
   ]
  },
  {
   "cell_type": "markdown",
   "metadata": {},
   "source": [
    "# Problem 2 (25%)\n",
    "**Question:** Look initially at two variables in the data set from the previous problem: the *horsepower* and the *mpg* (miles per gallon). Treat *mpg* as a feature and *horsepower* as the target variable (label). Use *MLlib* linear regression to identify the model for the relationship. Use the *test data* to illustrate *accuracy* of the *linear regression model* and its ability to predict the relationship. Calculate *two standard measures* of model *accuracy*. Create a *diagram* using any technique of convenience to presents the model (straight line), and the original test data. Please label your axes and use different colors for original data and predicted data.\n"
   ]
  },
  {
   "cell_type": "code",
   "execution_count": 17,
   "metadata": {
    "collapsed": true
   },
   "outputs": [],
   "source": [
    "# Functions\n",
    "def squared_error(actual, pred):\n",
    "    return (pred - actual)**2\n",
    "\n",
    "def abs_error(actual, pred):\n",
    "    return np.abs(pred - actual)\n",
    "\n",
    "def squared_log_error(pred, actual):\n",
    "    return (np.log(pred + 1) - np.log(actual + 1))**2"
   ]
  },
  {
   "cell_type": "code",
   "execution_count": 18,
   "metadata": {},
   "outputs": [
    {
     "name": "stderr",
     "output_type": "stream",
     "text": [
      "/home/tim/spark/python/pyspark/mllib/regression.py:281: UserWarning: Deprecated in 2.0.0. Use ml.regression.LinearRegression.\n",
      "  warnings.warn(\"Deprecated in 2.0.0. Use ml.regression.LinearRegression.\")\n"
     ]
    },
    {
     "name": "stdout",
     "output_type": "stream",
     "text": [
      "Linear Model Info:(weights=[0.182790626091], intercept=0.0)\n"
     ]
    }
   ],
   "source": [
    "# Calculate model\n",
    "fit_lin = LinearRegressionWithSGD.train(df_train, 1000, .0001, intercept=False)\n",
    "print(\"Linear Model Info:\" + str (fit_lin))"
   ]
  },
  {
   "cell_type": "code",
   "execution_count": 19,
   "metadata": {},
   "outputs": [
    {
     "name": "stdout",
     "output_type": "stream",
     "text": [
      "Linear Model: Mean Squared Error: 242.6391\n",
      "Linear Model: Mean Absolute Error: 12.3945\n",
      "Linear Model: Root Mean Squared Log Error: 0.6914\n"
     ]
    }
   ],
   "source": [
    "# Calculate true vs. prediction\n",
    "tbl_pred = df_test.map(lambda x: (x.label, fit_lin.predict(x.features)))\n",
    "\n",
    "# Calculate two accuracy measures\n",
    "mse = tbl_pred.map(lambda (t, p): squared_error(t, p)).mean()\n",
    "mae = tbl_pred.map(lambda (t, p): abs_error(t, p)).mean()\n",
    "rmsle = np.sqrt(tbl_pred.map(lambda(t,p):squared_log_error(t,p)).mean())\n",
    "\n",
    "# Print output\n",
    "print (\"Linear Model: Mean Squared Error: %2.4f\" % mse)\n",
    "print (\"Linear Model: Mean Absolute Error: %2.4f\" % mae)\n",
    "print (\"Linear Model: Root Mean Squared Log Error: %2.4f\" % rmsle)"
   ]
  },
  {
   "cell_type": "code",
   "execution_count": 20,
   "metadata": {
    "collapsed": true
   },
   "outputs": [],
   "source": [
    "pd_train_pred = df_train.map(lambda p: (float(p.label), float(fit_lin.predict(p.features)), float(p.features[0]))).toDF().toPandas()\n",
    "pd_test_pred = df_test.map(lambda p: (float(p.label), float(fit_lin.predict(p.features)), float(p.features[0]))).toDF().toPandas()\n",
    "pd_train_pred.columns = ['mpg', 'mpg_pred', 'horsepower']\n",
    "pd_test_pred.columns = ['mpg', 'mpg_pred', 'horsepower']"
   ]
  },
  {
   "cell_type": "code",
   "execution_count": 21,
   "metadata": {},
   "outputs": [
    {
     "data": {
      "image/png": "[encoded data removed]",
      "text/plain": [
       "<matplotlib.figure.Figure at 0x7efdaf72ea90>"
      ]
     },
     "metadata": {},
     "output_type": "display_data"
    }
   ],
   "source": [
    "plt.figure(1, figsize=(12,8))\n",
    "plt.scatter(pd_test_pred['horsepower'], pd_test_pred['mpg'], c='darkblue', alpha=0.5, edgecolor=\"\")\n",
    "plt.plot(pd_test_pred['horsepower'], pd_test_pred['mpg_pred'], c='darkred', alpha=0.8)\n",
    "plt.xlabel('horsepower')\n",
    "plt.ylabel('mpg')\n",
    "plt.title('Miles per Gallon - Actual vs. Predictions (Test Data)')\n",
    "plt.show()"
   ]
  },
  {
   "cell_type": "code",
   "execution_count": 22,
   "metadata": {},
   "outputs": [
    {
     "data": {
      "image/png": "[encoded data removed]",
      "text/plain": [
       "<matplotlib.figure.Figure at 0x7efdac7bd710>"
      ]
     },
     "metadata": {},
     "output_type": "display_data"
    }
   ],
   "source": [
    "plt.figure(1, figsize=(12,8))\n",
    "plt.scatter(pd_test_pred['horsepower'], pd_test_pred['mpg'], c='darkblue', alpha=0.5, edgecolor=\"\")\n",
    "plt.scatter(pd_train_pred['horsepower'], pd_train_pred['mpg'], c='darkgreen', alpha=0.5, edgecolor=\"\")\n",
    "plt.plot(pd_test_pred['horsepower'], pd_test_pred['mpg_pred'], c='darkred', alpha=0.8)\n",
    "plt.xlabel('horsepower')\n",
    "plt.ylabel('mpg')\n",
    "plt.title('Miles per Gallon - Actual vs. Predictions (all available data)')\n",
    "plt.show()"
   ]
  },
  {
   "cell_type": "markdown",
   "metadata": {},
   "source": [
    "# Problem 3 (25%)\n",
    "**Question:** Consider attached file *Bike-Sharing-Dataset.zip*. This is the bike set discussed in class. Do *not* use all columns of the data set. Retain the following variables: *season, yr, mnth, hr, holiday, weekday, workingday, weathersit, temp, atemp, hum, windspeed, cnt*. Discard others. Regard *cnt* as the target variable and all other variables as features.  Please note that some of those are categorical variables. Identify categorical variables and use *1-of-k* *binary encoding* for those variables. If there are any null values in numerical columns, replace those with average values for those columns using *Spark DataFrame API*. Train your model using *LinearRegressionSGD* method. Use test data (15% of all) to assess the quality of prediction for *cnt* variable. Calculate at least two performance metrics of your model."
   ]
  },
  {
   "cell_type": "code",
   "execution_count": 23,
   "metadata": {
    "collapsed": true
   },
   "outputs": [],
   "source": [
    "from pyspark.sql import SparkSession\n",
    "spark = SparkSession.builder.master(\"local\").appName(\"p6_df_count\").getOrCreate()"
   ]
  },
  {
   "cell_type": "code",
   "execution_count": 24,
   "metadata": {
    "collapsed": true
   },
   "outputs": [],
   "source": [
    "# Load data\n",
    "df_bike = spark.read.csv(\"file:///home/tim/e63-coursework/hw7/data/hour.csv\", nullValue='NA', header=True)"
   ]
  },
  {
   "cell_type": "code",
   "execution_count": 25,
   "metadata": {
    "collapsed": true
   },
   "outputs": [],
   "source": [
    "# Select data and arrange (categories first) \n",
    "df_bike = df_bike.select(df_bike.season.cast('float'), df_bike.yr.cast('float'), df_bike.mnth.cast('float'),\n",
    "                         df_bike.hr.cast('float'), df_bike.holiday.cast('float'), df_bike.weekday.cast('float'),\n",
    "                         df_bike.workingday.cast('float'), df_bike.weathersit.cast('float'), df_bike.temp.cast('float'),\n",
    "                         df_bike.atemp.cast('float'), df_bike.hum.cast('float'), df_bike.windspeed.cast('float'),\n",
    "                         df_bike.cnt.cast('float'))"
   ]
  },
  {
   "cell_type": "code",
   "execution_count": 26,
   "metadata": {
    "collapsed": true
   },
   "outputs": [],
   "source": [
    "# Impute NA's with the average (new function on Spark 2.2)\n",
    "imputer = Imputer(inputCols=df_bike.columns, outputCols=[\"{}\".format(c) for c in df_bike.columns])\n",
    "x = imputer.setStrategy(\"mean\").fit(df_bike).transform(df_bike)"
   ]
  },
  {
   "cell_type": "code",
   "execution_count": 27,
   "metadata": {},
   "outputs": [
    {
     "name": "stdout",
     "output_type": "stream",
     "text": [
      "+------+---+----+---+-------+-------+----------+----------+----+------+----+---------+----+\n",
      "|season| yr|mnth| hr|holiday|weekday|workingday|weathersit|temp| atemp| hum|windspeed| cnt|\n",
      "+------+---+----+---+-------+-------+----------+----------+----+------+----+---------+----+\n",
      "|   1.0|0.0| 1.0|0.0|    0.0|    6.0|       0.0|       1.0|0.24|0.2879|0.81|      0.0|16.0|\n",
      "|   1.0|0.0| 1.0|1.0|    0.0|    6.0|       0.0|       1.0|0.22|0.2727| 0.8|      0.0|40.0|\n",
      "|   1.0|0.0| 1.0|2.0|    0.0|    6.0|       0.0|       1.0|0.22|0.2727| 0.8|      0.0|32.0|\n",
      "|   1.0|0.0| 1.0|3.0|    0.0|    6.0|       0.0|       1.0|0.24|0.2879|0.75|      0.0|13.0|\n",
      "|   1.0|0.0| 1.0|4.0|    0.0|    6.0|       0.0|       1.0|0.24|0.2879|0.75|      0.0| 1.0|\n",
      "+------+---+----+---+-------+-------+----------+----------+----+------+----+---------+----+\n",
      "only showing top 5 rows\n",
      "\n"
     ]
    }
   ],
   "source": [
    "df_bike.show(5)"
   ]
  },
  {
   "cell_type": "code",
   "execution_count": 28,
   "metadata": {
    "collapsed": true
   },
   "outputs": [],
   "source": [
    "# Select data and arrange (categories first) \n",
    "df_bike = df_bike.select(df_bike.season.cast('int'), df_bike.yr.cast('int'), df_bike.mnth.cast('int'),\n",
    "                         df_bike.hr.cast('int'), df_bike.holiday.cast('int'), df_bike.weekday.cast('int'),\n",
    "                         df_bike.workingday.cast('int'), df_bike.weathersit.cast('int'), df_bike.temp.cast('float'),\n",
    "                         df_bike.atemp.cast('float'), df_bike.hum.cast('float'), df_bike.windspeed.cast('float'),\n",
    "                         df_bike.cnt.cast('float'))"
   ]
  },
  {
   "cell_type": "code",
   "execution_count": 29,
   "metadata": {},
   "outputs": [
    {
     "name": "stdout",
     "output_type": "stream",
     "text": [
      "+------+---+----+---+-------+-------+----------+----------+----+------+----+---------+----+\n",
      "|season| yr|mnth| hr|holiday|weekday|workingday|weathersit|temp| atemp| hum|windspeed| cnt|\n",
      "+------+---+----+---+-------+-------+----------+----------+----+------+----+---------+----+\n",
      "|     1|  0|   1|  0|      0|      6|         0|         1|0.24|0.2879|0.81|      0.0|16.0|\n",
      "|     1|  0|   1|  1|      0|      6|         0|         1|0.22|0.2727| 0.8|      0.0|40.0|\n",
      "|     1|  0|   1|  2|      0|      6|         0|         1|0.22|0.2727| 0.8|      0.0|32.0|\n",
      "|     1|  0|   1|  3|      0|      6|         0|         1|0.24|0.2879|0.75|      0.0|13.0|\n",
      "|     1|  0|   1|  4|      0|      6|         0|         1|0.24|0.2879|0.75|      0.0| 1.0|\n",
      "+------+---+----+---+-------+-------+----------+----------+----+------+----+---------+----+\n",
      "only showing top 5 rows\n",
      "\n"
     ]
    }
   ],
   "source": [
    "df_bike.show(5)"
   ]
  },
  {
   "cell_type": "markdown",
   "metadata": {},
   "source": [
    "We are left with 12 variables (features). The first eight are categorical, while the last 4\n",
    "are normalized real-valued variables. We have one label or target variable, cnt."
   ]
  },
  {
   "cell_type": "code",
   "execution_count": 30,
   "metadata": {},
   "outputs": [
    {
     "data": {
      "text/plain": [
       "[Row(season=1, yr=0, mnth=1, hr=0, holiday=0, weekday=6, workingday=0, weathersit=1, temp=0.23999999463558197, atemp=0.28790000081062317, hum=0.8100000023841858, windspeed=0.0, cnt=16.0),\n",
       " Row(season=1, yr=0, mnth=1, hr=1, holiday=0, weekday=6, workingday=0, weathersit=1, temp=0.2199999988079071, atemp=0.2727000117301941, hum=0.800000011920929, windspeed=0.0, cnt=40.0),\n",
       " Row(season=1, yr=0, mnth=1, hr=2, holiday=0, weekday=6, workingday=0, weathersit=1, temp=0.2199999988079071, atemp=0.2727000117301941, hum=0.800000011920929, windspeed=0.0, cnt=32.0),\n",
       " Row(season=1, yr=0, mnth=1, hr=3, holiday=0, weekday=6, workingday=0, weathersit=1, temp=0.23999999463558197, atemp=0.28790000081062317, hum=0.75, windspeed=0.0, cnt=13.0),\n",
       " Row(season=1, yr=0, mnth=1, hr=4, holiday=0, weekday=6, workingday=0, weathersit=1, temp=0.23999999463558197, atemp=0.28790000081062317, hum=0.75, windspeed=0.0, cnt=1.0)]"
      ]
     },
     "execution_count": 30,
     "metadata": {},
     "output_type": "execute_result"
    }
   ],
   "source": [
    "x = df_bike.rdd\n",
    "x.take(5)"
   ]
  },
  {
   "cell_type": "code",
   "execution_count": 31,
   "metadata": {},
   "outputs": [
    {
     "name": "stdout",
     "output_type": "stream",
     "text": [
      "[Row(season=1, yr=0, mnth=1, hr=0, holiday=0, weekday=6, workingday=0, weathersit=1, temp=0.23999999463558197, atemp=0.28790000081062317, hum=0.8100000023841858, windspeed=0.0, cnt=16.0), Row(season=1, yr=0, mnth=1, hr=1, holiday=0, weekday=6, workingday=0, weathersit=1, temp=0.2199999988079071, atemp=0.2727000117301941, hum=0.800000011920929, windspeed=0.0, cnt=40.0)]\n"
     ]
    }
   ],
   "source": [
    "def get_mapping(rdd, idx):\n",
    "    return rdd.map(lambda fields: fields[idx]).distinct().zipWithIndex().collectAsMap()\n",
    "\n",
    "print (df_bike.take(2))"
   ]
  },
  {
   "cell_type": "code",
   "execution_count": 32,
   "metadata": {
    "collapsed": true
   },
   "outputs": [],
   "source": [
    "rdd_bike = df_bike.rdd\n",
    "mappings = [get_mapping(rdd_bike, i) for i in range(0,8)]"
   ]
  },
  {
   "cell_type": "code",
   "execution_count": 33,
   "metadata": {},
   "outputs": [
    {
     "name": "stdout",
     "output_type": "stream",
     "text": [
      "[{1: 0, 2: 1, 3: 2, 4: 3}, {0: 0, 1: 1}, {1: 0, 2: 1, 3: 2, 4: 3, 5: 4, 6: 5, 7: 6, 8: 7, 9: 8, 10: 9, 11: 10, 12: 11}, {0: 0, 1: 1, 2: 2, 3: 3, 4: 4, 5: 5, 6: 6, 7: 7, 8: 8, 9: 9, 10: 10, 11: 11, 12: 12, 13: 13, 14: 14, 15: 15, 16: 16, 17: 17, 18: 18, 19: 19, 20: 20, 21: 21, 22: 22, 23: 23}, {0: 0, 1: 1}, {0: 0, 1: 1, 2: 2, 3: 3, 4: 4, 5: 5, 6: 6}, {0: 0, 1: 1}, {1: 0, 2: 1, 3: 2, 4: 3}]\n"
     ]
    }
   ],
   "source": [
    "print (mappings)"
   ]
  },
  {
   "cell_type": "code",
   "execution_count": 34,
   "metadata": {},
   "outputs": [
    {
     "name": "stdout",
     "output_type": "stream",
     "text": [
      "(0.23999999463558197, 0.28790000081062317, 0.8100000023841858, 0.0)\n"
     ]
    }
   ],
   "source": [
    "cat_len = np.sum(map(len, mappings))\n",
    "print(rdd_bike.first()[8:12])\n",
    "num_len = len(rdd_bike.first()[8:12])\n",
    "total_len = num_len + cat_len"
   ]
  },
  {
   "cell_type": "code",
   "execution_count": 35,
   "metadata": {},
   "outputs": [
    {
     "name": "stdout",
     "output_type": "stream",
     "text": [
      "Feature vector length for categorical features: 57\n",
      "Feature vector length for numerical features: 4\n",
      "Total feature vector length: 61\n"
     ]
    }
   ],
   "source": [
    "print \"Feature vector length for categorical features: %d\" % cat_len\n",
    "print \"Feature vector length for numerical features: %d\" % num_len\n",
    "print \"Total feature vector length: %d\" % total_len"
   ]
  },
  {
   "cell_type": "code",
   "execution_count": 36,
   "metadata": {
    "collapsed": true
   },
   "outputs": [],
   "source": [
    "def extract_features(record):\n",
    "    cat_vec = np.zeros(cat_len)\n",
    "    i = 0\n",
    "    step = 0\n",
    "    for field in record[0:8] :\n",
    "        m = mappings[i]\n",
    "        idx = m[field]\n",
    "        cat_vec[idx + step] = 1\n",
    "        i = i + 1\n",
    "        step = step + len(m)\n",
    "    num_vec = np.array([float(field) for field in record[8:12]])\n",
    "    return np.concatenate((cat_vec, num_vec))\n",
    "\n",
    "def extract_label(record):\n",
    "    return float(record[-1])"
   ]
  },
  {
   "cell_type": "code",
   "execution_count": 37,
   "metadata": {},
   "outputs": [
    {
     "name": "stdout",
     "output_type": "stream",
     "text": [
      "Label: 16.0\n",
      "Linear Model feature vector:\n",
      "[1.0,0.0,0.0,0.0,1.0,0.0,1.0,0.0,0.0,0.0,0.0,0.0,0.0,0.0,0.0,0.0,0.0,0.0,1.0,0.0,0.0,0.0,0.0,0.0,0.0,0.0,0.0,0.0,0.0,0.0,0.0,0.0,0.0,0.0,0.0,0.0,0.0,0.0,0.0,0.0,0.0,0.0,1.0,0.0,0.0,0.0,0.0,0.0,0.0,0.0,1.0,1.0,0.0,1.0,0.0,0.0,0.0,0.239999994636,0.287900000811,0.810000002384,0.0]\n",
      "Linear Model feature vector length: 61\n"
     ]
    }
   ],
   "source": [
    "rdd_bike2 = rdd_bike.map(lambda r: LabeledPoint(extract_label(r), extract_features(r)))\n",
    "first_point = rdd_bike2.first()\n",
    "print (\"Label: \" + str(first_point.label))\n",
    "print (\"Linear Model feature vector:\\n\" + str(first_point.features))\n",
    "print (\"Linear Model feature vector length: \" + str(len(first_point.features)))"
   ]
  },
  {
   "cell_type": "code",
   "execution_count": 38,
   "metadata": {
    "collapsed": true
   },
   "outputs": [],
   "source": [
    "df_train, df_test = rdd_bike2.randomSplit([.85, .15], seed=123)\n",
    "df_train = df_train.cache()\n",
    "df_test = df_test.cache()"
   ]
  },
  {
   "cell_type": "code",
   "execution_count": 39,
   "metadata": {
    "collapsed": true
   },
   "outputs": [],
   "source": [
    "fit_lin = LinearRegressionWithSGD.train(df_train, 500, .0001)"
   ]
  },
  {
   "cell_type": "code",
   "execution_count": 40,
   "metadata": {},
   "outputs": [
    {
     "name": "stdout",
     "output_type": "stream",
     "text": [
      "(weights=[0.116168979055,0.226422311253,0.26017070975,0.207218347234,0.304143328575,0.505837018717,0.0327945991684,0.0371773618931,0.0565337706308,0.0667011789332,0.0826814154315,0.08409107946,0.0845591998996,0.0860952081048,0.0857801993262,0.0788704146215,0.0627833600318,0.0519125597911,0.00969022399079,0.00582491092694,0.00384725572485,0.0018203010546,0.000830987831168,0.00321118575128,0.013049629389,0.0377621318743,0.0640003475319,0.0403187705981,0.0308375689067,0.0370608113163,0.0439918363766,0.0464577971115,0.0443805281468,0.0446948528925,0.0558068757195,0.0848836817634,0.0780685691973,0.0535618729009,0.0403094627869,0.0303207829371,0.0237388557259,0.0155111068376,0.791105781616,0.0188745656761,0.110501437704,0.111924945903,0.114882532903,0.117153119476,0.11907608301,0.118079632458,0.118362595839,0.247738599219,0.562241748073,0.575140943642,0.195657963559,0.0391272241901,5.42159009355e-05,0.463262393904,0.439289547053,0.45879690772,0.163250877965], intercept=0.0)\n"
     ]
    }
   ],
   "source": [
    "print(fit_lin)"
   ]
  },
  {
   "cell_type": "code",
   "execution_count": 41,
   "metadata": {},
   "outputs": [
    {
     "name": "stdout",
     "output_type": "stream",
     "text": [
      "Linear Model predictions: [(36.0, 2.9554706504526154), (110.0, 2.649529971102679), (53.0, 2.556992508024055), (53.0, 2.4540270975512151), (61.0, 2.9512112721402763), (72.0, 2.9442030091125835), (76.0, 2.9553150319396515), (52.0, 3.0093229888232536), (112.0, 3.0116659774994385), (2.0, 3.0173947703379684)]\n"
     ]
    }
   ],
   "source": [
    "true_vs_predicted2 = df_test.map(lambda p: (p.label, fit_lin.predict(p.features)))\n",
    "print (\"Linear Model predictions: \" + str(true_vs_predicted2.take(10)))\n"
   ]
  },
  {
   "cell_type": "code",
   "execution_count": 42,
   "metadata": {},
   "outputs": [
    {
     "name": "stdout",
     "output_type": "stream",
     "text": [
      "Linear Model - Mean Squared Error: 242.6391\n",
      "Linear Model - Mean Absolute Error: 12.3945\n",
      "Linear Model - Root Mean Squared Log Error: 0.6914\n"
     ]
    }
   ],
   "source": [
    "mse2 = true_vs_predicted2.map(lambda (t, p): squared_error(t, p)).mean()\n",
    "mae2 = true_vs_predicted2.map(lambda (t, p): abs_error(t, p)).mean()\n",
    "rmsle2=np.sqrt(true_vs_predicted2.map(lambda(t,p):squared_log_error(t,p)).mean())\n",
    "print (\"Linear Model - Mean Squared Error: %2.4f\" % mse)\n",
    "print (\"Linear Model - Mean Absolute Error: %2.4f\" % mae)\n",
    "print (\"Linear Model - Root Mean Squared Log Error: %2.4f\" % rmsle)"
   ]
  },
  {
   "cell_type": "markdown",
   "metadata": {},
   "source": [
    "# Problem 4 (25%)\n",
    "**Question:** Use a *Decision Tree model* to predict *mpg* values in *auto_mpg_original.txt* data. Assess accuracy of your prediction using at least two performance metrics."
   ]
  },
  {
   "cell_type": "code",
   "execution_count": 43,
   "metadata": {},
   "outputs": [],
   "source": [
    "# Prepare data\n",
    "df_car = df2.select(df2.cylinders, df2.my, df2.name, df2.origin, df2.acceleration, df2.displacement,\n",
    "                df2.horsepower, df2.weight, df2.mpg)\n",
    "rdd_car = df_car.rdd"
   ]
  },
  {
   "cell_type": "code",
   "execution_count": 44,
   "metadata": {},
   "outputs": [
    {
     "name": "stdout",
     "output_type": "stream",
     "text": [
      "[{8.0: 4, 3.0: 0, 4.0: 1, 5.0: 2, 6.0: 3}, {70.0: 0, 71.0: 1, 72.0: 2, 73.0: 3, 74.0: 4, 75.0: 5, 76.0: 6, 77.0: 7, 78.0: 8, 79.0: 9, 80.0: 10, 81.0: 11, 82.0: 12}, {u'vw': 3, u'subaru': 11, u'buick': 17, u'citroen': 33, u'chevroelt': 8, u'opel': 16, u'audi': 37, u'maxda': 31, u'chevrolet': 14, u'capri': 6, u'saab': 13, u'dodge': 4, u'mercury': 35, u'pontiac': 12, u'cadillac': 29, u'amc': 22, u'honda': 2, u'vokswagen': 20, u'volkswagen': 5, u'mazda': 34, u'toyouta': 23, u'hi': 28, u'bmw': 9, u'mercedes-benz': 26, u'ford': 24, u'peugeot': 0, u'fiat': 1, u'oldsmobile': 10, u'renault': 30, u'nissan': 27, u'toyota': 36, u'volvo': 15, u'chevy': 7, u'plymouth': 25, u'chrysler': 21, u'datsun': 19, u'mercedes': 18, u'triumph': 32}, {1.0: 0, 2.0: 1, 3.0: 2}]\n"
     ]
    }
   ],
   "source": [
    "# Create Mapping\n",
    "mappings = [get_mapping(rdd_car, i) for i in range(0,4)]\n",
    "print (mappings)"
   ]
  },
  {
   "cell_type": "code",
   "execution_count": 48,
   "metadata": {},
   "outputs": [
    {
     "name": "stdout",
     "output_type": "stream",
     "text": [
      "Length of categorical features: 59\n",
      "Length of numerical features: 5\n",
      "Total feature vector length: 64\n"
     ]
    }
   ],
   "source": [
    "print \"Length of categorical features: %d\" % np.sum(map(len, mappings))\n",
    "print \"Length of numerical features: %d\" % len(rdd_car.first()[4:9])\n",
    "print \"Total feature vector length: %d\" % (np.sum(map(len, mappings)) + len(rdd_car.first()[4:9]))"
   ]
  },
  {
   "cell_type": "code",
   "execution_count": 49,
   "metadata": {
    "collapsed": true
   },
   "outputs": [],
   "source": [
    "def extract_features(record):\n",
    "    cat_vec = np.zeros(cat_len)\n",
    "    i = 0\n",
    "    step = 0\n",
    "    for field in record[0:4] :\n",
    "        m = mappings[i]\n",
    "        idx = m[field]\n",
    "        cat_vec[idx + step] = 1\n",
    "        i = i + 1\n",
    "        step = step + len(m)\n",
    "    num_vec = np.array([float(field) for field in record[4:8]])\n",
    "    return np.concatenate((cat_vec, num_vec))\n",
    "\n",
    "def extract_label(record):\n",
    "    return float(record[-1])"
   ]
  },
  {
   "cell_type": "code",
   "execution_count": 50,
   "metadata": {},
   "outputs": [
    {
     "name": "stdout",
     "output_type": "stream",
     "text": [
      "Label: 25.0\n",
      "Linear Model feature vector:\n",
      "[0.0,1.0,0.0,0.0,0.0,1.0,0.0,0.0,0.0,0.0,0.0,0.0,0.0,0.0,0.0,0.0,0.0,0.0,1.0,0.0,0.0,0.0,0.0,0.0,0.0,0.0,0.0,0.0,0.0,0.0,0.0,0.0,0.0,0.0,0.0,0.0,0.0,0.0,0.0,0.0,0.0,0.0,0.0,0.0,0.0,0.0,0.0,0.0,0.0,0.0,0.0,0.0,0.0,0.0,0.0,0.0,0.0,1.0,0.0,17.5,110.0,87.0,2672.0]\n",
      "Linear Model feature vector length: 63\n"
     ]
    }
   ],
   "source": [
    "df_car2 = rdd_car.map(lambda r: LabeledPoint(extract_label(r), extract_features(r)))\n",
    "first_point = df_car2.first()\n",
    "print (\"Label: \" + str(first_point.label))\n",
    "print (\"Linear Model feature vector:\\n\" + str(first_point.features))\n",
    "print (\"Linear Model feature vector length: \" + str(len(first_point.features)))"
   ]
  },
  {
   "cell_type": "code",
   "execution_count": 51,
   "metadata": {
    "collapsed": true
   },
   "outputs": [],
   "source": [
    "# Split data\n",
    "df_train, df_test = df_car2.randomSplit([.8, .2], seed=123)\n",
    "\n",
    "df_train = df_train.cache()\n",
    "df_test = df_test.cache()"
   ]
  },
  {
   "cell_type": "code",
   "execution_count": 53,
   "metadata": {
    "collapsed": true
   },
   "outputs": [],
   "source": [
    "fit_tree = DecisionTree.trainRegressor(df_train,{})"
   ]
  },
  {
   "cell_type": "code",
   "execution_count": 54,
   "metadata": {
    "collapsed": true
   },
   "outputs": [],
   "source": [
    "preds = fit_tree.predict(df_test.map(lambda p: p.features))\n",
    "actual = df_test.map(lambda p: p.label)\n",
    "tbl_pred = actual.zip(preds)"
   ]
  },
  {
   "cell_type": "code",
   "execution_count": 55,
   "metadata": {},
   "outputs": [
    {
     "name": "stdout",
     "output_type": "stream",
     "text": [
      "Decision Tree predictions: [(44.0, 21.833333333333332), (19.0, 18.241666714350384), (18.0, 20.2459460078059), (22.0, 20.2459460078059), (14.0, 14.880769216097319)]\n",
      "Decision Tree depth: 5\n",
      "Decision Tree number of nodes: 59\n",
      "Test Error = 1.0\n"
     ]
    }
   ],
   "source": [
    "print (\"Decision Tree predictions: \" + str(tbl_pred.take(5)))\n",
    "print (\"Decision Tree depth: \" + str(fit_tree.depth()))\n",
    "print (\"Decision Tree number of nodes: \" + str(fit_tree.numNodes()))\n",
    "\n",
    "testErr = tbl_pred.filter(lambda (v, p): v != p).count() / float(df_test.count())\n",
    "print('Test Error = ' + str(testErr))"
   ]
  },
  {
   "cell_type": "code",
   "execution_count": 56,
   "metadata": {},
   "outputs": [
    {
     "name": "stdout",
     "output_type": "stream",
     "text": [
      "Decision Tree - Mean Squared Error: 27.8596\n",
      "Decision Tree - Mean Absolute Error: 3.6197\n",
      "Decision Tree - Root Mean Squared Log Error: 0.1970\n"
     ]
    }
   ],
   "source": [
    "mse_dt = tbl_pred.map(lambda (t, p): squared_error(t, p)).mean()\n",
    "mae_dt = tbl_pred.map(lambda (t, p): abs_error(t, p)).mean()\n",
    "rmsle_dt = np.sqrt(tbl_pred.map(lambda (t, p): squared_log_error(t, p)).mean())\n",
    "print \"Decision Tree - Mean Squared Error: %2.4f\" % mse_dt\n",
    "print \"Decision Tree - Mean Absolute Error: %2.4f\" % mae_dt\n",
    "print \"Decision Tree - Root Mean Squared Log Error: %2.4f\" % rmsle_dt"
   ]
  },
  {
   "cell_type": "code",
   "execution_count": 57,
   "metadata": {},
   "outputs": [
    {
     "name": "stdout",
     "output_type": "stream",
     "text": [
      "DecisionTreeModel regressor of depth 5 with 59 nodes\n",
      "  If (feature 60 <= 151.0)\n",
      "   If (feature 62 <= 2219.0)\n",
      "    If (feature 60 <= 91.0)\n",
      "     If (feature 61 <= 69.0)\n",
      "      If (feature 9 <= 0.0)\n",
      "       Predict: 36.343477829642914\n",
      "      Else (feature 9 > 0.0)\n",
      "       Predict: 29.666666666666668\n",
      "     Else (feature 61 > 69.0)\n",
      "      If (feature 37 <= 0.0)\n",
      "       Predict: 28.822222179836697\n",
      "      Else (feature 37 > 0.0)\n",
      "       Predict: 34.96666717529297\n",
      "    Else (feature 60 > 91.0)\n",
      "     If (feature 59 <= 18.700000762939453)\n",
      "      If (feature 17 <= 0.0)\n",
      "       Predict: 30.351612952447706\n",
      "      Else (feature 17 > 0.0)\n",
      "       Predict: 36.4\n",
      "     Else (feature 59 > 18.700000762939453)\n",
      "      If (feature 62 <= 1940.0)\n",
      "       Predict: 26.5\n",
      "      Else (feature 62 > 1940.0)\n",
      "       Predict: 21.833333333333332\n",
      "   Else (feature 62 > 2219.0)\n",
      "    If (feature 61 <= 85.0)\n",
      "     If (feature 8 <= 0.0)\n",
      "      If (feature 60 <= 135.0)\n",
      "       Predict: 29.570833524068195\n",
      "      Else (feature 60 > 135.0)\n",
      "       Predict: 25.25000023841858\n",
      "     Else (feature 8 > 0.0)\n",
      "      If (feature 32 <= 0.0)\n",
      "       Predict: 19.0\n",
      "      Else (feature 32 > 0.0)\n",
      "       Predict: 21.0\n",
      "    Else (feature 61 > 85.0)\n",
      "     If (feature 33 <= 0.0)\n",
      "      If (feature 48 <= 0.0)\n",
      "       Predict: 24.788104599597407\n",
      "      Else (feature 48 > 0.0)\n",
      "       Predict: 34.5\n",
      "     Else (feature 33 > 0.0)\n",
      "      If (feature 10 <= 0.0)\n",
      "       Predict: 19.0\n",
      "      Else (feature 10 > 0.0)\n",
      "       Predict: 22.0\n",
      "  Else (feature 60 > 151.0)\n",
      "   If (feature 61 <= 129.0)\n",
      "    If (feature 17 <= 0.0)\n",
      "     If (feature 59 <= 12.899999618530273)\n",
      "      If (feature 14 <= 0.0)\n",
      "       Predict: 23.5\n",
      "      Else (feature 14 > 0.0)\n",
      "       Predict: 27.799999237060547\n",
      "     Else (feature 59 > 12.899999618530273)\n",
      "      If (feature 60 <= 232.0)\n",
      "       Predict: 20.2459460078059\n",
      "      Else (feature 60 > 232.0)\n",
      "       Predict: 18.241666714350384\n",
      "    Else (feature 17 > 0.0)\n",
      "     If (feature 28 <= 0.0)\n",
      "      If (feature 1 <= 0.0)\n",
      "       Predict: 22.0\n",
      "      Else (feature 1 > 0.0)\n",
      "       Predict: 26.0\n",
      "     Else (feature 28 > 0.0)\n",
      "      Predict: 38.0\n",
      "   Else (feature 61 > 129.0)\n",
      "    If (feature 62 <= 4054.0)\n",
      "     If (feature 11 <= 0.0)\n",
      "      If (feature 8 <= 0.0)\n",
      "       Predict: 17.791666825612385\n",
      "      Else (feature 8 > 0.0)\n",
      "       Predict: 14.25\n",
      "     Else (feature 11 > 0.0)\n",
      "      Predict: 13.0\n",
      "    Else (feature 62 > 4054.0)\n",
      "     If (feature 62 <= 4385.0)\n",
      "      If (feature 25 <= 0.0)\n",
      "       Predict: 14.880769216097319\n",
      "      Else (feature 25 > 0.0)\n",
      "       Predict: 11.5\n",
      "     Else (feature 62 > 4385.0)\n",
      "      If (feature 10 <= 0.0)\n",
      "       Predict: 12.705882352941176\n",
      "      Else (feature 10 > 0.0)\n",
      "       Predict: 15.0\n",
      "\n"
     ]
    }
   ],
   "source": [
    "print(fit_tree.toDebugString())"
   ]
  }
 ],
 "metadata": {
  "kernelspec": {
   "display_name": "Python 2",
   "language": "python",
   "name": "python2"
  },
  "language_info": {
   "codemirror_mode": {
    "name": "ipython",
    "version": 2
   },
   "file_extension": ".py",
   "mimetype": "text/x-python",
   "name": "python",
   "nbconvert_exporter": "python",
   "pygments_lexer": "ipython2",
   "version": "2.7.13"
  }
 },
 "nbformat": 4,
 "nbformat_minor": 2
}
