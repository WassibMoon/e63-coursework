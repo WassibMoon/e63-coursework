{
 "cells": [
  {
   "cell_type": "markdown",
   "metadata": {},
   "source": [
    "# Homework 7: Machine Learning with Spark\n",
    "**Harvard University**<br>\n",
    "**Fall 2017**<br>\n",
    "**Author: Tim Hagmann**\n"
   ]
  },
  {
   "cell_type": "markdown",
   "metadata": {},
   "source": [
    "**Note:** This notebook is hosted on Amazon EC2 with Python *2.7* and Spark *2.2* and Jupyter Notebook. The easiest way to replicate it is using a docker image like *jupyter/all-spark-notebook*. To use it after intalling docker simply run the following command: \n",
    "\n",
    "```bash\n",
    "docker run -it --rm -p 8888:8888 --name spark jupyter/all-spark-notebook \n",
    "```"
   ]
  },
  {
   "cell_type": "markdown",
   "metadata": {},
   "source": [
    "# Problem 1 (25%)\n",
    "**Question:** Attached file *auto_mpg_original.csv* contains a set of data on automobile characteristics and fuel consumption. File *auto_mpg_description.csv* contains the description of the data.  Import data into Spark. Randomly select *10-20%* of you data for testing and use remaining data for training. Find all *null values* in all *numerical* columns. Replace *nulls*, if any, with *average values* for respective columns using *Spark Data Frame API*."
   ]
  },
  {
   "cell_type": "markdown",
   "metadata": {},
   "source": [
    "### Setup spark\n",
    "The first step of the analysis is to setup the spark context and load all the necessary libraries"
   ]
  },
  {
   "cell_type": "code",
   "execution_count": 1,
   "metadata": {
    "collapsed": true
   },
   "outputs": [],
   "source": [
    "# Load spark\n",
    "import findspark\n",
    "findspark.init(\"/home/tim/spark\")\n",
    "\n",
    "# Import libraries\n",
    "import os\n",
    "import pyspark\n",
    "from pyspark import SparkContext, SparkConf\n",
    "from pyspark.sql import Row\n",
    "import pyspark.mllib\n",
    "import numpy as np\n",
    "import matplotlib.pyplot as plt\n",
    "import seaborn as sns\n",
    "from IPython.display import display, HTML"
   ]
  },
  {
   "cell_type": "code",
   "execution_count": 2,
   "metadata": {
    "collapsed": true
   },
   "outputs": [],
   "source": [
    "# Start spark context\n",
    "conf = SparkConf().setAppName(\"hw7\").setMaster(\"local[*]\")\n",
    "sc = SparkContext(conf=conf)"
   ]
  },
  {
   "cell_type": "code",
   "execution_count": 3,
   "metadata": {
    "collapsed": true
   },
   "outputs": [],
   "source": [
    "from pyspark.ml.feature import Imputer\n",
    "from pyspark.mllib.regression import LabeledPoint\n",
    "from pyspark.mllib.regression import LinearRegressionWithSGD\n",
    "from pyspark.mllib.tree import DecisionTree\n",
    "from pyspark.sql.functions import *\n",
    "from pyspark.sql import SQLContext\n",
    "from pyspark.sql.functions import lit\n",
    "sqlContext = SQLContext(sc)"
   ]
  },
  {
   "cell_type": "markdown",
   "metadata": {},
   "source": [
    "### Load data\n",
    "Next we can load the data and split the csv file by *comma* delimited mode."
   ]
  },
  {
   "cell_type": "code",
   "execution_count": 4,
   "metadata": {
    "collapsed": true
   },
   "outputs": [],
   "source": [
    "# Read data\n",
    "auto = sc.textFile(\"/home/tim/e63-coursework/hw7/data/auto_mpg_original-1.csv\",\n",
    "                   use_unicode=False)\n",
    "\n",
    "# Split data\n",
    "autordd = auto.map(lambda line: line.split(\",\"))"
   ]
  },
  {
   "cell_type": "markdown",
   "metadata": {},
   "source": [
    "With that we can add the column names and split the dataset into numerical and categorical variables."
   ]
  },
  {
   "cell_type": "code",
   "execution_count": 5,
   "metadata": {
    "collapsed": true
   },
   "outputs": [],
   "source": [
    "# Create dataframe\n",
    "df = autordd.map(lambda line: Row(mpg = line[0], cylinders = line[1],\n",
    "                                  displacement=line[2], horsepower=line[3],\n",
    "                                  weight=line[4], acceleration=line[5],\n",
    "                                  my=line[6], origin=line[7],\n",
    "                                  name=line[8])).toDF()\n",
    "\n",
    "# Define numeric variables\n",
    "df_num = df.select(df.mpg.cast('float'), df.displacement.cast('float'),\n",
    "                   df.horsepower.cast('float'), df.weight.cast('float'),\n",
    "                   df.acceleration.cast('float'), df.cylinders.cast('float'),\n",
    "                   df.my.cast('float'), df.origin.cast('float'))\n",
    "\n",
    "# Define categorical variables\n",
    "df_cat = df.select(df.name.cast('string'))"
   ]
  },
  {
   "cell_type": "markdown",
   "metadata": {},
   "source": [
    "### Numerical variables\n",
    "Next we can have a look at the summary statistic of the numerical variabels."
   ]
  },
  {
   "cell_type": "code",
   "execution_count": 6,
   "metadata": {},
   "outputs": [
    {
     "name": "stdout",
     "output_type": "stream",
     "text": [
      "+-------+-----------------+------------------+------------------+------------------+\n",
      "|summary|              mpg|      displacement|        horsepower|            weight|\n",
      "+-------+-----------------+------------------+------------------+------------------+\n",
      "|  count|              405|               406|               405|               406|\n",
      "|   mean|23.49333333144953| 194.7795566502463|104.83703703703704|2979.4137931034484|\n",
      "| stddev|7.778236919313246|104.92245837948875|38.655601865131466| 847.0043282393509|\n",
      "|    min|              9.0|              68.0|              46.0|            1613.0|\n",
      "|    max|             46.6|             455.0|             230.0|            5140.0|\n",
      "+-------+-----------------+------------------+------------------+------------------+\n",
      "\n"
     ]
    }
   ],
   "source": [
    "# Calculate summary\n",
    "df_num_summary = df_num.describe()\n",
    "\n",
    "# Show numeric variabels I\n",
    "df_num_summary['summary', 'mpg', 'displacement', 'horsepower', 'weight'].show()"
   ]
  },
  {
   "cell_type": "code",
   "execution_count": 7,
   "metadata": {},
   "outputs": [
    {
     "name": "stdout",
     "output_type": "stream",
     "text": [
      "+-------+------------------+------------------+-----------------+------------------+\n",
      "|summary|      acceleration|         cylinders|               my|            origin|\n",
      "+-------+------------------+------------------+-----------------+------------------+\n",
      "|  count|               406|               406|              406|               406|\n",
      "|   mean|15.519704440544391| 5.475369458128079|75.92118226600985|1.5689655172413792|\n",
      "| stddev| 2.803358855032557|1.7121596315485292|3.748737345455887|0.7974789993244706|\n",
      "|    min|               8.0|               3.0|             70.0|               1.0|\n",
      "|    max|              24.8|               8.0|             82.0|               3.0|\n",
      "+-------+------------------+------------------+-----------------+------------------+\n",
      "\n"
     ]
    }
   ],
   "source": [
    "# Show numeric variable II\n",
    "df_num_summary['summary', 'acceleration', 'cylinders', 'my', 'origin'].show()"
   ]
  },
  {
   "cell_type": "markdown",
   "metadata": {},
   "source": [
    "The above count statistics show, that there are NA's present. This appears to be the case for *mpg* and *horsepower*."
   ]
  },
  {
   "cell_type": "markdown",
   "metadata": {},
   "source": [
    "### Impute Values\n",
    "With Spark 2.2. there is a new the impute function available. With the help of this function the null values can be replaced with the group mean. "
   ]
  },
  {
   "cell_type": "code",
   "execution_count": 8,
   "metadata": {
    "collapsed": true
   },
   "outputs": [],
   "source": [
    "# Impute NA's with the average (new function on Spark 2.2)\n",
    "imputer = Imputer(inputCols=df_num.columns, outputCols=[\"{}\".format(c)\n",
    "                                                        for c in df_num.columns])\n",
    "df_num = imputer.setStrategy(\"mean\").fit(df_num).transform(df_num)"
   ]
  },
  {
   "cell_type": "markdown",
   "metadata": {},
   "source": [
    "### Join numeric and categorical together\n",
    "Having imputed the numerical variables, the next step is to join the dataframe back into one."
   ]
  },
  {
   "cell_type": "code",
   "execution_count": 9,
   "metadata": {},
   "outputs": [
    {
     "name": "stdout",
     "output_type": "stream",
     "text": [
      "+----+------------+----------+------+------------+---------+----+------+-------+\n",
      "| mpg|displacement|horsepower|weight|acceleration|cylinders|  my|origin|   name|\n",
      "+----+------------+----------+------+------------+---------+----+------+-------+\n",
      "|25.0|       110.0|      87.0|2672.0|        17.5|      4.0|70.0|   2.0|peugeot|\n",
      "|26.0|       121.0|     113.0|2234.0|        12.5|      4.0|70.0|   2.0|    bmw|\n",
      "|27.2|       119.0|      97.0|2300.0|        14.7|      4.0|78.0|   3.0| datsun|\n",
      "|25.0|        97.5|      80.0|2126.0|        17.0|      4.0|72.0|   1.0|  dodge|\n",
      "|25.0|       140.0|      92.0|2572.0|        14.9|      4.0|76.0|   1.0|  capri|\n",
      "+----+------------+----------+------+------------+---------+----+------+-------+\n",
      "only showing top 5 rows\n",
      "\n"
     ]
    }
   ],
   "source": [
    "# Add ID variable\n",
    "df_num = df_num.withColumn(\"row_id\", monotonically_increasing_id())\n",
    "df_cat = df_cat.withColumn(\"row_id\", monotonically_increasing_id())\n",
    "\n",
    "# Join dataframe\n",
    "df2 = df_num.join(df_cat, \"row_id\").drop(\"row_id\")\n",
    "\n",
    "# Show data\n",
    "df2.show(5)"
   ]
  },
  {
   "cell_type": "markdown",
   "metadata": {},
   "source": [
    "**Note:** In order to use the categorical variable *name* we use *1-of-k binary encoding*. This is not necessary for the analysis in problem 2. "
   ]
  },
  {
   "cell_type": "markdown",
   "metadata": {},
   "source": [
    "### Select variables\n",
    "For the following analysis in problem 2, only variables *mpg* and *horsepower* are used. That is we only select those values."
   ]
  },
  {
   "cell_type": "code",
   "execution_count": 10,
   "metadata": {},
   "outputs": [
    {
     "name": "stdout",
     "output_type": "stream",
     "text": [
      "+----+----------+\n",
      "| mpg|horsepower|\n",
      "+----+----------+\n",
      "|25.0|      87.0|\n",
      "|26.0|     113.0|\n",
      "|27.2|      97.0|\n",
      "|25.0|      80.0|\n",
      "|25.0|      92.0|\n",
      "+----+----------+\n",
      "only showing top 5 rows\n",
      "\n"
     ]
    }
   ],
   "source": [
    "# Select variables\n",
    "df3 = df2.select(df2.mpg.cast('float'), df2.horsepower.cast('float'))\n",
    "\n",
    "# Show data\n",
    "df3.show(5)"
   ]
  },
  {
   "cell_type": "markdown",
   "metadata": {},
   "source": [
    "### Labeled points (could also be done in problem 2)\n",
    "In order to programmatically tell the ML Algorithm the features and target variables we're adding labeled points to the data. "
   ]
  },
  {
   "cell_type": "code",
   "execution_count": 11,
   "metadata": {},
   "outputs": [
    {
     "data": {
      "text/plain": [
       "[LabeledPoint(25.0, [87.0]),\n",
       " LabeledPoint(26.0, [113.0]),\n",
       " LabeledPoint(27.2000007629, [97.0]),\n",
       " LabeledPoint(25.0, [80.0]),\n",
       " LabeledPoint(25.0, [92.0])]"
      ]
     },
     "execution_count": 11,
     "metadata": {},
     "output_type": "execute_result"
    }
   ],
   "source": [
    "# Create labeled points\n",
    "df_labeled = df3.rdd.map(lambda r : LabeledPoint(r[0], r[1:]))\n",
    "df_labeled.take(5)"
   ]
  },
  {
   "cell_type": "markdown",
   "metadata": {},
   "source": [
    "### Creat test and train dataframes\n",
    "In order to control for overfitting we're creating datasets for training (80%) and testing (20%) the models."
   ]
  },
  {
   "cell_type": "code",
   "execution_count": 12,
   "metadata": {
    "collapsed": true
   },
   "outputs": [],
   "source": [
    "# Test and learning set.\n",
    "df_train, df_test = df_labeled.randomSplit([.8, .2], seed=123)\n",
    "\n",
    "# Cache data\n",
    "df_train = df_train.cache()\n",
    "df_test = df_test.cache()"
   ]
  },
  {
   "cell_type": "markdown",
   "metadata": {},
   "source": [
    "### Summary of the data"
   ]
  },
  {
   "cell_type": "code",
   "execution_count": 13,
   "metadata": {},
   "outputs": [
    {
     "name": "stdout",
     "output_type": "stream",
     "text": [
      "Training data size: 315\n",
      "Test data size: 91\n",
      "Total data size: 406 \n",
      "Train + Test size : 406\n"
     ]
    }
   ],
   "source": [
    "# Get values\n",
    "print \"Training data size: %d\" % df_train.count()\n",
    "print \"Test data size: %d\" % df_test.count()\n",
    "print \"Total data size: %d \" % df3.count()\n",
    "print \"Train + Test size : %d\" % (df_train.count() + df_test.count())"
   ]
  },
  {
   "cell_type": "markdown",
   "metadata": {},
   "source": [
    "There are 315 observation in the training set and 91 in the testset. This is equal to the number of observations in the overall dataset."
   ]
  },
  {
   "cell_type": "markdown",
   "metadata": {},
   "source": [
    "# Problem 2 (25%)\n",
    "**Question:** Look initially at two variables in the data set from the previous problem: the *horsepower* and the *mpg* (miles per gallon). Treat *mpg* as a feature and *horsepower* as the target variable (label). Use *MLlib* linear regression to identify the model for the relationship. Use the *test data* to illustrate *accuracy* of the *linear regression model* and its ability to predict the relationship. Calculate *two standard measures* of model *accuracy*. Create a *diagram* using any technique of convenience to presents the model (straight line), and the original test data. Please label your axes and use different colors for original data and predicted data.\n"
   ]
  },
  {
   "cell_type": "markdown",
   "metadata": {},
   "source": [
    "### Accuracy functions\n",
    "We're first defining the accuracy function. We're measaring the *mean squared error*, *mean absolut error* and the *root mean squared log error*.  "
   ]
  },
  {
   "cell_type": "code",
   "execution_count": 14,
   "metadata": {
    "collapsed": true
   },
   "outputs": [],
   "source": [
    "# MSE\n",
    "def squared_error(actual, pred):\n",
    "    return (pred - actual)**2\n",
    "\n",
    "# MAE\n",
    "def abs_error(actual, pred):\n",
    "    return np.abs(pred - actual)\n",
    "\n",
    "# RMSLE\n",
    "def squared_log_error(pred, actual):\n",
    "    return (np.log(pred + 1) - np.log(actual + 1))**2"
   ]
  },
  {
   "cell_type": "markdown",
   "metadata": {},
   "source": [
    "### Regression model\n",
    "Next we're calculating a linear regression model."
   ]
  },
  {
   "cell_type": "code",
   "execution_count": null,
   "metadata": {},
   "outputs": [],
   "source": [
    "# Calculate model\n",
    "fit_lin = LinearRegressionWithSGD.train(df_train, 1000, .0001, intercept=False)\n",
    "print(\"Linear Model Info:\" + str (fit_lin))"
   ]
  },
  {
   "cell_type": "markdown",
   "metadata": {},
   "source": [
    "### Prediction\n",
    "Having the above model we're next calculating the estimated values on the test set. Based on that we can calculate the accuracy rate."
   ]
  },
  {
   "cell_type": "code",
   "execution_count": 16,
   "metadata": {},
   "outputs": [
    {
     "name": "stdout",
     "output_type": "stream",
     "text": [
      "Linear model: Mean squared error: 242.6391\n",
      "Linear model: Mean absolute error: 12.3945\n",
      "Linear model: Root mean squared log error: 0.6914\n"
     ]
    }
   ],
   "source": [
    "# Calculate true vs. prediction\n",
    "tbl_pred = df_test.map(lambda x: (x.label, fit_lin.predict(x.features)))\n",
    "\n",
    "# Calculate two accuracy measures\n",
    "mse = tbl_pred.map(lambda (t, p): squared_error(t, p)).mean()\n",
    "mae = tbl_pred.map(lambda (t, p): abs_error(t, p)).mean()\n",
    "rmsle = np.sqrt(tbl_pred.map(lambda(t,p):squared_log_error(t,p)).mean())\n",
    "\n",
    "# Print output\n",
    "print (\"Linear model: Mean squared error: %2.4f\" % mse)\n",
    "print (\"Linear model: Mean absolute error: %2.4f\" % mae)\n",
    "print (\"Linear model: Root mean squared log error: %2.4f\" % rmsle)"
   ]
  },
  {
   "cell_type": "markdown",
   "metadata": {},
   "source": [
    "It appears that we're producing a bit of error. However, we have to be careful with the interpretation as we didn't standartize the model. Furthermore, in order to make the accuracy measures comparable we would have to calculate a baseline model. Without all this there is however another method assessing the goodness of fit and that is to visualize the model in a scatterplot."
   ]
  },
  {
   "cell_type": "markdown",
   "metadata": {},
   "source": [
    "### Visualization\n",
    "Having calculated the accuracy rate a good indicator for the goodness of fit is to visualize the data. "
   ]
  },
  {
   "cell_type": "code",
   "execution_count": 17,
   "metadata": {
    "collapsed": true
   },
   "outputs": [],
   "source": [
    "pd_train_pred = df_train.map(lambda p: (float(p.label), float(fit_lin.predict(p.features)),\n",
    "                                        float(p.features[0]))).toDF().toPandas()\n",
    "pd_test_pred = df_test.map(lambda p: (float(p.label), float(fit_lin.predict(p.features)),\n",
    "                                      float(p.features[0]))).toDF().toPandas()\n",
    "pd_train_pred.columns = ['mpg', 'mpg_pred', 'horsepower']\n",
    "pd_test_pred.columns = ['mpg', 'mpg_pred', 'horsepower']"
   ]
  },
  {
   "cell_type": "markdown",
   "metadata": {},
   "source": [
    "### Plot I: Actual vs. prediction (test data)\n",
    "In order to see the goodness of fit we're visualizing the model on top of a scatterplot."
   ]
  },
  {
   "cell_type": "code",
   "execution_count": 18,
   "metadata": {},
   "outputs": [
    {
     "data": {
      "image/png": "[encoded data removed]",
      "text/plain": [
       "<matplotlib.figure.Figure at 0x7f4ce6fd3c50>"
      ]
     },
     "metadata": {},
     "output_type": "display_data"
    }
   ],
   "source": [
    "plt.figure(1, figsize=(12,8))\n",
    "plt.scatter(pd_test_pred['horsepower'], pd_test_pred['mpg'],\n",
    "            c='darkblue', alpha=0.5, edgecolor=\"\")\n",
    "plt.plot(pd_test_pred['horsepower'], pd_test_pred['mpg_pred'],\n",
    "         c='darkred', alpha=0.8)\n",
    "plt.xlabel('horsepower')\n",
    "plt.ylabel('mpg')\n",
    "plt.title('Miles per gallon - Actual vs. predictions (Test data)')\n",
    "plt.show()"
   ]
  },
  {
   "cell_type": "markdown",
   "metadata": {},
   "source": [
    "As can be seen above, the model is quit a bad fit for the data. This is because the data appears no be of a polynomic nature. If we'd like to stick to the regression method, a good next step would be to fit fit a model with a quadratic term and an intercept. However, an alternative would be to fit a non-linear model such as a regression tree. This is what we're going to do in problem 4.  "
   ]
  },
  {
   "cell_type": "markdown",
   "metadata": {},
   "source": [
    "### Plot I: Actual vs. prediction (all data) [optional]\n",
    "Because we only took 20% of the data as test. I also visualized the overall data to the model. However, the conclusion is the same as above."
   ]
  },
  {
   "cell_type": "code",
   "execution_count": 19,
   "metadata": {},
   "outputs": [
    {
     "data": {
      "image/png": "[encoded data removed]",
      "text/plain": [
       "<matplotlib.figure.Figure at 0x7f4cdb02a110>"
      ]
     },
     "metadata": {},
     "output_type": "display_data"
    }
   ],
   "source": [
    "plt.figure(1, figsize=(12,8))\n",
    "plt.scatter(pd_test_pred['horsepower'], pd_test_pred['mpg'],\n",
    "            c='darkblue', alpha=0.5, edgecolor=\"\")\n",
    "plt.scatter(pd_train_pred['horsepower'], pd_train_pred['mpg'],\n",
    "            c='darkgreen', alpha=0.5, edgecolor=\"\")\n",
    "plt.plot(pd_test_pred['horsepower'], pd_test_pred['mpg_pred'],\n",
    "         c='darkred', alpha=0.8)\n",
    "plt.xlabel('horsepower')\n",
    "plt.ylabel('mpg')\n",
    "plt.title('Miles per gallon - Actual vs. predictions (all available data)')\n",
    "plt.show()"
   ]
  },
  {
   "cell_type": "markdown",
   "metadata": {},
   "source": [
    "# Problem 3 (25%)\n",
    "**Question:** Consider attached file *Bike-Sharing-Dataset.zip*. This is the bike set discussed in class. Do *not* use all columns of the data set. Retain the following variables: *season, yr, mnth, hr, holiday, weekday, workingday, weathersit, temp, atemp, hum, windspeed, cnt*. Discard others. Regard *cnt* as the target variable and all other variables as features.  Please note that some of those are categorical variables. Identify categorical variables and use *1-of-k* *binary encoding* for those variables. If there are any null values in numerical columns, replace those with average values for those columns using *Spark DataFrame API*. Train your model using *LinearRegressionSGD* method. Use test data (15% of all) to assess the quality of prediction for *cnt* variable. Calculate at least two performance metrics of your model."
   ]
  },
  {
   "cell_type": "markdown",
   "metadata": {},
   "source": [
    "### Functions\n",
    "The following functions are used in this problem set."
   ]
  },
  {
   "cell_type": "code",
   "execution_count": 20,
   "metadata": {
    "collapsed": true
   },
   "outputs": [],
   "source": [
    "def get_mapping(rdd, idx):\n",
    "    return rdd.map(lambda fields: fields[idx]).distinct()\n",
    "                                  .zipWithIndex().collectAsMap()\n",
    "\n",
    "def extract_features(record):\n",
    "    cat_vec = np.zeros(cat_len)\n",
    "    i = 0\n",
    "    step = 0\n",
    "    for field in record[0:8] :\n",
    "        m = mappings[i]\n",
    "        idx = m[field]\n",
    "        cat_vec[idx + step] = 1\n",
    "        i = i + 1\n",
    "        step = step + len(m)\n",
    "    num_vec = np.array([float(field) for field in record[8:12]])\n",
    "    return np.concatenate((cat_vec, num_vec))\n",
    "\n",
    "def extract_label(record):\n",
    "    return float(record[-1])"
   ]
  },
  {
   "cell_type": "markdown",
   "metadata": {},
   "source": [
    "### Creat spark context"
   ]
  },
  {
   "cell_type": "code",
   "execution_count": 21,
   "metadata": {
    "collapsed": true
   },
   "outputs": [],
   "source": [
    "from pyspark.sql import SparkSession\n",
    "spark = SparkSession.builder.master(\"local\").appName(\"p3_df_count\")\n",
    "                            .getOrCreate()"
   ]
  },
  {
   "cell_type": "markdown",
   "metadata": {},
   "source": [
    "### Load data\n",
    "We're first loading the from the csv file as well as droping some unwanted variables.  "
   ]
  },
  {
   "cell_type": "code",
   "execution_count": 22,
   "metadata": {
    "collapsed": true
   },
   "outputs": [],
   "source": [
    "# Load data\n",
    "df_bike = spark.read.csv(\"file:///home/tim/e63-coursework/hw7/data/hour.csv\",\n",
    "                         nullValue='NA', header=True)"
   ]
  },
  {
   "cell_type": "code",
   "execution_count": 23,
   "metadata": {
    "collapsed": true
   },
   "outputs": [],
   "source": [
    "# Select data and arrange (categories first) \n",
    "df_bike = df_bike.select(df_bike.season.cast('float'), df_bike.yr.cast('float'),\n",
    "                         df_bike.mnth.cast('float'), df_bike.hr.cast('float'),\n",
    "                         df_bike.holiday.cast('float'), df_bike.weekday.cast('float'),\n",
    "                         df_bike.workingday.cast('float'), df_bike.weathersit.cast('float'),\n",
    "                         df_bike.temp.cast('float'), df_bike.atemp.cast('float'),\n",
    "                         df_bike.hum.cast('float'), df_bike.windspeed.cast('float'),\n",
    "                         df_bike.cnt.cast('float'))"
   ]
  },
  {
   "cell_type": "markdown",
   "metadata": {},
   "source": [
    "### Impute missings\n",
    "Next we're imputing missing values with the average value"
   ]
  },
  {
   "cell_type": "code",
   "execution_count": 24,
   "metadata": {
    "collapsed": true
   },
   "outputs": [],
   "source": [
    "# Impute NA's with the average (new function on Spark 2.2)\n",
    "imputer = Imputer(inputCols=df_bike.columns, outputCols=[\"{}\".format(c)\n",
    "                                                         for c in df_bike.columns])\n",
    "x = imputer.setStrategy(\"mean\").fit(df_bike).transform(df_bike)"
   ]
  },
  {
   "cell_type": "markdown",
   "metadata": {},
   "source": [
    "### Look at the data\n",
    "Next we can have a first look at the data"
   ]
  },
  {
   "cell_type": "code",
   "execution_count": 25,
   "metadata": {},
   "outputs": [
    {
     "name": "stdout",
     "output_type": "stream",
     "text": [
      "+------+---+----+---+-------+-------+----------+----------+----+------+----+---------+----+\n",
      "|season| yr|mnth| hr|holiday|weekday|workingday|weathersit|temp| atemp| hum|windspeed| cnt|\n",
      "+------+---+----+---+-------+-------+----------+----------+----+------+----+---------+----+\n",
      "|   1.0|0.0| 1.0|0.0|    0.0|    6.0|       0.0|       1.0|0.24|0.2879|0.81|      0.0|16.0|\n",
      "|   1.0|0.0| 1.0|1.0|    0.0|    6.0|       0.0|       1.0|0.22|0.2727| 0.8|      0.0|40.0|\n",
      "|   1.0|0.0| 1.0|2.0|    0.0|    6.0|       0.0|       1.0|0.22|0.2727| 0.8|      0.0|32.0|\n",
      "|   1.0|0.0| 1.0|3.0|    0.0|    6.0|       0.0|       1.0|0.24|0.2879|0.75|      0.0|13.0|\n",
      "|   1.0|0.0| 1.0|4.0|    0.0|    6.0|       0.0|       1.0|0.24|0.2879|0.75|      0.0| 1.0|\n",
      "+------+---+----+---+-------+-------+----------+----------+----+------+----+---------+----+\n",
      "only showing top 5 rows\n",
      "\n"
     ]
    }
   ],
   "source": [
    "df_bike.show(5)"
   ]
  },
  {
   "cell_type": "markdown",
   "metadata": {},
   "source": [
    "### Seting type\n",
    "Next we're setting the type of the variables"
   ]
  },
  {
   "cell_type": "code",
   "execution_count": 26,
   "metadata": {},
   "outputs": [
    {
     "name": "stdout",
     "output_type": "stream",
     "text": [
      "+------+---+----+---+-------+-------+----------+----------+----+------+----+---------+----+\n",
      "|season| yr|mnth| hr|holiday|weekday|workingday|weathersit|temp| atemp| hum|windspeed| cnt|\n",
      "+------+---+----+---+-------+-------+----------+----------+----+------+----+---------+----+\n",
      "|     1|  0|   1|  0|      0|      6|         0|         1|0.24|0.2879|0.81|      0.0|16.0|\n",
      "|     1|  0|   1|  1|      0|      6|         0|         1|0.22|0.2727| 0.8|      0.0|40.0|\n",
      "|     1|  0|   1|  2|      0|      6|         0|         1|0.22|0.2727| 0.8|      0.0|32.0|\n",
      "|     1|  0|   1|  3|      0|      6|         0|         1|0.24|0.2879|0.75|      0.0|13.0|\n",
      "|     1|  0|   1|  4|      0|      6|         0|         1|0.24|0.2879|0.75|      0.0| 1.0|\n",
      "+------+---+----+---+-------+-------+----------+----------+----+------+----+---------+----+\n",
      "only showing top 5 rows\n",
      "\n"
     ]
    }
   ],
   "source": [
    "# Select data and arrange (categories first) \n",
    "df_bike = df_bike.select(df_bike.season.cast('int'), df_bike.yr.cast('int'),\n",
    "                         df_bike.mnth.cast('int'), df_bike.hr.cast('int'),\n",
    "                         df_bike.holiday.cast('int'), df_bike.weekday.cast('int'),\n",
    "                         df_bike.workingday.cast('int'), df_bike.weathersit.cast('int'),\n",
    "                         df_bike.temp.cast('float'), df_bike.atemp.cast('float'),\n",
    "                         df_bike.hum.cast('float'), df_bike.windspeed.cast('float'),\n",
    "                         df_bike.cnt.cast('float'))\n",
    "df_bike.show(5)"
   ]
  },
  {
   "cell_type": "markdown",
   "metadata": {},
   "source": [
    "We are left with 12 variables (features). The first eight are categorical, while the last 4\n",
    "are numeric variables. The target variable is *cnt*"
   ]
  },
  {
   "cell_type": "markdown",
   "metadata": {},
   "source": [
    "### Get mapping\n",
    "Next we're getting the mapping of the values "
   ]
  },
  {
   "cell_type": "code",
   "execution_count": 27,
   "metadata": {},
   "outputs": [
    {
     "name": "stdout",
     "output_type": "stream",
     "text": [
      "[{1: 0, 2: 1, 3: 2, 4: 3}, {0: 0, 1: 1}, {1: 0, 2: 1, 3: 2, 4: 3, 5: 4, 6: 5, 7: 6, 8: 7, 9: 8, 10: 9, 11: 10, 12: 11}, {0: 0, 1: 1, 2: 2, 3: 3, 4: 4, 5: 5, 6: 6, 7: 7, 8: 8, 9: 9, 10: 10, 11: 11, 12: 12, 13: 13, 14: 14, 15: 15, 16: 16, 17: 17, 18: 18, 19: 19, 20: 20, 21: 21, 22: 22, 23: 23}, {0: 0, 1: 1}, {0: 0, 1: 1, 2: 2, 3: 3, 4: 4, 5: 5, 6: 6}, {0: 0, 1: 1}, {1: 0, 2: 1, 3: 2, 4: 3}]\n"
     ]
    }
   ],
   "source": [
    "rdd_bike = df_bike.rdd\n",
    "mappings = [get_mapping(rdd_bike, i) for i in range(0,8)]\n",
    "print (mappings)"
   ]
  },
  {
   "cell_type": "markdown",
   "metadata": {},
   "source": [
    "### Summary data"
   ]
  },
  {
   "cell_type": "code",
   "execution_count": 28,
   "metadata": {},
   "outputs": [
    {
     "name": "stdout",
     "output_type": "stream",
     "text": [
      "(0.23999999463558197, 0.28790000081062317, 0.8100000023841858, 0.0)\n"
     ]
    }
   ],
   "source": [
    "cat_len = np.sum(map(len, mappings))\n",
    "print(rdd_bike.first()[8:12])\n",
    "num_len = len(rdd_bike.first()[8:12])\n",
    "total_len = num_len + cat_len"
   ]
  },
  {
   "cell_type": "code",
   "execution_count": 29,
   "metadata": {},
   "outputs": [
    {
     "name": "stdout",
     "output_type": "stream",
     "text": [
      "Feature vector length for categorical features: 57\n",
      "Feature vector length for numerical features: 4\n",
      "Total feature vector length: 61\n"
     ]
    }
   ],
   "source": [
    "print \"Feature vector length for categorical features: %d\" % cat_len\n",
    "print \"Feature vector length for numerical features: %d\" % num_len\n",
    "print \"Total feature vector length: %d\" % total_len"
   ]
  },
  {
   "cell_type": "markdown",
   "metadata": {
    "collapsed": true
   },
   "source": [
    "There are 57 categorical features (dummys) and 4 numerical features in the data."
   ]
  },
  {
   "cell_type": "markdown",
   "metadata": {},
   "source": [
    "### Define labeled points\n",
    "Next we're defining the labeled points"
   ]
  },
  {
   "cell_type": "code",
   "execution_count": 30,
   "metadata": {},
   "outputs": [
    {
     "data": {
      "text/plain": [
       "[Row(season=1, yr=0, mnth=1, hr=0, holiday=0, weekday=6, workingday=0, weathersit=1, temp=0.23999999463558197, atemp=0.28790000081062317, hum=0.8100000023841858, windspeed=0.0, cnt=16.0),\n",
       " Row(season=1, yr=0, mnth=1, hr=1, holiday=0, weekday=6, workingday=0, weathersit=1, temp=0.2199999988079071, atemp=0.2727000117301941, hum=0.800000011920929, windspeed=0.0, cnt=40.0),\n",
       " Row(season=1, yr=0, mnth=1, hr=2, holiday=0, weekday=6, workingday=0, weathersit=1, temp=0.2199999988079071, atemp=0.2727000117301941, hum=0.800000011920929, windspeed=0.0, cnt=32.0),\n",
       " Row(season=1, yr=0, mnth=1, hr=3, holiday=0, weekday=6, workingday=0, weathersit=1, temp=0.23999999463558197, atemp=0.28790000081062317, hum=0.75, windspeed=0.0, cnt=13.0),\n",
       " Row(season=1, yr=0, mnth=1, hr=4, holiday=0, weekday=6, workingday=0, weathersit=1, temp=0.23999999463558197, atemp=0.28790000081062317, hum=0.75, windspeed=0.0, cnt=1.0)]"
      ]
     },
     "execution_count": 30,
     "metadata": {},
     "output_type": "execute_result"
    }
   ],
   "source": [
    "rdd_bike.take(5)"
   ]
  },
  {
   "cell_type": "code",
   "execution_count": 31,
   "metadata": {},
   "outputs": [
    {
     "name": "stdout",
     "output_type": "stream",
     "text": [
      "Label: 16.0\n",
      "Linear Model feature vector:\n",
      "[1.0,0.0,0.0,0.0,1.0,0.0,1.0,0.0,0.0,0.0,0.0,0.0,0.0,0.0,0.0,0.0,0.0,0.0,1.0,0.0,0.0,0.0,0.0,0.0,0.0,0.0,0.0,0.0,0.0,0.0,0.0,0.0,0.0,0.0,0.0,0.0,0.0,0.0,0.0,0.0,0.0,0.0,1.0,0.0,0.0,0.0,0.0,0.0,0.0,0.0,1.0,1.0,0.0,1.0,0.0,0.0,0.0,0.239999994636,0.287900000811,0.810000002384,0.0]\n",
      "Linear Model feature vector length: 61\n"
     ]
    }
   ],
   "source": [
    "rdd_bike2 = rdd_bike.map(lambda r: LabeledPoint(extract_label(r),\n",
    "                                                extract_features(r)))\n",
    "first_point = rdd_bike2.first()\n",
    "print (\"Label: \" + str(first_point.label))\n",
    "print (\"Linear Model feature vector:\\n\" + str(first_point.features))\n",
    "print (\"Linear Model feature vector length: \" + str(len(first_point.features)))"
   ]
  },
  {
   "cell_type": "markdown",
   "metadata": {},
   "source": [
    "### Creat test and train\n",
    "We're spliting the data into 85% training and 15% testing data"
   ]
  },
  {
   "cell_type": "code",
   "execution_count": 32,
   "metadata": {
    "collapsed": true
   },
   "outputs": [],
   "source": [
    "df_train, df_test = rdd_bike2.randomSplit([.85, .15], seed=123)\n",
    "df_train = df_train.cache()\n",
    "df_test = df_test.cache()"
   ]
  },
  {
   "cell_type": "markdown",
   "metadata": {},
   "source": [
    "### Linear regression\n",
    "Next we're calculating the regression model with all the features against the training data."
   ]
  },
  {
   "cell_type": "code",
   "execution_count": 33,
   "metadata": {},
   "outputs": [
    {
     "name": "stdout",
     "output_type": "stream",
     "text": [
      "(weights=[0.116168979055,0.226422311253,0.26017070975,0.207218347234,0.304143328575,0.505837018717,0.0327945991684,0.0371773618931,0.0565337706308,0.0667011789332,0.0826814154315,0.08409107946,0.0845591998996,0.0860952081048,0.0857801993262,0.0788704146215,0.0627833600318,0.0519125597911,0.00969022399079,0.00582491092694,0.00384725572485,0.0018203010546,0.000830987831168,0.00321118575128,0.013049629389,0.0377621318743,0.0640003475319,0.0403187705981,0.0308375689067,0.0370608113163,0.0439918363766,0.0464577971115,0.0443805281468,0.0446948528925,0.0558068757195,0.0848836817634,0.0780685691973,0.0535618729009,0.0403094627869,0.0303207829371,0.0237388557259,0.0155111068376,0.791105781616,0.0188745656761,0.110501437704,0.111924945903,0.114882532903,0.117153119476,0.11907608301,0.118079632458,0.118362595839,0.247738599219,0.562241748073,0.575140943642,0.195657963559,0.0391272241901,5.42159009355e-05,0.463262393904,0.439289547053,0.45879690772,0.163250877965], intercept=0.0)\n"
     ]
    }
   ],
   "source": [
    "fit_lin = LinearRegressionWithSGD.train(df_train, 500, .0001)\n",
    "print(fit_lin)"
   ]
  },
  {
   "cell_type": "markdown",
   "metadata": {},
   "source": [
    "### Prediction\n",
    "With the above model we can predict the values from the test dataset."
   ]
  },
  {
   "cell_type": "code",
   "execution_count": 34,
   "metadata": {},
   "outputs": [
    {
     "name": "stdout",
     "output_type": "stream",
     "text": [
      "Linear Model predictions: [(36.0, 2.9554706504526154), (110.0, 2.649529971102679), (53.0, 2.556992508024055), (53.0, 2.4540270975512151), (61.0, 2.9512112721402763), (72.0, 2.9442030091125835), (76.0, 2.9553150319396515), (52.0, 3.0093229888232536), (112.0, 3.0116659774994385), (2.0, 3.0173947703379684)]\n"
     ]
    }
   ],
   "source": [
    "df_pred = df_test.map(lambda p: (p.label, fit_lin.predict(p.features)))\n",
    "print (\"Linear Model predictions: \" + str(df_pred.take(10)))"
   ]
  },
  {
   "cell_type": "markdown",
   "metadata": {},
   "source": [
    "### Accuracy\n",
    "Next we can calculate the accuracy of our model."
   ]
  },
  {
   "cell_type": "code",
   "execution_count": 35,
   "metadata": {},
   "outputs": [
    {
     "name": "stdout",
     "output_type": "stream",
     "text": [
      "Linear model: - Mean squared error: 242.6391\n",
      "Linear model: - Mean absolute error: 12.3945\n",
      "Linear model: - Root mean squared log error: 0.6914\n"
     ]
    }
   ],
   "source": [
    "mse2 = df_pred.map(lambda (t, p): squared_error(t, p)).mean()\n",
    "mae2 = df_pred.map(lambda (t, p): abs_error(t, p)).mean()\n",
    "rmsle2=np.sqrt(df_pred.map(lambda(t,p):squared_log_error(t,p)).mean())\n",
    "print (\"Linear model: - Mean squared error: %2.4f\" % mse)\n",
    "print (\"Linear model: - Mean absolute error: %2.4f\" % mae)\n",
    "print (\"Linear model: - Root mean squared log error: %2.4f\" % rmsle)"
   ]
  },
  {
   "cell_type": "markdown",
   "metadata": {},
   "source": [
    "The model has a MSE of 242.64 and a MAE of 12.39 while the RMSLE is at 0.69."
   ]
  },
  {
   "cell_type": "markdown",
   "metadata": {},
   "source": [
    "# Problem 4 (25%)\n",
    "**Question:** Use a *Decision Tree model* to predict *mpg* values in *auto_mpg_original.txt* data. Assess accuracy of your prediction using at least two performance metrics."
   ]
  },
  {
   "cell_type": "markdown",
   "metadata": {},
   "source": [
    "### Functions\n",
    "The below problem needs the following functions to be solved."
   ]
  },
  {
   "cell_type": "code",
   "execution_count": 36,
   "metadata": {
    "collapsed": true
   },
   "outputs": [],
   "source": [
    "def extract_features(record):\n",
    "    cat_vec = np.zeros(cat_len)\n",
    "    i = 0\n",
    "    step = 0\n",
    "    for field in record[0:4] :\n",
    "        m = mappings[i]\n",
    "        idx = m[field]\n",
    "        cat_vec[idx + step] = 1\n",
    "        i = i + 1\n",
    "        step = step + len(m)\n",
    "    num_vec = np.array([float(field) for field in record[4:8]])\n",
    "    return np.concatenate((cat_vec, num_vec))\n",
    "\n",
    "def extract_features_dt(record):\n",
    "    return np.array(map(float, record[0:8]))"
   ]
  },
  {
   "cell_type": "markdown",
   "metadata": {},
   "source": [
    "### Prepare data\n",
    "First we're preparing the dataframe. We're using the same dataframe as used in problem 1 & 2. That means we can pick up from dataframe2 (df2). The advantage of the regression tree is that we can simply hash the car name for our analyis. "
   ]
  },
  {
   "cell_type": "code",
   "execution_count": 37,
   "metadata": {
    "collapsed": true
   },
   "outputs": [],
   "source": [
    "# Prepare data\n",
    "df_car = df2.select(df2.cylinders.cast('int'), df2.my.cast('int'),\n",
    "                    abs(hash(df2.name)).alias('name').cast('int'),\n",
    "                    df2.origin.cast('int'), df2.acceleration, df2.displacement,\n",
    "                    df2.horsepower, df2.weight, df2.mpg)\n",
    "rdd_car = df_car.rdd"
   ]
  },
  {
   "cell_type": "markdown",
   "metadata": {},
   "source": [
    "### Create mapping\n",
    "Next we can create the mapping."
   ]
  },
  {
   "cell_type": "code",
   "execution_count": 38,
   "metadata": {},
   "outputs": [
    {
     "name": "stdout",
     "output_type": "stream",
     "text": [
      "[{8: 4, 3: 0, 4: 1, 5: 2, 6: 3}, {70: 0, 71: 1, 72: 2, 73: 3, 74: 4, 75: 5, 76: 6, 77: 7, 78: 8, 79: 9, 80: 10, 81: 11, 82: 12}, {1144649218: 2, 1936435720: 24, 1355140489: 18, 1843726348: 32, 497091343: 29, 2046502744: 30, 1904964373: 35, 537497878: 16, 880171162: 34, 1304410654: 11, 1884908912: 23, 1905148707: 20, 538059249: 8, 85824937: 27, 1121791217: 0, 537608040: 4, 712958643: 5, 695351817: 1, 1890915261: 13, 2091404737: 28, 420531909: 21, 1615138977: 37, 656445650: 10, 1335658835: 3, 1040546260: 12, 1642082133: 26, 160577496: 19, 1221650650: 9, 1488979555: 33, 1376505445: 6, 358268264: 14, 1553142249: 7, 1408468775: 36, 1064022512: 22, 94873064: 15, 1656265720: 25, 707754747: 31, 324706684: 17}, {1: 0, 2: 1, 3: 2}]\n"
     ]
    }
   ],
   "source": [
    "# Create Mapping\n",
    "mappings = [get_mapping(rdd_car, i) for i in range(0,4)]\n",
    "print (mappings)"
   ]
  },
  {
   "cell_type": "markdown",
   "metadata": {},
   "source": [
    "### Feature description\n",
    "Next we can output the features used for the prediction. "
   ]
  },
  {
   "cell_type": "code",
   "execution_count": 39,
   "metadata": {},
   "outputs": [
    {
     "name": "stdout",
     "output_type": "stream",
     "text": [
      "Length of categorical features: 59\n",
      "Length of numerical features: 5\n",
      "Total feature vector length: 64\n"
     ]
    }
   ],
   "source": [
    "print \"Length of categorical features: %d\" % np.sum(map(len, mappings))\n",
    "print \"Length of numerical features: %d\" % len(rdd_car.first()[4:9])\n",
    "print \"Total feature vector length: %d\" % (np.sum(map(len, mappings)) + len(rdd_car.first()[4:9]))"
   ]
  },
  {
   "cell_type": "markdown",
   "metadata": {
    "collapsed": true
   },
   "source": [
    "### Label points\n",
    "Next we can label the dataset."
   ]
  },
  {
   "cell_type": "code",
   "execution_count": 40,
   "metadata": {
    "collapsed": true
   },
   "outputs": [],
   "source": [
    "df_car2 = rdd_car.map(lambda r: LabeledPoint(extract_label(r),\n",
    "                                             extract_features_dt(r)))"
   ]
  },
  {
   "cell_type": "code",
   "execution_count": 41,
   "metadata": {},
   "outputs": [
    {
     "data": {
      "text/plain": [
       "[LabeledPoint(25.0, [4.0,70.0,1304410654.0,2.0,17.5,110.0,87.0,2672.0]),\n",
       " LabeledPoint(26.0, [4.0,70.0,1064022512.0,2.0,12.5,121.0,113.0,2234.0]),\n",
       " LabeledPoint(27.2000007629, [4.0,78.0,1936435720.0,3.0,14.6999998093,119.0,97.0,2300.0]),\n",
       " LabeledPoint(25.0, [4.0,72.0,420531909.0,1.0,17.0,97.5,80.0,2126.0]),\n",
       " LabeledPoint(25.0, [4.0,76.0,1355140489.0,1.0,14.8999996185,140.0,92.0,2572.0])]"
      ]
     },
     "execution_count": 41,
     "metadata": {},
     "output_type": "execute_result"
    }
   ],
   "source": [
    "df_car2.take(5)"
   ]
  },
  {
   "cell_type": "code",
   "execution_count": 42,
   "metadata": {},
   "outputs": [
    {
     "name": "stdout",
     "output_type": "stream",
     "text": [
      "Label: 25.0\n",
      "Linear Model feature vector:\n",
      "[4.0,70.0,1304410654.0,2.0,17.5,110.0,87.0,2672.0]\n",
      "Linear Model feature vector length: 8\n"
     ]
    }
   ],
   "source": [
    "first_point = df_car2.first()\n",
    "print (\"Label: \" + str(first_point.label))\n",
    "print (\"Linear Model feature vector:\\n\" + str(first_point.features))\n",
    "print (\"Linear Model feature vector length: \" + str(len(first_point.features)))"
   ]
  },
  {
   "cell_type": "markdown",
   "metadata": {},
   "source": [
    "### Split data\n",
    "In order to control for overfitting we're splitting the dataset. We're using the same split as in problem 1, i.e., 80% training and 20% test set."
   ]
  },
  {
   "cell_type": "code",
   "execution_count": 43,
   "metadata": {
    "collapsed": true
   },
   "outputs": [],
   "source": [
    "# Split data\n",
    "df_train, df_test = df_car2.randomSplit([.8, .2], seed=123)\n",
    "\n",
    "df_train = df_train.cache()\n",
    "df_test = df_test.cache()"
   ]
  },
  {
   "cell_type": "markdown",
   "metadata": {},
   "source": [
    "### Regression tree\n",
    "Next we can build the regression tree with the *DecisionTree* method. It thas a default tree depth of 5. As we're using the labelpoint we don't have to input any categorical features. "
   ]
  },
  {
   "cell_type": "code",
   "execution_count": 44,
   "metadata": {
    "collapsed": true
   },
   "outputs": [],
   "source": [
    "fit_tree = DecisionTree.trainRegressor(df_train,{})"
   ]
  },
  {
   "cell_type": "markdown",
   "metadata": {},
   "source": [
    "### Prediction\n",
    "With the above model we can predict the values in the test set."
   ]
  },
  {
   "cell_type": "code",
   "execution_count": 45,
   "metadata": {
    "collapsed": true
   },
   "outputs": [],
   "source": [
    "preds = fit_tree.predict(df_test.map(lambda p: p.features))\n",
    "actual = df_test.map(lambda p: p.label)\n",
    "tbl_pred = actual.zip(preds)"
   ]
  },
  {
   "cell_type": "markdown",
   "metadata": {},
   "source": [
    "### Tree caracteristics\n",
    "Next we can output the tree characteristics."
   ]
  },
  {
   "cell_type": "code",
   "execution_count": 46,
   "metadata": {},
   "outputs": [
    {
     "name": "stdout",
     "output_type": "stream",
     "text": [
      "Decision tree predictions: [(44.0, 39.099998474121094), (19.0, 18.40909090909091), (18.0, 20.390909108248625), (22.0, 20.390909108248625), (14.0, 12.636363636363637)]\n",
      "Decision tree depth: 5\n",
      "Decision tree number of nodes: 63\n",
      "Test error = 1.0\n"
     ]
    }
   ],
   "source": [
    "print (\"Decision tree predictions: \" + str(tbl_pred.take(5)))\n",
    "print (\"Decision tree depth: \" + str(fit_tree.depth()))\n",
    "print (\"Decision tree number of nodes: \" + str(fit_tree.numNodes()))\n",
    "\n",
    "testErr = tbl_pred.filter(lambda (v, p): v != p).count() / float(df_test.count())\n",
    "print('Test error = ' + str(testErr))"
   ]
  },
  {
   "cell_type": "markdown",
   "metadata": {},
   "source": [
    "The tree has 63 nodes and tree depth of 5. "
   ]
  },
  {
   "cell_type": "markdown",
   "metadata": {},
   "source": [
    "### Accuracy \n",
    "Next we can have a look at the accuracy of the model."
   ]
  },
  {
   "cell_type": "code",
   "execution_count": 47,
   "metadata": {},
   "outputs": [
    {
     "name": "stdout",
     "output_type": "stream",
     "text": [
      "Decision tree: Mean squared error: 24.0046\n",
      "Decision tree: Mean absolute error: 3.3218\n",
      "Decision tree: Root mean squared log error: 0.2085\n"
     ]
    }
   ],
   "source": [
    "mse = tbl_pred.map(lambda (t, p): squared_error(t, p)).mean()\n",
    "mae = tbl_pred.map(lambda (t, p): abs_error(t, p)).mean()\n",
    "rmsle = np.sqrt(tbl_pred.map(lambda (t, p): squared_log_error(t, p)).mean())\n",
    "print \"Decision tree: Mean squared error: %2.4f\" % mse\n",
    "print \"Decision tree: Mean absolute error: %2.4f\" % mae\n",
    "print \"Decision tree: Root mean squared log error: %2.4f\" % rmsle"
   ]
  },
  {
   "cell_type": "markdown",
   "metadata": {},
   "source": [
    "The above tree achieves a MSE of 24, a MAE of 3.3 and a RMSLE of 0.2. comparing that with the simple linear regression model from problem 2 (MSE: 242.64, MAE: 12.39 and RMSLE: 0.69) the regression tree clearly outperforms the regression model. This was to be expected as we're using much more features. Furthremore, as already mentioned in problem 2, some of the data shows a non-linear relationship with the target variable."
   ]
  },
  {
   "cell_type": "markdown",
   "metadata": {},
   "source": [
    "### Output tree (optional)\n",
    "Last but not least we can have a look at the actual tree."
   ]
  },
  {
   "cell_type": "code",
   "execution_count": null,
   "metadata": {},
   "outputs": [
    {
     "name": "stdout",
     "output_type": "stream",
     "text": [
      "DecisionTreeModel regressor of depth 5 with 63 nodes\n",
      "  If (feature 0 <= 5.0)\n",
      "   If (feature 7 <= 2219.0)\n",
      "    If (feature 1 <= 77.0)\n",
      "     If (feature 4 <= 19.5)\n",
      "      If (feature 7 <= 2075.0)\n",
      "       Predict: 31.023809523809526\n",
      "      Else (feature 7 > 2075.0)\n",
      "       Predict: 27.366666666666667\n",
      "     Else (feature 4 > 19.5)\n",
      "      If (feature 1 <= 71.0)\n",
      "       Predict: 22.333333333333332\n",
      "      Else (feature 1 > 71.0)\n",
      "       Predict: 25.25\n",
      "    Else (feature 1 > 77.0)\n",
      "     If (feature 6 <= 58.0)\n",
      "      If (feature 1 <= 78.0)\n",
      "       Predict: 43.099998474121094\n",
      "      Else (feature 1 > 78.0)\n",
      "       Predict: 39.099998474121094\n",
      "     Else (feature 6 > 58.0)\n",
      "      If (feature 5 <= 91.0)\n",
      "       Predict: 36.236841804102845\n",
      "      Else (feature 5 > 91.0)\n",
      "       Predict: 34.14117656034582\n",
      "   Else (feature 7 > 2219.0)\n",
      "    If (feature 1 <= 78.0)\n",
      "     If (feature 7 <= 2300.0)\n",
      "      If (feature 4 <= 18.200000762939453)\n",
      "       Predict: 26.35384618318998\n",
      "      Else (feature 4 > 18.200000762939453)\n",
      "       Predict: 21.5\n",
      "     Else (feature 7 > 2300.0)\n",
      "      If (feature 7 <= 2865.0)\n",
      "       Predict: 23.181250035762787\n",
      "      Else (feature 7 > 2865.0)\n",
      "       Predict: 20.285714285714285\n",
      "    Else (feature 1 > 78.0)\n",
      "     If (feature 7 <= 2560.0)\n",
      "      If (feature 0 <= 3.0)\n",
      "       Predict: 23.700000762939453\n",
      "      Else (feature 0 > 3.0)\n",
      "       Predict: 32.24285738808768\n",
      "     Else (feature 7 > 2560.0)\n",
      "      If (feature 5 <= 135.0)\n",
      "       Predict: 29.521481619940865\n",
      "      Else (feature 5 > 135.0)\n",
      "       Predict: 26.671428544180735\n",
      "  Else (feature 0 > 5.0)\n",
      "   If (feature 6 <= 129.0)\n",
      "    If (feature 1 <= 78.0)\n",
      "     If (feature 5 <= 232.0)\n",
      "      If (feature 7 <= 3465.0)\n",
      "       Predict: 20.390909108248625\n",
      "      Else (feature 7 > 3465.0)\n",
      "       Predict: 18.18571444920131\n",
      "     Else (feature 5 > 232.0)\n",
      "      If (feature 4 <= 16.5)\n",
      "       Predict: 18.40909090909091\n",
      "      Else (feature 4 > 16.5)\n",
      "       Predict: 16.444444444444443\n",
      "    Else (feature 1 > 78.0)\n",
      "     If (feature 2 <= 1.488979555E9)\n",
      "      If (feature 7 <= 3420.0)\n",
      "       Predict: 20.866666793823242\n",
      "      Else (feature 7 > 3420.0)\n",
      "       Predict: 17.600000381469727\n",
      "     Else (feature 2 > 1.488979555E9)\n",
      "      If (feature 1 <= 81.0)\n",
      "       Predict: 24.714285714285715\n",
      "      Else (feature 1 > 81.0)\n",
      "       Predict: 38.0\n",
      "   Else (feature 6 > 129.0)\n",
      "    If (feature 7 <= 4054.0)\n",
      "     If (feature 6 <= 150.0)\n",
      "      If (feature 1 <= 76.0)\n",
      "       Predict: 15.2\n",
      "      Else (feature 1 > 76.0)\n",
      "       Predict: 17.845454822887074\n",
      "     Else (feature 6 > 150.0)\n",
      "      If (feature 7 <= 3613.0)\n",
      "       Predict: 15.566666920979818\n",
      "      Else (feature 7 > 3613.0)\n",
      "       Predict: 26.0\n",
      "    Else (feature 7 > 4054.0)\n",
      "     If (feature 1 <= 74.0)\n",
      "      If (feature 7 <= 4278.0)\n",
      "       Predict: 14.545454545454545\n",
      "      Else (feature 7 > 4278.0)\n",
      "       Predict: 12.636363636363637\n",
      "     Else (feature 1 > 74.0)\n",
      "      If (feature 1 <= 77.0)\n",
      "       Predict: 15.26923076923077\n",
      "      Else (feature 1 > 77.0)\n",
      "       Predict: 17.199999809265137\n",
      "\n"
     ]
    }
   ],
   "source": [
    "print(fit_tree.toDebugString())"
   ]
  },
  {
   "cell_type": "markdown",
   "metadata": {},
   "source": [
    "As can be seen above, the tree uses a multitude of features that the tree selected as spliting points."
   ]
  }
 ],
 "metadata": {
  "kernelspec": {
   "display_name": "Python 3",
   "language": "python",
   "name": "python3"
  },
  "language_info": {
   "codemirror_mode": {
    "name": "ipython",
    "version": 3
   },
   "file_extension": ".py",
   "mimetype": "text/x-python",
   "name": "python",
   "nbconvert_exporter": "python",
   "pygments_lexer": "ipython3",
   "version": "3.6.2"
  }
 },
 "nbformat": 4,
 "nbformat_minor": 2
}
