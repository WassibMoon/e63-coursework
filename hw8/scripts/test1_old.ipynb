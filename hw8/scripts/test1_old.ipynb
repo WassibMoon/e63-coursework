{
 "cells": [
  {
   "cell_type": "markdown",
   "metadata": {},
   "source": [
    "# Natural Language Processing \n",
    "# E63 Big Data Analytics: Assignment 7\n",
    "**Harvard University**<br>\n",
    "**Spring 2017**<br>\n"
   ]
  },
  {
   "cell_type": "code",
   "execution_count": 1,
   "metadata": {
    "collapsed": true
   },
   "outputs": [],
   "source": [
    "import pandas as pd\n",
    "from sklearn.feature_extraction.text import CountVectorizer\n",
    "import numpy as np\n",
    "import pandas as pd\n",
    "from nltk.text import Text \n",
    "from nltk import FreqDist\n",
    "from nltk.corpus import wordnet as wn\n",
    "import nltk\n",
    "import re\n",
    "\n",
    "from nltk.corpus import inaugural\n",
    "from collections import Counter\n",
    "\n",
    "from nltk import CFG\n",
    "from nltk.tree import Tree"
   ]
  },
  {
   "cell_type": "code",
   "execution_count": 2,
   "metadata": {
    "collapsed": false
   },
   "outputs": [
    {
     "name": "stdout",
     "output_type": "stream",
     "text": [
      "showing info https://raw.githubusercontent.com/nltk/nltk_data/gh-pages/index.xml\n"
     ]
    },
    {
     "data": {
      "text/plain": [
       "True"
      ]
     },
     "execution_count": 2,
     "metadata": {},
     "output_type": "execute_result"
    }
   ],
   "source": [
    "nltk.download()"
   ]
  },
  {
   "cell_type": "markdown",
   "metadata": {},
   "source": [
    "## ** Problem 1. Create a table displaying relative frequencies with which “modals” (can, could, may, might, will, would and should) are used in 18 texts provided by NLTK in the extract from Gutenberg Corpus.**"
   ]
  },
  {
   "cell_type": "code",
   "execution_count": 3,
   "metadata": {
    "collapsed": false
   },
   "outputs": [
    {
     "data": {
      "text/plain": [
       "[u'austen-emma.txt',\n",
       " u'austen-persuasion.txt',\n",
       " u'austen-sense.txt',\n",
       " u'bible-kjv.txt',\n",
       " u'blake-poems.txt',\n",
       " u'bryant-stories.txt',\n",
       " u'burgess-busterbrown.txt',\n",
       " u'carroll-alice.txt',\n",
       " u'chesterton-ball.txt',\n",
       " u'chesterton-brown.txt',\n",
       " u'chesterton-thursday.txt',\n",
       " u'edgeworth-parents.txt',\n",
       " u'melville-moby_dick.txt',\n",
       " u'milton-paradise.txt',\n",
       " u'shakespeare-caesar.txt',\n",
       " u'shakespeare-hamlet.txt',\n",
       " u'shakespeare-macbeth.txt',\n",
       " u'whitman-leaves.txt']"
      ]
     },
     "execution_count": 3,
     "metadata": {},
     "output_type": "execute_result"
    }
   ],
   "source": [
    "# Print the name of all the gutenberg books\n",
    "nltk.corpus.gutenberg.fileids()"
   ]
  },
  {
   "cell_type": "code",
   "execution_count": 4,
   "metadata": {
    "collapsed": true
   },
   "outputs": [],
   "source": [
    "modals = [\"can\",\"could\", \"may\", \"might\", \"will\", \"would\" , \"should\"]"
   ]
  },
  {
   "cell_type": "code",
   "execution_count": 5,
   "metadata": {
    "collapsed": false
   },
   "outputs": [
    {
     "name": "stdout",
     "output_type": "stream",
     "text": [
      "Number of books in gutenberg corpus:  18\n",
      "Number of modals:  7\n"
     ]
    }
   ],
   "source": [
    "print 'Number of books in gutenberg corpus: ',len(nltk.corpus.gutenberg.fileids())\n",
    "print 'Number of modals: ',len(modals)"
   ]
  },
  {
   "cell_type": "markdown",
   "metadata": {},
   "source": [
    "## ** Create a table displaying relative frequencies with which “modals” (can, could, may, might, will, would and should) are used in 18 texts provided by NLTK in the extract from Gutenberg Corpus **"
   ]
  },
  {
   "cell_type": "code",
   "execution_count": 6,
   "metadata": {
    "collapsed": false
   },
   "outputs": [
    {
     "data": {
      "text/html": [
       "<div>\n",
       "<table border=\"1\" class=\"dataframe\">\n",
       "  <thead>\n",
       "    <tr style=\"text-align: right;\">\n",
       "      <th></th>\n",
       "      <th>Most used</th>\n",
       "      <th>Relative frequencies</th>\n",
       "      <th>Least used</th>\n",
       "      <th>Relative frequencies</th>\n",
       "      <th>Book</th>\n",
       "    </tr>\n",
       "  </thead>\n",
       "  <tbody>\n",
       "    <tr>\n",
       "      <th>0</th>\n",
       "      <td>could</td>\n",
       "      <td>0.434970144522</td>\n",
       "      <td>may</td>\n",
       "      <td>0.114848747837</td>\n",
       "      <td>austen-emma.txt</td>\n",
       "    </tr>\n",
       "    <tr>\n",
       "      <th>1</th>\n",
       "      <td>could</td>\n",
       "      <td>0.459402471198</td>\n",
       "      <td>may</td>\n",
       "      <td>0.0886208758187</td>\n",
       "      <td>austen-persuasion.txt</td>\n",
       "    </tr>\n",
       "    <tr>\n",
       "      <th>2</th>\n",
       "      <td>could</td>\n",
       "      <td>0.408261287224</td>\n",
       "      <td>may</td>\n",
       "      <td>0.123608521218</td>\n",
       "      <td>austen-sense.txt</td>\n",
       "    </tr>\n",
       "    <tr>\n",
       "      <th>3</th>\n",
       "      <td>will</td>\n",
       "      <td>0.379556208158</td>\n",
       "      <td>could</td>\n",
       "      <td>0.0164250079651</td>\n",
       "      <td>bible-kjv.txt</td>\n",
       "    </tr>\n",
       "    <tr>\n",
       "      <th>4</th>\n",
       "      <td>can</td>\n",
       "      <td>0.335168781422</td>\n",
       "      <td>might</td>\n",
       "      <td>0.0239406272444</td>\n",
       "      <td>blake-poems.txt</td>\n",
       "    </tr>\n",
       "    <tr>\n",
       "      <th>5</th>\n",
       "      <td>could</td>\n",
       "      <td>0.284361895506</td>\n",
       "      <td>may</td>\n",
       "      <td>0.039594694311</td>\n",
       "      <td>bryant-stories.txt</td>\n",
       "    </tr>\n",
       "    <tr>\n",
       "      <th>6</th>\n",
       "      <td>could</td>\n",
       "      <td>0.295311923219</td>\n",
       "      <td>may</td>\n",
       "      <td>0.015820281601</td>\n",
       "      <td>burgess-busterbrown.txt</td>\n",
       "    </tr>\n",
       "    <tr>\n",
       "      <th>7</th>\n",
       "      <td>would</td>\n",
       "      <td>0.243330401642</td>\n",
       "      <td>may</td>\n",
       "      <td>0.0381119906186</td>\n",
       "      <td>carroll-alice.txt</td>\n",
       "    </tr>\n",
       "    <tr>\n",
       "      <th>8</th>\n",
       "      <td>will</td>\n",
       "      <td>0.209286980906</td>\n",
       "      <td>might</td>\n",
       "      <td>0.0742298651491</td>\n",
       "      <td>chesterton-ball.txt</td>\n",
       "    </tr>\n",
       "    <tr>\n",
       "      <th>9</th>\n",
       "      <td>could</td>\n",
       "      <td>0.198691656112</td>\n",
       "      <td>may</td>\n",
       "      <td>0.0557730964526</td>\n",
       "      <td>chesterton-brown.txt</td>\n",
       "    </tr>\n",
       "    <tr>\n",
       "      <th>10</th>\n",
       "      <td>could</td>\n",
       "      <td>0.218167107335</td>\n",
       "      <td>should</td>\n",
       "      <td>0.0780200251398</td>\n",
       "      <td>chesterton-thursday.txt</td>\n",
       "    </tr>\n",
       "    <tr>\n",
       "      <th>11</th>\n",
       "      <td>will</td>\n",
       "      <td>0.263928644328</td>\n",
       "      <td>might</td>\n",
       "      <td>0.0602858594058</td>\n",
       "      <td>edgeworth-parents.txt</td>\n",
       "    </tr>\n",
       "    <tr>\n",
       "      <th>12</th>\n",
       "      <td>would</td>\n",
       "      <td>0.165632105023</td>\n",
       "      <td>might</td>\n",
       "      <td>0.0701636000445</td>\n",
       "      <td>melville-moby_dick.txt</td>\n",
       "    </tr>\n",
       "    <tr>\n",
       "      <th>13</th>\n",
       "      <td>will</td>\n",
       "      <td>0.189000774593</td>\n",
       "      <td>would</td>\n",
       "      <td>0.0599018848438</td>\n",
       "      <td>milton-paradise.txt</td>\n",
       "    </tr>\n",
       "    <tr>\n",
       "      <th>14</th>\n",
       "      <td>will</td>\n",
       "      <td>0.63097588356</td>\n",
       "      <td>might</td>\n",
       "      <td>0.0503232299772</td>\n",
       "      <td>shakespeare-caesar.txt</td>\n",
       "    </tr>\n",
       "    <tr>\n",
       "      <th>15</th>\n",
       "      <td>will</td>\n",
       "      <td>0.398822269807</td>\n",
       "      <td>might</td>\n",
       "      <td>0.0802997858672</td>\n",
       "      <td>shakespeare-hamlet.txt</td>\n",
       "    </tr>\n",
       "    <tr>\n",
       "      <th>16</th>\n",
       "      <td>will</td>\n",
       "      <td>0.311149524633</td>\n",
       "      <td>might</td>\n",
       "      <td>0.0345721694036</td>\n",
       "      <td>shakespeare-macbeth.txt</td>\n",
       "    </tr>\n",
       "    <tr>\n",
       "      <th>17</th>\n",
       "      <td>will</td>\n",
       "      <td>0.1762620817</td>\n",
       "      <td>might</td>\n",
       "      <td>0.0167868649238</td>\n",
       "      <td>whitman-leaves.txt</td>\n",
       "    </tr>\n",
       "  </tbody>\n",
       "</table>\n",
       "</div>"
      ],
      "text/plain": [
       "   Most used Relative frequencies Least used Relative frequencies  \\\n",
       "0      could       0.434970144522        may       0.114848747837   \n",
       "1      could       0.459402471198        may      0.0886208758187   \n",
       "2      could       0.408261287224        may       0.123608521218   \n",
       "3       will       0.379556208158      could      0.0164250079651   \n",
       "4        can       0.335168781422      might      0.0239406272444   \n",
       "5      could       0.284361895506        may       0.039594694311   \n",
       "6      could       0.295311923219        may       0.015820281601   \n",
       "7      would       0.243330401642        may      0.0381119906186   \n",
       "8       will       0.209286980906      might      0.0742298651491   \n",
       "9      could       0.198691656112        may      0.0557730964526   \n",
       "10     could       0.218167107335     should      0.0780200251398   \n",
       "11      will       0.263928644328      might      0.0602858594058   \n",
       "12     would       0.165632105023      might      0.0701636000445   \n",
       "13      will       0.189000774593      would      0.0599018848438   \n",
       "14      will        0.63097588356      might      0.0503232299772   \n",
       "15      will       0.398822269807      might      0.0802997858672   \n",
       "16      will       0.311149524633      might      0.0345721694036   \n",
       "17      will         0.1762620817      might      0.0167868649238   \n",
       "\n",
       "                       Book  \n",
       "0           austen-emma.txt  \n",
       "1     austen-persuasion.txt  \n",
       "2          austen-sense.txt  \n",
       "3             bible-kjv.txt  \n",
       "4           blake-poems.txt  \n",
       "5        bryant-stories.txt  \n",
       "6   burgess-busterbrown.txt  \n",
       "7         carroll-alice.txt  \n",
       "8       chesterton-ball.txt  \n",
       "9      chesterton-brown.txt  \n",
       "10  chesterton-thursday.txt  \n",
       "11    edgeworth-parents.txt  \n",
       "12   melville-moby_dick.txt  \n",
       "13      milton-paradise.txt  \n",
       "14   shakespeare-caesar.txt  \n",
       "15   shakespeare-hamlet.txt  \n",
       "16  shakespeare-macbeth.txt  \n",
       "17       whitman-leaves.txt  "
      ]
     },
     "execution_count": 6,
     "metadata": {},
     "output_type": "execute_result"
    }
   ],
   "source": [
    "all_series = []\n",
    "for book in nltk.corpus.gutenberg.fileids():\n",
    "    \n",
    "    md2 = nltk.corpus.gutenberg.words(book) # loading all the words from all the texts in gutenberg corpus\n",
    "    fd2 = nltk.FreqDist(m.lower() for m in md2) # frequency of all the words in all the gutenberg texts\n",
    "    l=[]\n",
    "    for m in modals:\n",
    "        l.append(fd2.freq(m) * 100) # relative frequency of each modal\n",
    "        max_val, max_idx = max((max_val, max_idx) for (max_idx, max_val) in enumerate(l)) # most used modal\n",
    "        min_val, min_idx = min((min_val, min_idx) for (min_idx, min_val) in enumerate(l)) # least used modal\n",
    "        \n",
    "    most_least_used = [modals[max_idx], max_val, modals[min_idx],min_val]\n",
    "    series = np.append(most_least_used,book)\n",
    "    all_series.append(series)\n",
    "\n",
    "    #Create a tabular format\n",
    "data_frame =  pd.DataFrame(all_series) \n",
    "data_frame.columns = ['Most used', 'Relative frequencies', 'Least used', 'Relative frequencies','Book']\n",
    "data_frame"
   ]
  },
  {
   "cell_type": "markdown",
   "metadata": {},
   "source": [
    "## ** Find the most used modal and the least used modal in every examined text. **"
   ]
  },
  {
   "cell_type": "code",
   "execution_count": 7,
   "metadata": {
    "collapsed": false
   },
   "outputs": [
    {
     "data": {
      "text/html": [
       "<div>\n",
       "<table border=\"1\" class=\"dataframe\">\n",
       "  <thead>\n",
       "    <tr style=\"text-align: right;\">\n",
       "      <th></th>\n",
       "      <th>Most used</th>\n",
       "      <th>Value</th>\n",
       "      <th>Least used</th>\n",
       "      <th>Value</th>\n",
       "      <th>Book</th>\n",
       "    </tr>\n",
       "  </thead>\n",
       "  <tbody>\n",
       "    <tr>\n",
       "      <th>0</th>\n",
       "      <td>could</td>\n",
       "      <td>837</td>\n",
       "      <td>may</td>\n",
       "      <td>221</td>\n",
       "      <td>austen-emma.txt</td>\n",
       "    </tr>\n",
       "    <tr>\n",
       "      <th>1</th>\n",
       "      <td>could</td>\n",
       "      <td>451</td>\n",
       "      <td>may</td>\n",
       "      <td>87</td>\n",
       "      <td>austen-persuasion.txt</td>\n",
       "    </tr>\n",
       "    <tr>\n",
       "      <th>2</th>\n",
       "      <td>could</td>\n",
       "      <td>578</td>\n",
       "      <td>may</td>\n",
       "      <td>175</td>\n",
       "      <td>austen-sense.txt</td>\n",
       "    </tr>\n",
       "    <tr>\n",
       "      <th>3</th>\n",
       "      <td>will</td>\n",
       "      <td>3836</td>\n",
       "      <td>could</td>\n",
       "      <td>166</td>\n",
       "      <td>bible-kjv.txt</td>\n",
       "    </tr>\n",
       "    <tr>\n",
       "      <th>4</th>\n",
       "      <td>can</td>\n",
       "      <td>28</td>\n",
       "      <td>might</td>\n",
       "      <td>2</td>\n",
       "      <td>blake-poems.txt</td>\n",
       "    </tr>\n",
       "    <tr>\n",
       "      <th>5</th>\n",
       "      <td>could</td>\n",
       "      <td>158</td>\n",
       "      <td>may</td>\n",
       "      <td>22</td>\n",
       "      <td>bryant-stories.txt</td>\n",
       "    </tr>\n",
       "    <tr>\n",
       "      <th>6</th>\n",
       "      <td>could</td>\n",
       "      <td>56</td>\n",
       "      <td>may</td>\n",
       "      <td>3</td>\n",
       "      <td>burgess-busterbrown.txt</td>\n",
       "    </tr>\n",
       "    <tr>\n",
       "      <th>7</th>\n",
       "      <td>would</td>\n",
       "      <td>83</td>\n",
       "      <td>may</td>\n",
       "      <td>13</td>\n",
       "      <td>carroll-alice.txt</td>\n",
       "    </tr>\n",
       "    <tr>\n",
       "      <th>8</th>\n",
       "      <td>will</td>\n",
       "      <td>203</td>\n",
       "      <td>might</td>\n",
       "      <td>72</td>\n",
       "      <td>chesterton-ball.txt</td>\n",
       "    </tr>\n",
       "    <tr>\n",
       "      <th>9</th>\n",
       "      <td>could</td>\n",
       "      <td>171</td>\n",
       "      <td>may</td>\n",
       "      <td>48</td>\n",
       "      <td>chesterton-brown.txt</td>\n",
       "    </tr>\n",
       "    <tr>\n",
       "      <th>10</th>\n",
       "      <td>could</td>\n",
       "      <td>151</td>\n",
       "      <td>should</td>\n",
       "      <td>54</td>\n",
       "      <td>chesterton-thursday.txt</td>\n",
       "    </tr>\n",
       "    <tr>\n",
       "      <th>11</th>\n",
       "      <td>will</td>\n",
       "      <td>556</td>\n",
       "      <td>might</td>\n",
       "      <td>127</td>\n",
       "      <td>edgeworth-parents.txt</td>\n",
       "    </tr>\n",
       "    <tr>\n",
       "      <th>12</th>\n",
       "      <td>would</td>\n",
       "      <td>432</td>\n",
       "      <td>might</td>\n",
       "      <td>183</td>\n",
       "      <td>melville-moby_dick.txt</td>\n",
       "    </tr>\n",
       "    <tr>\n",
       "      <th>13</th>\n",
       "      <td>will</td>\n",
       "      <td>183</td>\n",
       "      <td>would</td>\n",
       "      <td>58</td>\n",
       "      <td>milton-paradise.txt</td>\n",
       "    </tr>\n",
       "    <tr>\n",
       "      <th>14</th>\n",
       "      <td>will</td>\n",
       "      <td>163</td>\n",
       "      <td>might</td>\n",
       "      <td>13</td>\n",
       "      <td>shakespeare-caesar.txt</td>\n",
       "    </tr>\n",
       "    <tr>\n",
       "      <th>15</th>\n",
       "      <td>will</td>\n",
       "      <td>149</td>\n",
       "      <td>might</td>\n",
       "      <td>30</td>\n",
       "      <td>shakespeare-hamlet.txt</td>\n",
       "    </tr>\n",
       "    <tr>\n",
       "      <th>16</th>\n",
       "      <td>will</td>\n",
       "      <td>72</td>\n",
       "      <td>might</td>\n",
       "      <td>8</td>\n",
       "      <td>shakespeare-macbeth.txt</td>\n",
       "    </tr>\n",
       "    <tr>\n",
       "      <th>17</th>\n",
       "      <td>will</td>\n",
       "      <td>273</td>\n",
       "      <td>might</td>\n",
       "      <td>26</td>\n",
       "      <td>whitman-leaves.txt</td>\n",
       "    </tr>\n",
       "  </tbody>\n",
       "</table>\n",
       "</div>"
      ],
      "text/plain": [
       "   Most used Value Least used Value                     Book\n",
       "0      could   837        may   221          austen-emma.txt\n",
       "1      could   451        may    87    austen-persuasion.txt\n",
       "2      could   578        may   175         austen-sense.txt\n",
       "3       will  3836      could   166            bible-kjv.txt\n",
       "4        can    28      might     2          blake-poems.txt\n",
       "5      could   158        may    22       bryant-stories.txt\n",
       "6      could    56        may     3  burgess-busterbrown.txt\n",
       "7      would    83        may    13        carroll-alice.txt\n",
       "8       will   203      might    72      chesterton-ball.txt\n",
       "9      could   171        may    48     chesterton-brown.txt\n",
       "10     could   151     should    54  chesterton-thursday.txt\n",
       "11      will   556      might   127    edgeworth-parents.txt\n",
       "12     would   432      might   183   melville-moby_dick.txt\n",
       "13      will   183      would    58      milton-paradise.txt\n",
       "14      will   163      might    13   shakespeare-caesar.txt\n",
       "15      will   149      might    30   shakespeare-hamlet.txt\n",
       "16      will    72      might     8  shakespeare-macbeth.txt\n",
       "17      will   273      might    26       whitman-leaves.txt"
      ]
     },
     "execution_count": 7,
     "metadata": {},
     "output_type": "execute_result"
    }
   ],
   "source": [
    "all_series = []\n",
    "for book in nltk.corpus.gutenberg.fileids():\n",
    "    \n",
    "    md2 = nltk.corpus.gutenberg.words(book) # loading all the words from all the texts in gutenberg corpus\n",
    "    fd2 = nltk.FreqDist(m.lower() for m in md2) # frequency of all the words in all the gutenberg texts\n",
    "    l=[]\n",
    "    for m in modals:\n",
    "        l.append(fd2[m])\n",
    "        max_val, max_idx = max((max_val, max_idx) for (max_idx, max_val) in enumerate(l))\n",
    "        min_val, min_idx = min((min_val, min_idx) for (min_idx, min_val) in enumerate(l))\n",
    "        \n",
    "    most_least_used = [modals[max_idx], max_val, modals[min_idx],min_val]\n",
    "    series = np.append(most_least_used,book)\n",
    "    all_series.append(series)\n",
    "    \n",
    "    \n",
    "data_frame =  pd.DataFrame(all_series) \n",
    "data_frame.columns = ['Most used', 'Value', 'Least used', 'Value','Book']\n",
    "data_frame"
   ]
  },
  {
   "cell_type": "code",
   "execution_count": null,
   "metadata": {
    "collapsed": true
   },
   "outputs": [],
   "source": []
  },
  {
   "cell_type": "markdown",
   "metadata": {},
   "source": [
    "## ** Select two text which use previously identified most frequently used modals the most. Compare usage in both texts by examining the concordances of that  modals. **"
   ]
  },
  {
   "cell_type": "markdown",
   "metadata": {},
   "source": [
    "** From the above text, it can be seen that 'will' is used 3836 times in bible-kjv.txt\n",
    "While 'could' is used 837 times in austen-emma.txt**\n"
   ]
  },
  {
   "cell_type": "code",
   "execution_count": 8,
   "metadata": {
    "collapsed": true
   },
   "outputs": [],
   "source": [
    "text1 = Text(nltk.corpus.gutenberg.words('bible-kjv.txt'))\n",
    "text2 = Text(nltk.corpus.gutenberg.words('austen-emma.txt'))"
   ]
  },
  {
   "cell_type": "code",
   "execution_count": 9,
   "metadata": {
    "collapsed": false
   },
   "outputs": [
    {
     "name": "stdout",
     "output_type": "stream",
     "text": [
      "Displaying 25 of 3836 matches:\n",
      "ood that the man should be alone ; I will make him an help meet for him . 2 : \n",
      " the days of thy life : 3 : 15 And I will put enmity between thee and the woma\n",
      " . 3 : 16 Unto the woman he said , I will greatly multiply thy sorrow and thy \n",
      " heart . 6 : 7 And the LORD said , I will destroy man whom I have created from\n",
      "ence through them ; and , behold , I will destroy them with the earth . 6 : 14\n",
      "rth shall die . 6 : 18 But with thee will I establish my covenant ; and thou s\n",
      "h . 7 : 4 For yet seven days , and I will cause it to rain upon the earth fort\n",
      "ry living substance that I have made will I destroy from off the face of the e\n",
      "; and the LORD said in his heart , I will not again curse the ground any more \n",
      "art is evil from his youth ; neither will I again smite any more every thing l\n",
      " And surely your blood of your lives will I require ; at the hand of every bea\n",
      "require ; at the hand of every beast will I require it , and at the hand of ma\n",
      "at the hand of every man ' s brother will I require the life of man . 9 : 6 Wh\n",
      "ry beast of the earth . 9 : 11 And I will establish my covenant with you , nei\n",
      " be seen in the cloud : 9 : 15 And I will remember my covenant , which is betw\n",
      "he bow shall be in the cloud ; and I will look upon it , that I may remember t\n",
      "s they begin to do : and now nothing will be restrained from them , which they\n",
      "ather ' s house , unto a land that I will shew thee : 12 : 2 And I will make o\n",
      "that I will shew thee : 12 : 2 And I will make of thee a great nation , and I \n",
      " make of thee a great nation , and I will bless thee , and make thy name great\n",
      "u shalt be a blessing : 12 : 3 And I will bless them that bless thee , and cur\n",
      "nto Abram , and said , Unto thy seed will I give this land : and there builded\n",
      "ll say , This is his wife : and they will kill me , but they will save thee al\n",
      "e : and they will kill me , but they will save thee alive . 12 : 13 Say , I pr\n",
      "hou wilt take the left hand , then I will go to the right ; or if thou depart \n"
     ]
    }
   ],
   "source": [
    "text1.concordance(\"will\")"
   ]
  },
  {
   "cell_type": "markdown",
   "metadata": {},
   "source": [
    "** 'will' is most of the times preceded by pronoun 'I' and is used to describe  power,control**"
   ]
  },
  {
   "cell_type": "code",
   "execution_count": 10,
   "metadata": {
    "collapsed": false
   },
   "outputs": [
    {
     "name": "stdout",
     "output_type": "stream",
     "text": [
      "Displaying 25 of 166 matches:\n",
      "r substance was great , so that they could not dwell together . 13 : 7 And ther\n",
      ", and his eyes were dim , so that he could not see , he called Esau his eldest \n",
      "the land wherein they were strangers could not bear them because of their cattl\n",
      " his brethren , they hated him , and could not speak peaceably unto him . 37 : \n",
      " his dream ; but there was none that could interpret them unto Pharaoh . 41 : 9\n",
      "And when they had eaten them up , it could not be known that they had eaten the\n",
      " magicians ; but there was none that could declare it to me . 41 : 25 And Josep\n",
      "ording to the tenor of these words : could we certainly know that he would say \n",
      "me on my father . 45 : 1 Then Joseph could not refrain himself before all them \n",
      "y father yet live ? And his brethren could not answer him ; for they were troub\n",
      "Israel were dim for age , so that he could not see . And he brought them near u\n",
      "im three months . 2 : 3 And when she could not longer hide him , she took for h\n",
      " the river stank , and the Egyptians could not drink of the water of the river \n",
      " river for water to drink ; for they could not drink of the water of the river \n",
      "ments to bring forth lice , but they could not : so there were lice upon man , \n",
      "pon beast . 9 : 11 And the magicians could not stand before Moses because of th\n",
      " they were thrust out of Egypt , and could not tarry , neither had they prepare\n",
      "3 And when they came to Marah , they could not drink of the waters of Marah , f\n",
      "y the dead body of a man , that they could not keep the passover on that day : \n",
      " 12 Therefore the children of Israel could not stand before their enemies , but\n",
      "of Jerusalem , the children of Judah could not drive them out ; but the Jebusit\n",
      "17 : 12 Yet the children of Manasseh could not drive out the inhabitants of tho\n",
      "he inhabitants of the mountain ; but could not drive out the inhabitants of the\n",
      "r enemies round about , so that they could not any longer stand before their en\n",
      "t closed upon the blade , so that he could not draw the dagger out of his belly\n"
     ]
    }
   ],
   "source": [
    "text1.concordance(\"could\")"
   ]
  },
  {
   "cell_type": "markdown",
   "metadata": {},
   "source": [
    "** 'could' is most of the times followed by 'not' **"
   ]
  },
  {
   "cell_type": "code",
   "execution_count": 11,
   "metadata": {
    "collapsed": false
   },
   "outputs": [],
   "source": [
    "text1 = Text(nltk.corpus.gutenberg.words('shakespeare-macbeth.txt'))\n",
    "text2 = Text(nltk.corpus.gutenberg.words('whitman-leaves.txt'))"
   ]
  },
  {
   "cell_type": "code",
   "execution_count": 12,
   "metadata": {
    "collapsed": false
   },
   "outputs": [
    {
     "name": "stdout",
     "output_type": "stream",
     "text": [
      "Displaying 25 of 72 matches:\n",
      "ttaile ' s lost , and wonne 3 . That will be ere the set of Sunne 1 . Where th\n",
      "des of Time , And say , which Graine will grow , and which will not , Speake t\n",
      ", which Graine will grow , and which will not , Speake then to me , who neythe\n",
      "ur Partner ' s rapt Macb . If Chance will haue me King , Why Chance may Crowne\n",
      "r : I haue begun to plant thee , and will labour To make thee full of growing \n",
      "e places are the nearest , know , We will establish our Estate vpon Our eldest\n",
      "igne sway , and Masterdome Macb . We will speake further , Lady . Onely looke \n",
      " his great Office , that his Vertues Will pleade like Angels , Trumpet - tongu\n",
      " Know you not , he ha ' s ? Mac . We will proceed no further in this Businesse\n",
      "y inuite him ) his two Chamberlaines Will I with Wine , and Wassell , so conui\n",
      "e should compose Nothing but Males . Will it not be receiu ' d , When we haue \n",
      "ntent Mac . Being vnprepar ' d , Our will became the seruant to defect , Which\n",
      " thought After these wayes : so , it will make vs mad Macb . Me thought I hear\n",
      "e ? hah : they pluck out mine Eyes . Will all great Neptunes Ocean wash this b\n",
      "ane from my Hand ? no : this my Hand will rather The multitudinous Seas incarn\n",
      "ell contented . Exeunt . Malc . What will you doe ? Let ' s not consort with t\n",
      " still , Thriftlesse Ambition , that will rauen vp Thine owne liues meanes : T\n",
      "en ' tis most like , The Soueraignty will fall vpon Macbeth Macd . He is alrea\n",
      " And Guardian of their Bones Rosse . Will you to Scone ? Macd . No Cosin , Ile\n",
      "Cosin , Ile to Fife Rosse . Well , I will thither Macd . Well may you see thin\n",
      "ride ? Ban . As farre , my Lord , as will fill vp the time ' Twixt this , and \n",
      "aile not our Feast Ban . My Lord , I will not Macb . We heare our bloody Cozen\n",
      "ke societie The sweeter welcome : We will keepe our selfe till Supper time alo\n",
      "t ranke of Manhood , say ' t , And I will put that Businesse in your Bosomes ,\n",
      "weepe him from my sight , And bid my will auouch it ; yet I must not , For cer\n"
     ]
    }
   ],
   "source": [
    "text1.concordance(\"will\")"
   ]
  },
  {
   "cell_type": "markdown",
   "metadata": {},
   "source": [
    "** 'will' is used in various context with different noun or with 'We' **"
   ]
  },
  {
   "cell_type": "code",
   "execution_count": 13,
   "metadata": {
    "collapsed": false
   },
   "outputs": [
    {
     "name": "stdout",
     "output_type": "stream",
     "text": [
      "Displaying 25 of 273 matches:\n",
      "ght , By sailors young and old haply will I , a reminiscence of the land , be \n",
      "gh time was really fought , and ever will be really fought , for thee ,) These\n",
      "author calls a man ' s life ? And so will some one when I am dead and gone wri\n",
      "ellect , But you ye untold latencies will thrill to every page . } Poets to Co\n",
      "longer than water ebbs and flows . I will make the poems of materials , for I \n",
      " be the most spiritual poems , And I will make the poems of my body and of mor\n",
      "ms of my soul and of immortality . I will make a song for these States that no\n",
      "e subjected to another State , And I will make a song that there shall be comi\n",
      " and between any two of them , And I will make a song for the ears of the Pres\n",
      " any else that head is over all .) I will acknowledge contemporary lands , I w\n",
      "l acknowledge contemporary lands , I will trail the whole geography of the glo\n",
      "arge and small , And employments ! I will put in my poems that with you is her\n",
      "is heroism upon land and sea , And I will report all heroism from an American \n",
      "m from an American point of view . I will sing the song of companionship , I w\n",
      "l sing the song of companionship , I will show what alone must finally compact\n",
      "manly love , indicating it in me , I will therefore let flame from me the burn\n",
      "t were threatening to consume me , I will lift what has too long kept down tho\n",
      "ept down those smouldering fires , I will give them complete abandonment , I w\n",
      "l give them complete abandonment , I will write the evangel - poem of comrades\n",
      "t of , Contact daily and hourly that will not release me , These selecting , t\n",
      "me , I exultant to be ready for them will now shake out carols stronger and ha\n",
      "e ever yet been heard upon earth . I will make the songs of passion to give th\n",
      "arry you with me the same as any . I will make the true poem of riches , To ea\n",
      "orward and is not dropt by death ; I will effuse egotism and show it underlyin\n",
      "m and show it underlying all , and I will be the bard of personality , And I w\n"
     ]
    }
   ],
   "source": [
    "text2.concordance(\"will\")"
   ]
  },
  {
   "cell_type": "markdown",
   "metadata": {
    "collapsed": true
   },
   "source": [
    "** 'will' is mostly preceded with pronoun 'I' **"
   ]
  },
  {
   "cell_type": "markdown",
   "metadata": {},
   "source": [
    "## ** Problem 2. In the Inaugural corpus identify 10 most frequently used words longer than 7 characters. **"
   ]
  },
  {
   "cell_type": "code",
   "execution_count": 14,
   "metadata": {
    "collapsed": false
   },
   "outputs": [],
   "source": [
    "# load all the words from inaugural corpus books\n",
    "words1 = nltk.corpus.inaugural.words(nltk.corpus.inaugural.fileids())\n",
    "\n",
    "#filter out words which have lenght greated than 7\n",
    "char = ([w.lower() for w in words1 if len(w) > 7 ])\n",
    "\n",
    "#find its freq-distribution and find the top 10 words\n",
    "fdist1 = FreqDist(char)\n",
    "f = fdist1.most_common(10)\n"
   ]
  },
  {
   "cell_type": "code",
   "execution_count": 15,
   "metadata": {
    "collapsed": false
   },
   "outputs": [
    {
     "data": {
      "text/html": [
       "<div>\n",
       "<table border=\"1\" class=\"dataframe\">\n",
       "  <thead>\n",
       "    <tr style=\"text-align: right;\">\n",
       "      <th></th>\n",
       "      <th>Top 10 words</th>\n",
       "      <th>Total occurrences</th>\n",
       "    </tr>\n",
       "  </thead>\n",
       "  <tbody>\n",
       "    <tr>\n",
       "      <th>0</th>\n",
       "      <td>government</td>\n",
       "      <td>593</td>\n",
       "    </tr>\n",
       "    <tr>\n",
       "      <th>1</th>\n",
       "      <td>citizens</td>\n",
       "      <td>237</td>\n",
       "    </tr>\n",
       "    <tr>\n",
       "      <th>2</th>\n",
       "      <td>constitution</td>\n",
       "      <td>205</td>\n",
       "    </tr>\n",
       "    <tr>\n",
       "      <th>3</th>\n",
       "      <td>national</td>\n",
       "      <td>154</td>\n",
       "    </tr>\n",
       "    <tr>\n",
       "      <th>4</th>\n",
       "      <td>american</td>\n",
       "      <td>147</td>\n",
       "    </tr>\n",
       "    <tr>\n",
       "      <th>5</th>\n",
       "      <td>congress</td>\n",
       "      <td>129</td>\n",
       "    </tr>\n",
       "    <tr>\n",
       "      <th>6</th>\n",
       "      <td>interests</td>\n",
       "      <td>113</td>\n",
       "    </tr>\n",
       "    <tr>\n",
       "      <th>7</th>\n",
       "      <td>political</td>\n",
       "      <td>106</td>\n",
       "    </tr>\n",
       "    <tr>\n",
       "      <th>8</th>\n",
       "      <td>executive</td>\n",
       "      <td>97</td>\n",
       "    </tr>\n",
       "    <tr>\n",
       "      <th>9</th>\n",
       "      <td>principles</td>\n",
       "      <td>93</td>\n",
       "    </tr>\n",
       "  </tbody>\n",
       "</table>\n",
       "</div>"
      ],
      "text/plain": [
       "   Top 10 words  Total occurrences\n",
       "0    government                593\n",
       "1      citizens                237\n",
       "2  constitution                205\n",
       "3      national                154\n",
       "4      american                147\n",
       "5      congress                129\n",
       "6     interests                113\n",
       "7     political                106\n",
       "8     executive                 97\n",
       "9    principles                 93"
      ]
     },
     "execution_count": 15,
     "metadata": {},
     "output_type": "execute_result"
    }
   ],
   "source": [
    "# Separate the words and values and create a dataframe\n",
    "val1 = []\n",
    "for i in range(10):\n",
    "    val1.append(f[i][0])\n",
    "val2 = []\n",
    "for j in range(10):\n",
    "    val2.append(f[j][1])\n",
    "d = {'Top 10 words': val1, 'Total occurrences': val2}\n",
    "df = pd.DataFrame(d)\n",
    "df"
   ]
  },
  {
   "cell_type": "markdown",
   "metadata": {},
   "source": [
    "## ** List all synonyms for those 10 words. **"
   ]
  },
  {
   "cell_type": "code",
   "execution_count": 16,
   "metadata": {
    "collapsed": false
   },
   "outputs": [
    {
     "name": "stdout",
     "output_type": "stream",
     "text": [
      "The word is  government\n",
      "Its synonymns are: \n",
      "   [u'government', u'authorities', u'regime']\n",
      "   [u'government', u'governing', u'governance', u'government_activity', u'administration']\n",
      "   [u'government']\n",
      "   [u'politics', u'political_science', u'government']\n",
      "The word is  citizens\n",
      "Its synonymns are: \n",
      "   [u'citizen']\n",
      "The word is  constitution\n",
      "Its synonymns are: \n",
      "   [u'fundamental_law', u'organic_law', u'constitution']\n",
      "   [u'constitution', u'establishment', u'formation', u'organization', u'organisation']\n",
      "   [u'United_States_Constitution', u'U.S._Constitution', u'US_Constitution', u'Constitution', u'Constitution_of_the_United_States']\n",
      "   [u'constitution', u'composition', u'physical_composition', u'makeup', u'make-up']\n",
      "   [u'Constitution', u'Old_Ironsides']\n",
      "The word is  national\n",
      "Its synonymns are: \n",
      "   [u'national', u'subject']\n",
      "   [u'national']\n",
      "   [u'national']\n",
      "   [u'national']\n",
      "   [u'national']\n",
      "   [u'home', u'interior', u'internal', u'national']\n",
      "   [u'national']\n",
      "   [u'national']\n",
      "The word is  american\n",
      "Its synonymns are: \n",
      "   [u'American']\n",
      "   [u'American_English', u'American_language', u'American']\n",
      "   [u'American']\n",
      "   [u'American']\n",
      "   [u'American']\n",
      "The word is  congress\n",
      "Its synonymns are: \n",
      "   [u'Congress', u'United_States_Congress', u'U.S._Congress', u'US_Congress']\n",
      "   [u'congress']\n",
      "   [u'congress']\n",
      "   [u'sexual_intercourse', u'intercourse', u'sex_act', u'copulation', u'coitus', u'coition', u'sexual_congress', u'congress', u'sexual_relation', u'relation', u'carnal_knowledge']\n",
      "The word is  interests\n",
      "Its synonymns are: \n",
      "   [u'interest', u'involvement']\n",
      "   [u'sake', u'interest']\n",
      "   [u'interest', u'interestingness']\n",
      "   [u'interest']\n",
      "   [u'interest', u'stake']\n",
      "   [u'interest', u'interest_group']\n",
      "   [u'pastime', u'interest', u'pursuit']\n",
      "   [u'interest']\n",
      "   [u'concern', u'interest', u'occupy', u'worry']\n",
      "   [u'matter_to', u'interest']\n",
      "The word is  political\n",
      "Its synonymns are: \n",
      "   [u'political']\n",
      "   [u'political']\n",
      "   [u'political']\n",
      "The word is  executive\n",
      "Its synonymns are: \n",
      "   [u'executive', u'executive_director']\n",
      "   [u'executive']\n",
      "   [u'administrator', u'executive']\n",
      "   [u'executive']\n",
      "The word is  principles\n",
      "Its synonymns are: \n",
      "   [u'principle', u'rule']\n",
      "   [u'principle']\n",
      "   [u'principle']\n",
      "   [u'principle', u'rule']\n",
      "   [u'principle', u'precept']\n",
      "   [u'rationale', u'principle']\n"
     ]
    }
   ],
   "source": [
    "synoymn = []\n",
    "for top_words in fdist1.most_common(10):\n",
    "    print 'The word is ',top_words[0]\n",
    "    count=0\n",
    "    print 'Its synonymns are: '\n",
    "    for words in wn.synsets(top_words[0]):\n",
    "        # print  words\n",
    "        print '  ',words.lemma_names()\n",
    "        count+=len(words.lemma_names())\n",
    "    synoymn.append([top_words[0],count])\n",
    "         "
   ]
  },
  {
   "cell_type": "code",
   "execution_count": 17,
   "metadata": {
    "collapsed": false
   },
   "outputs": [
    {
     "name": "stdout",
     "output_type": "stream",
     "text": [
      "\n",
      "The top 10 words and its synonym with its count are: \n",
      "\n"
     ]
    },
    {
     "data": {
      "text/html": [
       "<div>\n",
       "<table border=\"1\" class=\"dataframe\">\n",
       "  <thead>\n",
       "    <tr style=\"text-align: right;\">\n",
       "      <th></th>\n",
       "      <th>Top 10 words</th>\n",
       "      <th>Total synonymns</th>\n",
       "    </tr>\n",
       "  </thead>\n",
       "  <tbody>\n",
       "    <tr>\n",
       "      <th>0</th>\n",
       "      <td>government</td>\n",
       "      <td>12</td>\n",
       "    </tr>\n",
       "    <tr>\n",
       "      <th>1</th>\n",
       "      <td>citizens</td>\n",
       "      <td>1</td>\n",
       "    </tr>\n",
       "    <tr>\n",
       "      <th>2</th>\n",
       "      <td>constitution</td>\n",
       "      <td>20</td>\n",
       "    </tr>\n",
       "    <tr>\n",
       "      <th>3</th>\n",
       "      <td>national</td>\n",
       "      <td>12</td>\n",
       "    </tr>\n",
       "    <tr>\n",
       "      <th>4</th>\n",
       "      <td>american</td>\n",
       "      <td>7</td>\n",
       "    </tr>\n",
       "    <tr>\n",
       "      <th>5</th>\n",
       "      <td>congress</td>\n",
       "      <td>17</td>\n",
       "    </tr>\n",
       "    <tr>\n",
       "      <th>6</th>\n",
       "      <td>interests</td>\n",
       "      <td>21</td>\n",
       "    </tr>\n",
       "    <tr>\n",
       "      <th>7</th>\n",
       "      <td>political</td>\n",
       "      <td>3</td>\n",
       "    </tr>\n",
       "    <tr>\n",
       "      <th>8</th>\n",
       "      <td>executive</td>\n",
       "      <td>6</td>\n",
       "    </tr>\n",
       "    <tr>\n",
       "      <th>9</th>\n",
       "      <td>principles</td>\n",
       "      <td>10</td>\n",
       "    </tr>\n",
       "  </tbody>\n",
       "</table>\n",
       "</div>"
      ],
      "text/plain": [
       "   Top 10 words  Total synonymns\n",
       "0    government               12\n",
       "1      citizens                1\n",
       "2  constitution               20\n",
       "3      national               12\n",
       "4      american                7\n",
       "5      congress               17\n",
       "6     interests               21\n",
       "7     political                3\n",
       "8     executive                6\n",
       "9    principles               10"
      ]
     },
     "execution_count": 17,
     "metadata": {},
     "output_type": "execute_result"
    }
   ],
   "source": [
    "val1 = []\n",
    "for i in range(10):\n",
    "    val1.append(synoymn[i][0])\n",
    "val2 = []\n",
    "for j in range(10):\n",
    "    val2.append(synoymn[j][1])\n",
    "d = {'Top 10 words': val1, 'Total synonymns': val2}\n",
    "df = pd.DataFrame(d)\n",
    "\n",
    "print '\\n',\n",
    "print 'The top 10 words and its synonym with its count are: \\n'\n",
    "df"
   ]
  },
  {
   "cell_type": "markdown",
   "metadata": {},
   "source": [
    "## ** Which one of those has the largest number of synonyms?**"
   ]
  },
  {
   "cell_type": "code",
   "execution_count": 18,
   "metadata": {
    "collapsed": false
   },
   "outputs": [
    {
     "name": "stdout",
     "output_type": "stream",
     "text": [
      "The word that has the largest number of synonyms:  \" interests \" with total number of synonymns:  21\n"
     ]
    }
   ],
   "source": [
    "df1 = df.loc[df['Total synonymns'].idxmax()]\n",
    "\n",
    "print 'The word that has the largest number of synonyms: ','\"',df1[0],'\"', 'with total number of synonymns: ',df1[1]\n"
   ]
  },
  {
   "cell_type": "markdown",
   "metadata": {},
   "source": [
    "## ** List all hyponyms of those 10 most frequently used “long” words**"
   ]
  },
  {
   "cell_type": "code",
   "execution_count": 19,
   "metadata": {
    "collapsed": false
   },
   "outputs": [
    {
     "name": "stdout",
     "output_type": "stream",
     "text": [
      "The word is  government\n",
      "Its hyponims are: \n",
      "    Synset('government.n.01')\n",
      "         [Synset('ancien_regime.n.01'), Synset('authoritarian_state.n.01'), Synset('bureaucracy.n.02'), Synset('court.n.03'), Synset('downing_street.n.02'), Synset('empire.n.02'), Synset('federal_government.n.01'), Synset('government-in-exile.n.01'), Synset('local_government.n.01'), Synset('military_government.n.01'), Synset('palace.n.02'), Synset('papacy.n.01'), Synset('puppet_government.n.01'), Synset('state.n.03'), Synset('state_government.n.01'), Synset('totalitarian_state.n.01')]\n",
      "    Synset('government.n.02')\n",
      "         [Synset('legislation.n.02'), Synset('misgovernment.n.01'), Synset('trust_busting.n.01')]\n",
      "    Synset('government.n.03')\n",
      "         []\n",
      "    Synset('politics.n.02')\n",
      "         [Synset('geopolitics.n.01'), Synset('realpolitik.n.01')]\n",
      "The word is  citizens\n",
      "Its hyponims are: \n",
      "    Synset('citizen.n.01')\n",
      "         [Synset('active_citizen.n.01'), Synset('civilian.n.01'), Synset('freeman.n.01'), Synset('private_citizen.n.01'), Synset('repatriate.n.01'), Synset('thane.n.02'), Synset('voter.n.01')]\n",
      "The word is  constitution\n",
      "Its hyponims are: \n",
      "    Synset('fundamental_law.n.01')\n",
      "         []\n",
      "    Synset('constitution.n.02')\n",
      "         [Synset('collectivization.n.01'), Synset('colonization.n.01'), Synset('communization.n.02'), Synset('federation.n.03'), Synset('unionization.n.01')]\n",
      "    Synset('united_states_constitution.n.01')\n",
      "         []\n",
      "    Synset('constitution.n.04')\n",
      "         [Synset('genotype.n.02'), Synset('karyotype.n.01'), Synset('phenotype.n.01'), Synset('structure.n.02'), Synset('texture.n.05')]\n",
      "    Synset('constitution.n.05')\n",
      "         []\n",
      "The word is  national\n",
      "Its hyponims are: \n",
      "    Synset('national.n.01')\n",
      "         [Synset('citizen.n.01'), Synset('compatriot.n.01'), Synset('patriot.n.01')]\n",
      "    Synset('national.a.01')\n",
      "         []\n",
      "    Synset('national.a.02')\n",
      "         []\n",
      "    Synset('national.a.03')\n",
      "         []\n",
      "    Synset('national.s.04')\n",
      "         []\n",
      "    Synset('home.s.03')\n",
      "         []\n",
      "    Synset('national.a.06')\n",
      "         []\n",
      "    Synset('national.a.07')\n",
      "         []\n",
      "The word is  american\n",
      "Its hyponims are: \n",
      "    Synset('american.n.01')\n",
      "         [Synset('african-american.n.01'), Synset('alabaman.n.01'), Synset('alaskan.n.01'), Synset('anglo-american.n.01'), Synset('appalachian.n.01'), Synset('arizonan.n.01'), Synset('arkansan.n.01'), Synset('asian_american.n.01'), Synset('bay_stater.n.01'), Synset('bostonian.n.01'), Synset('californian.n.01'), Synset('carolinian.n.01'), Synset('coloradan.n.01'), Synset('connecticuter.n.01'), Synset('creole.n.02'), Synset('delawarean.n.01'), Synset('floridian.n.01'), Synset('franco-american.n.01'), Synset('georgian.n.01'), Synset('german_american.n.01'), Synset('hawaiian.n.02'), Synset('idahoan.n.01'), Synset('illinoisan.n.01'), Synset('indianan.n.01'), Synset('iowan.n.01'), Synset('kansan.n.01'), Synset('kentuckian.n.01'), Synset('louisianan.n.01'), Synset('mainer.n.01'), Synset('marylander.n.01'), Synset('michigander.n.01'), Synset('minnesotan.n.01'), Synset('mississippian.n.02'), Synset('missourian.n.01'), Synset('montanan.n.01'), Synset('nebraskan.n.01'), Synset('nevadan.n.01'), Synset('new_englander.n.01'), Synset('new_hampshirite.n.01'), Synset('new_jerseyan.n.01'), Synset('new_mexican.n.01'), Synset('new_yorker.n.01'), Synset('nisei.n.01'), Synset('north_carolinian.n.01'), Synset('north_dakotan.n.01'), Synset('ohioan.n.01'), Synset('oklahoman.n.01'), Synset('oregonian.n.01'), Synset('pennsylvanian.n.02'), Synset('puerto_rican.n.01'), Synset('rhode_islander.n.01'), Synset('south_carolinian.n.01'), Synset('south_dakotan.n.01'), Synset('southerner.n.01'), Synset('spanish_american.n.01'), Synset('tennessean.n.01'), Synset('texan.n.01'), Synset('tory.n.01'), Synset('utahan.n.01'), Synset('vermonter.n.01'), Synset('virginian.n.01'), Synset('washingtonian.n.01'), Synset('washingtonian.n.02'), Synset('west_virginian.n.01'), Synset('wisconsinite.n.01'), Synset('wyomingite.n.01'), Synset('yankee.n.01'), Synset('yankee.n.03')]\n",
      "    Synset('american_english.n.01')\n",
      "         [Synset('african_american_vernacular_english.n.01')]\n",
      "    Synset('american.n.03')\n",
      "         [Synset('creole.n.01'), Synset('latin_american.n.01'), Synset('mesoamerican.n.01'), Synset('north_american.n.01'), Synset('south_american.n.01'), Synset('west_indian.n.01')]\n",
      "    Synset('american.a.01')\n",
      "         []\n",
      "    Synset('american.a.02')\n",
      "         []\n",
      "The word is  congress\n",
      "Its hyponims are: \n",
      "    Synset('congress.n.01')\n",
      "         []\n",
      "    Synset('congress.n.02')\n",
      "         [Synset('continental_congress.n.01')]\n",
      "    Synset('congress.n.03')\n",
      "         []\n",
      "    Synset('sexual_intercourse.n.01')\n",
      "         [Synset('defloration.n.02'), Synset('fuck.n.01'), Synset('hank_panky.n.01'), Synset('penetration.n.06'), Synset('unlawful_carnal_knowledge.n.01')]\n",
      "The word is  interests\n",
      "Its hyponims are: \n",
      "    Synset('interest.n.01')\n",
      "         [Synset('concern.n.01'), Synset('enthusiasm.n.03')]\n",
      "    Synset('sake.n.01')\n",
      "         [Synset('behalf.n.02')]\n",
      "    Synset('interest.n.03')\n",
      "         [Synset('charisma.n.01'), Synset('color.n.02'), Synset('newsworthiness.n.01'), Synset('shrillness.n.01'), Synset('topicality.n.01')]\n",
      "    Synset('interest.n.04')\n",
      "         [Synset('compound_interest.n.01'), Synset('simple_interest.n.01')]\n",
      "    Synset('interest.n.05')\n",
      "         [Synset('controlling_interest.n.01'), Synset('equity.n.02'), Synset('fee.n.02'), Synset('grubstake.n.01'), Synset('insurable_interest.n.01'), Synset('reversion.n.01'), Synset('right.n.08'), Synset('security_interest.n.01'), Synset('terminable_interest.n.01'), Synset('undivided_interest.n.01'), Synset('vested_interest.n.01')]\n",
      "    Synset('interest.n.06')\n",
      "         [Synset('special_interest.n.01'), Synset('vested_interest.n.02')]\n",
      "    Synset('pastime.n.01')\n",
      "         [Synset('avocation.n.01')]\n",
      "    Synset('interest.v.01')\n",
      "         [Synset('absorb.v.09'), Synset('fascinate.v.02')]\n",
      "    Synset('concern.v.02')\n",
      "         []\n",
      "    Synset('matter_to.v.01')\n",
      "         [Synset('intrigue.v.01')]\n",
      "The word is  political\n",
      "Its hyponims are: \n",
      "    Synset('political.a.01')\n",
      "         []\n",
      "    Synset('political.a.02')\n",
      "         []\n",
      "    Synset('political.a.03')\n",
      "         []\n",
      "The word is  executive\n",
      "Its hyponims are: \n",
      "    Synset('executive.n.01')\n",
      "         [Synset('corporate_executive.n.01'), Synset('minister.n.02'), Synset('rainmaker.n.01'), Synset('surgeon_general.n.01'), Synset('vice_president.n.01')]\n",
      "    Synset('executive.n.02')\n",
      "         [Synset('bush_administration.n.01'), Synset('bush_administration.n.02'), Synset('carter_administration.n.01'), Synset('clinton_administration.n.01'), Synset('reagan_administration.n.01')]\n",
      "    Synset('administrator.n.03')\n",
      "         [Synset('commissioner.n.01'), Synset('director_of_central_intelligence.n.01'), Synset('prefect.n.01'), Synset('secretary_general.n.01'), Synset('triumvir.n.01')]\n",
      "    Synset('executive.a.01')\n",
      "         []\n",
      "The word is  principles\n",
      "Its hyponims are: \n",
      "    Synset('principle.n.01')\n",
      "         [Synset('feng_shui.n.01'), Synset('pillar.n.01'), Synset('yang.n.01'), Synset('yin.n.01')]\n",
      "    Synset('principle.n.02')\n",
      "         [Synset('accounting_principle.n.01'), Synset('chivalry.n.02'), Synset('ethic.n.01'), Synset('hellenism.n.01'), Synset('legal_principle.n.01'), Synset('scruple.n.03')]\n",
      "    Synset('principle.n.03')\n",
      "         [Synset('conservation.n.03'), Synset('dictate.n.02'), Synset('fundamentals.n.01'), Synset('insurrectionism.n.01'), Synset('logic.n.03'), Synset('pleasure_principle.n.01'), Synset('reality_principle.n.01'), Synset('tao.n.02')]\n",
      "    Synset('principle.n.04')\n",
      "         [Synset('gestalt_law_of_organization.n.01'), Synset('gresham's_law.n.01'), Synset('le_chatelier's_principle.n.01'), Synset('localization_of_function.n.01'), Synset('mass-action_principle.n.01'), Synset('mass-energy_equivalence.n.01'), Synset('naegele's_rule.n.01'), Synset('occam's_razor.n.01'), Synset('principle_of_equivalence.n.01'), Synset('principle_of_liquid_displacement.n.01'), Synset('principle_of_superposition.n.01'), Synset('principle_of_superposition.n.02')]\n",
      "    Synset('principle.n.05')\n",
      "         [Synset('caveat_emptor.n.01'), Synset('higher_law.n.01'), Synset('hypothetical_imperative.n.01'), Synset('moral_principle.n.02')]\n",
      "    Synset('rationale.n.01')\n",
      "         [Synset('dialectics.n.01')]\n"
     ]
    }
   ],
   "source": [
    "hyponim = []\n",
    "for top_words in fdist1.most_common(10):\n",
    "    print 'The word is ',top_words[0]\n",
    "    count =0\n",
    "    print 'Its hyponims are: '\n",
    "    for words in wn.synsets(top_words[0]):\n",
    "        print '   ',words\n",
    "        print '        ',words.hyponyms()\n",
    "        count+= len(words.hyponyms())\n",
    "    hyponim.append([top_words[0],count])\n",
    "\n",
    "\n",
    "        "
   ]
  },
  {
   "cell_type": "code",
   "execution_count": 20,
   "metadata": {
    "collapsed": false
   },
   "outputs": [
    {
     "name": "stdout",
     "output_type": "stream",
     "text": [
      "\n",
      "The top 10 words and its hyponims with its count are: \n",
      "\n",
      "\n"
     ]
    },
    {
     "data": {
      "text/html": [
       "<div>\n",
       "<table border=\"1\" class=\"dataframe\">\n",
       "  <thead>\n",
       "    <tr style=\"text-align: right;\">\n",
       "      <th></th>\n",
       "      <th>Top 10 words</th>\n",
       "      <th>Total hyponims</th>\n",
       "    </tr>\n",
       "  </thead>\n",
       "  <tbody>\n",
       "    <tr>\n",
       "      <th>0</th>\n",
       "      <td>government</td>\n",
       "      <td>21</td>\n",
       "    </tr>\n",
       "    <tr>\n",
       "      <th>1</th>\n",
       "      <td>citizens</td>\n",
       "      <td>7</td>\n",
       "    </tr>\n",
       "    <tr>\n",
       "      <th>2</th>\n",
       "      <td>constitution</td>\n",
       "      <td>10</td>\n",
       "    </tr>\n",
       "    <tr>\n",
       "      <th>3</th>\n",
       "      <td>national</td>\n",
       "      <td>3</td>\n",
       "    </tr>\n",
       "    <tr>\n",
       "      <th>4</th>\n",
       "      <td>american</td>\n",
       "      <td>75</td>\n",
       "    </tr>\n",
       "    <tr>\n",
       "      <th>5</th>\n",
       "      <td>congress</td>\n",
       "      <td>6</td>\n",
       "    </tr>\n",
       "    <tr>\n",
       "      <th>6</th>\n",
       "      <td>interests</td>\n",
       "      <td>27</td>\n",
       "    </tr>\n",
       "    <tr>\n",
       "      <th>7</th>\n",
       "      <td>political</td>\n",
       "      <td>0</td>\n",
       "    </tr>\n",
       "    <tr>\n",
       "      <th>8</th>\n",
       "      <td>executive</td>\n",
       "      <td>15</td>\n",
       "    </tr>\n",
       "    <tr>\n",
       "      <th>9</th>\n",
       "      <td>principles</td>\n",
       "      <td>35</td>\n",
       "    </tr>\n",
       "  </tbody>\n",
       "</table>\n",
       "</div>"
      ],
      "text/plain": [
       "   Top 10 words  Total hyponims\n",
       "0    government              21\n",
       "1      citizens               7\n",
       "2  constitution              10\n",
       "3      national               3\n",
       "4      american              75\n",
       "5      congress               6\n",
       "6     interests              27\n",
       "7     political               0\n",
       "8     executive              15\n",
       "9    principles              35"
      ]
     },
     "execution_count": 20,
     "metadata": {},
     "output_type": "execute_result"
    }
   ],
   "source": [
    "val1 = []\n",
    "for i in range(10):\n",
    "    val1.append(hyponim[i][0])\n",
    "val2 = []\n",
    "for j in range(10):\n",
    "    val2.append(hyponim[j][1])\n",
    "d = {'Top 10 words': val1, 'Total hyponims': val2}\n",
    "df = pd.DataFrame(d)\n",
    "\n",
    "print '\\n',\n",
    "print 'The top 10 words and its hyponims with its count are: \\n\\n'\n",
    "df"
   ]
  },
  {
   "cell_type": "markdown",
   "metadata": {},
   "source": [
    "## **Which one of those 10 words has the largest number of hyponyms?  **"
   ]
  },
  {
   "cell_type": "code",
   "execution_count": 21,
   "metadata": {
    "collapsed": false
   },
   "outputs": [
    {
     "name": "stdout",
     "output_type": "stream",
     "text": [
      "The word that has the largest number of synonyms:  \" american \" with total number of synonymns:  75\n"
     ]
    }
   ],
   "source": [
    "df1 = df.loc[df['Total hyponims'].idxmax()]\n",
    "\n",
    "print 'The word that has the largest number of synonyms: ','\"',df1[0],'\"', 'with total number of synonymns: ',df1[1]\n"
   ]
  },
  {
   "cell_type": "markdown",
   "metadata": {},
   "source": [
    "## ** Problem 3. Create your own grammar for the following sentence: “Describe every step of your work and present all intermediate and final results in a Word document”. Present the syntactic structure of that sentence as a tree. You could use Ne04J to create the visual graph of that tree. You graph does not have to look exactly like the graphs in the book. You are welcome to use any other technique or API to create that graph**\n"
   ]
  },
  {
   "cell_type": "code",
   "execution_count": 22,
   "metadata": {
    "collapsed": true
   },
   "outputs": [],
   "source": [
    "text = \"Describe every step of your work and present all intermediate and final results in a Word document\""
   ]
  },
  {
   "cell_type": "code",
   "execution_count": 23,
   "metadata": {
    "collapsed": true
   },
   "outputs": [],
   "source": [
    "sentence = text.split()"
   ]
  },
  {
   "cell_type": "code",
   "execution_count": 24,
   "metadata": {
    "collapsed": false
   },
   "outputs": [
    {
     "name": "stdout",
     "output_type": "stream",
     "text": [
      "['Describe', 'every', 'step', 'of', 'your', 'work', 'and', 'present', 'all', 'intermediate', 'and', 'final', 'results', 'in', 'a', 'Word', 'document']\n"
     ]
    }
   ],
   "source": [
    "print sentence"
   ]
  },
  {
   "cell_type": "code",
   "execution_count": 25,
   "metadata": {
    "collapsed": true
   },
   "outputs": [],
   "source": [
    "# define a simple context-free grammar.\n",
    "groucho_grammar = CFG.fromstring(\"\"\"\n",
    "S -> VP | VP Cnj VP\n",
    "VP -> V NP | V PP\n",
    "NP -> Det N | Det N PP | Adj N | Adj N PP\n",
    "PP -> P NP  \n",
    "N -> 'step' | 'work' | 'results' | 'Word' 'document'\n",
    "P -> 'in' | 'of' | 'all'\n",
    "V -> 'Describe' | 'present'\n",
    "Det -> 'an' | 'my' | 'every' | 'your' | 'a'\n",
    "Adj -> 'intermediate' | 'final' | Adj Cnj Adj\n",
    "Cnj -> 'and' | 'or' \n",
    "\"\"\")\n"
   ]
  },
  {
   "cell_type": "code",
   "execution_count": 26,
   "metadata": {
    "collapsed": false
   },
   "outputs": [
    {
     "name": "stdout",
     "output_type": "stream",
     "text": [
      "(S\n",
      "  (VP\n",
      "    (V Describe)\n",
      "    (NP (Det every) (N step) (PP (P of) (NP (Det your) (N work)))))\n",
      "  (Cnj and)\n",
      "  (VP\n",
      "    (V present)\n",
      "    (PP\n",
      "      (P all)\n",
      "      (NP\n",
      "        (Adj (Adj intermediate) (Cnj and) (Adj final))\n",
      "        (N results)\n",
      "        (PP (P in) (NP (Det a) (N Word document)))))))\n"
     ]
    }
   ],
   "source": [
    "parser = nltk.ChartParser(groucho_grammar,trace=0)\n",
    "trees = parser.parse(sentence)\n",
    "for tree in trees:\n",
    "    print tree"
   ]
  },
  {
   "cell_type": "code",
   "execution_count": 27,
   "metadata": {
    "collapsed": false
   },
   "outputs": [],
   "source": [
    "t = Tree.fromstring(\"\"\"\n",
    "(S\n",
    "  (VP\n",
    "    (V Describe)\n",
    "    (NP (Det every) (N step) (PP (P of) (NP (Det your) (N work)))))\n",
    "  (Cnj and)\n",
    "  (VP\n",
    "    (V present)\n",
    "    (PP\n",
    "      (P all)\n",
    "      (NP\n",
    "        (Adj (Adj intermediate) (Cnj and) (Adj final))\n",
    "        (N results)\n",
    "        (PP (P in) (NP (Det a) (N Word document)))))))\n",
    "\"\"\")"
   ]
  },
  {
   "cell_type": "code",
   "execution_count": 28,
   "metadata": {
    "collapsed": true
   },
   "outputs": [],
   "source": [
    "t.draw()"
   ]
  },
  {
   "cell_type": "code",
   "execution_count": 29,
   "metadata": {
    "collapsed": false
   },
   "outputs": [
    {
     "data": {
      "image/png": "[encoded data removed]",
      "text/plain": [
       "<IPython.core.display.Image object>"
      ]
     },
     "execution_count": 29,
     "metadata": {},
     "output_type": "execute_result"
    }
   ],
   "source": [
    "from IPython.display import Image\n",
    "Image(\"sentence_tree.png\")"
   ]
  },
  {
   "cell_type": "code",
   "execution_count": null,
   "metadata": {
    "collapsed": true
   },
   "outputs": [],
   "source": []
  },
  {
   "cell_type": "code",
   "execution_count": null,
   "metadata": {
    "collapsed": true
   },
   "outputs": [],
   "source": []
  },
  {
   "cell_type": "code",
   "execution_count": null,
   "metadata": {
    "collapsed": true
   },
   "outputs": [],
   "source": []
  }
 ],
 "metadata": {
  "anaconda-cloud": {},
  "kernelspec": {
   "display_name": "Python [conda root]",
   "language": "python",
   "name": "conda-root-py"
  },
  "language_info": {
   "codemirror_mode": {
    "name": "ipython",
    "version": 2
   },
   "file_extension": ".py",
   "mimetype": "text/x-python",
   "name": "python",
   "nbconvert_exporter": "python",
   "pygments_lexer": "ipython2",
   "version": "2.7.12"
  }
 },
 "nbformat": 4,
 "nbformat_minor": 0
}
