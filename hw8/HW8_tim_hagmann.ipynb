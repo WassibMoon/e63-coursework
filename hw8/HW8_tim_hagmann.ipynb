{
 "cells": [
  {
   "cell_type": "markdown",
   "metadata": {},
   "source": [
    "**Setup**"
   ]
  },
  {
   "cell_type": "code",
   "execution_count": 1,
   "metadata": {
    "collapsed": true
   },
   "outputs": [],
   "source": [
    "import pandas as pd\n",
    "from sklearn.feature_extraction.text import CountVectorizer\n",
    "import numpy as np\n",
    "import pandas as pd\n",
    "from nltk.text import Text \n",
    "from nltk import FreqDist\n",
    "from nltk.corpus import wordnet as wn\n",
    "import nltk\n",
    "import re\n",
    "\n",
    "from nltk.corpus import inaugural\n",
    "from collections import Counter\n",
    "\n",
    "from nltk import CFG\n",
    "from nltk.tree import Tree"
   ]
  },
  {
   "cell_type": "markdown",
   "metadata": {},
   "source": [
    "# Problem 1 (25%)\n",
    "Use the text of the Universal Declaration of Human Rights (UDHR). Create a table for 5 languages in which you will collect statistics about the languages used. Place in that table the number of words in each language in UDHR, number of unique words, average length of words, number of sentences contained in UDHR and average number of words per sentence. Create a distribution of sentence lengths for each language. Plot those (non-cumulative) distributions on one diagram. "
   ]
  },
  {
   "cell_type": "markdown",
   "metadata": {},
   "source": [
    "### Import text \n",
    "Import the UDHR text and show some of the available languages."
   ]
  },
  {
   "cell_type": "code",
   "execution_count": 2,
   "metadata": {},
   "outputs": [
    {
     "data": {
      "text/plain": [
       "[u'HaitianCreole_Popular-Latin1',\n",
       " u'Hani-Latin1',\n",
       " u'Hausa_Haoussa-Latin1',\n",
       " u'Hawaiian-UTF8',\n",
       " u'Hebrew_Ivrit-Hebrew',\n",
       " u'Hebrew_Ivrit-UTF8',\n",
       " u'Hiligaynon-Latin1',\n",
       " u'Hindi-UTF8',\n",
       " u'Hindi_web-UTF8',\n",
       " u'Hmong_Miao-Sichuan-Guizhou-Yunnan-Latin1']"
      ]
     },
     "execution_count": 2,
     "metadata": {},
     "output_type": "execute_result"
    }
   ],
   "source": [
    "from nltk.corpus import udhr\n",
    "udhr.fileids()[100:110]"
   ]
  },
  {
   "cell_type": "markdown",
   "metadata": {},
   "source": [
    "### Select languages\n",
    "I'm selecting 5 languages, those are English, German, French, Czech and Spanish."
   ]
  },
  {
   "cell_type": "code",
   "execution_count": 3,
   "metadata": {
    "collapsed": true
   },
   "outputs": [],
   "source": [
    "languages = ['English-Latin1', 'German_Deutsch-Latin1', 'French_Francais-Latin1',\n",
    "             'Czech-Latin2', 'Spanish-Latin1']"
   ]
  },
  {
   "cell_type": "markdown",
   "metadata": {},
   "source": [
    "### Statistics \n",
    "In order to calculate the statistics we have to loop trough the languages and extract the different values.\n"
   ]
  },
  {
   "cell_type": "code",
   "execution_count": 4,
   "metadata": {
    "collapsed": true
   },
   "outputs": [],
   "source": [
    "# Define NP object\n",
    "np_udhr=[]\n",
    "\n",
    "# Loop trough languages\n",
    "for i in languages:\n",
    "    # Get statistics\n",
    "    n_char = len(udhr.raw(i))\n",
    "    n_words = len(udhr.words(i))\n",
    "    n_sents = len(udhr.sents(i))\n",
    "    n_unique = len(set(udhr.words(i)))\n",
    "    mean_word_length = round(n_char/n_words)\n",
    "    mean_n_words_sents = round(n_words/n_sents)\n",
    "    \n",
    "    # Define array\n",
    "    np_stat = [i, n_words, n_unique, n_sents,\n",
    "               mean_word_length, mean_n_words_sents]\n",
    "    np_udhr.append(np_stat)"
   ]
  },
  {
   "cell_type": "markdown",
   "metadata": {},
   "source": [
    "Next we can output the calculated values"
   ]
  },
  {
   "cell_type": "code",
   "execution_count": 5,
   "metadata": {},
   "outputs": [
    {
     "data": {
      "text/html": [
       "<div>\n",
       "<style>\n",
       "    .dataframe thead tr:only-child th {\n",
       "        text-align: right;\n",
       "    }\n",
       "\n",
       "    .dataframe thead th {\n",
       "        text-align: left;\n",
       "    }\n",
       "\n",
       "    .dataframe tbody tr th {\n",
       "        vertical-align: top;\n",
       "    }\n",
       "</style>\n",
       "<table border=\"1\" class=\"dataframe\">\n",
       "  <thead>\n",
       "    <tr style=\"text-align: right;\">\n",
       "      <th></th>\n",
       "      <th>Language</th>\n",
       "      <th>Word Count</th>\n",
       "      <th>Word Count Unique</th>\n",
       "      <th>Number of Sentences</th>\n",
       "      <th>Word Length (Mean)</th>\n",
       "      <th>Words Per Sentence (Mean)</th>\n",
       "    </tr>\n",
       "  </thead>\n",
       "  <tbody>\n",
       "    <tr>\n",
       "      <th>0</th>\n",
       "      <td>English-Latin1</td>\n",
       "      <td>1781</td>\n",
       "      <td>533</td>\n",
       "      <td>67</td>\n",
       "      <td>5.0</td>\n",
       "      <td>26.0</td>\n",
       "    </tr>\n",
       "    <tr>\n",
       "      <th>1</th>\n",
       "      <td>German_Deutsch-Latin1</td>\n",
       "      <td>1521</td>\n",
       "      <td>579</td>\n",
       "      <td>60</td>\n",
       "      <td>6.0</td>\n",
       "      <td>25.0</td>\n",
       "    </tr>\n",
       "    <tr>\n",
       "      <th>2</th>\n",
       "      <td>French_Francais-Latin1</td>\n",
       "      <td>1935</td>\n",
       "      <td>567</td>\n",
       "      <td>57</td>\n",
       "      <td>5.0</td>\n",
       "      <td>33.0</td>\n",
       "    </tr>\n",
       "    <tr>\n",
       "      <th>3</th>\n",
       "      <td>Czech-Latin2</td>\n",
       "      <td>1972</td>\n",
       "      <td>785</td>\n",
       "      <td>72</td>\n",
       "      <td>5.0</td>\n",
       "      <td>27.0</td>\n",
       "    </tr>\n",
       "    <tr>\n",
       "      <th>4</th>\n",
       "      <td>Spanish-Latin1</td>\n",
       "      <td>1763</td>\n",
       "      <td>542</td>\n",
       "      <td>58</td>\n",
       "      <td>5.0</td>\n",
       "      <td>30.0</td>\n",
       "    </tr>\n",
       "  </tbody>\n",
       "</table>\n",
       "</div>"
      ],
      "text/plain": [
       "                 Language  Word Count  Word Count Unique  Number of Sentences  \\\n",
       "0          English-Latin1        1781                533                   67   \n",
       "1   German_Deutsch-Latin1        1521                579                   60   \n",
       "2  French_Francais-Latin1        1935                567                   57   \n",
       "3            Czech-Latin2        1972                785                   72   \n",
       "4          Spanish-Latin1        1763                542                   58   \n",
       "\n",
       "   Word Length (Mean)  Words Per Sentence (Mean)  \n",
       "0                 5.0                       26.0  \n",
       "1                 6.0                       25.0  \n",
       "2                 5.0                       33.0  \n",
       "3                 5.0                       27.0  \n",
       "4                 5.0                       30.0  "
      ]
     },
     "execution_count": 5,
     "metadata": {},
     "output_type": "execute_result"
    }
   ],
   "source": [
    "df_stat = pd.DataFrame(np_udhr, columns=['Language', 'Word Count',\n",
    "                                         'Word Count Unique',\n",
    "                                         'Number of Sentences',\n",
    "                                         'Word Length (Mean)',\n",
    "                                         'Words Per Sentence (Mean)'])    \n",
    "df_stat"
   ]
  },
  {
   "cell_type": "markdown",
   "metadata": {},
   "source": [
    "### Distribution\n",
    "Next we're creating a conditional frequency distribution of the different sentence lengths for each individual language from above. "
   ]
  },
  {
   "cell_type": "code",
   "execution_count": 6,
   "metadata": {
    "collapsed": true
   },
   "outputs": [],
   "source": [
    "cfd = nltk.ConditionalFreqDist(\n",
    "            (lang, len(sent))\n",
    "            for lang in languages\n",
    "            for sent in udhr.sents(lang))"
   ]
  },
  {
   "cell_type": "markdown",
   "metadata": {},
   "source": [
    "### Visualize data\n",
    "We can visualize the data either trough a sample table or a cfd plot."
   ]
  },
  {
   "cell_type": "code",
   "execution_count": 7,
   "metadata": {},
   "outputs": [
    {
     "name": "stdout",
     "output_type": "stream",
     "text": [
      "                       0 1 2 3 4 5 6 7 8 9 \n",
      "        English-Latin1 0 0 0 0 2 0 1 0 0 1 \n",
      " German_Deutsch-Latin1 0 0 0 1 0 1 0 0 1 2 \n",
      "French_Francais-Latin1 0 0 0 0 1 0 0 1 0 0 \n",
      "          Czech-Latin2 0 0 0 0 2 1 1 0 1 0 \n",
      "        Spanish-Latin1 0 0 0 1 0 0 1 0 1 0 \n"
     ]
    }
   ],
   "source": [
    "cfd.tabulate(conditions=languages, samples=range(10), cumulative=False)"
   ]
  },
  {
   "cell_type": "markdown",
   "metadata": {},
   "source": [
    "Next we're plotting the data."
   ]
  },
  {
   "cell_type": "code",
   "execution_count": 8,
   "metadata": {},
   "outputs": [
    {
     "data": {
      "image/png": "[encoded data removed]",
      "text/plain": [
       "<matplotlib.figure.Figure at 0x7f02bacb6e90>"
      ]
     },
     "metadata": {},
     "output_type": "display_data"
    }
   ],
   "source": [
    "cfd.plot(cumulative=False)"
   ]
  },
  {
   "cell_type": "markdown",
   "metadata": {},
   "source": [
    "# Problem 2 (25%)\n",
    "Identify 10 most frequently used words longer than 7 characters in the entire corpus of Inaugural Addresses. Do not identify 10 words for every speech but rather 10 words for the entire corpus. Which among those words has the largest number of synonyms? List all synonyms for those 10 words. Which one of those 10 words has the largest number of hyponyms? List all hyponyms of those 10 most frequently used “long” words. The purpose of this problem is to familiarize you with WordNet and concepts of synonyms and hyponyms."
   ]
  },
  {
   "cell_type": "markdown",
   "metadata": {},
   "source": [
    "### Load words\n",
    "First we're loading all the words from the inaugural corpus. "
   ]
  },
  {
   "cell_type": "code",
   "execution_count": 9,
   "metadata": {
    "collapsed": true
   },
   "outputs": [],
   "source": [
    "np_words = nltk.corpus.inaugural.words(nltk.corpus.inaugural.fileids())"
   ]
  },
  {
   "cell_type": "markdown",
   "metadata": {},
   "source": [
    "### Filter\n",
    "Next we can limit the length of the words to 7 characters and identify the 10 most frequently used words. With that we can seperate the words and values."
   ]
  },
  {
   "cell_type": "code",
   "execution_count": 10,
   "metadata": {
    "collapsed": true
   },
   "outputs": [],
   "source": [
    "# Filter\n",
    "filt_char = ([w.lower() for w in np_words if len(w) > 7])\n",
    "\n",
    "# Frequency distribution\n",
    "f_dist = FreqDist(filt_char)\n",
    "freq = f_dist.most_common(10)\n",
    "\n",
    "# Creaty empty arrays\n",
    "np_1 = []\n",
    "np_2 = []\n",
    "\n",
    "# Seperate words\n",
    "for i in range(10):\n",
    "    np_1.append(freq[i][0])\n",
    "\n",
    "for i in range(10):\n",
    "    np_2.append(freq[i][1])\n",
    "\n",
    "# Create dataframe\n",
    "df_freq = pd.DataFrame({'Top 3':np_1, 'n':np_2})"
   ]
  },
  {
   "cell_type": "markdown",
   "metadata": {},
   "source": [
    "### Show data\n",
    "With that we can print the top 10 words and their number of occurrences."
   ]
  },
  {
   "cell_type": "code",
   "execution_count": 11,
   "metadata": {},
   "outputs": [
    {
     "data": {
      "text/html": [
       "<div>\n",
       "<style>\n",
       "    .dataframe thead tr:only-child th {\n",
       "        text-align: right;\n",
       "    }\n",
       "\n",
       "    .dataframe thead th {\n",
       "        text-align: left;\n",
       "    }\n",
       "\n",
       "    .dataframe tbody tr th {\n",
       "        vertical-align: top;\n",
       "    }\n",
       "</style>\n",
       "<table border=\"1\" class=\"dataframe\">\n",
       "  <thead>\n",
       "    <tr style=\"text-align: right;\">\n",
       "      <th></th>\n",
       "      <th>Top 3</th>\n",
       "      <th>n</th>\n",
       "    </tr>\n",
       "  </thead>\n",
       "  <tbody>\n",
       "    <tr>\n",
       "      <th>0</th>\n",
       "      <td>government</td>\n",
       "      <td>593</td>\n",
       "    </tr>\n",
       "    <tr>\n",
       "      <th>1</th>\n",
       "      <td>citizens</td>\n",
       "      <td>237</td>\n",
       "    </tr>\n",
       "    <tr>\n",
       "      <th>2</th>\n",
       "      <td>constitution</td>\n",
       "      <td>205</td>\n",
       "    </tr>\n",
       "    <tr>\n",
       "      <th>3</th>\n",
       "      <td>national</td>\n",
       "      <td>154</td>\n",
       "    </tr>\n",
       "    <tr>\n",
       "      <th>4</th>\n",
       "      <td>american</td>\n",
       "      <td>147</td>\n",
       "    </tr>\n",
       "    <tr>\n",
       "      <th>5</th>\n",
       "      <td>congress</td>\n",
       "      <td>129</td>\n",
       "    </tr>\n",
       "    <tr>\n",
       "      <th>6</th>\n",
       "      <td>interests</td>\n",
       "      <td>113</td>\n",
       "    </tr>\n",
       "    <tr>\n",
       "      <th>7</th>\n",
       "      <td>political</td>\n",
       "      <td>106</td>\n",
       "    </tr>\n",
       "    <tr>\n",
       "      <th>8</th>\n",
       "      <td>executive</td>\n",
       "      <td>97</td>\n",
       "    </tr>\n",
       "    <tr>\n",
       "      <th>9</th>\n",
       "      <td>principles</td>\n",
       "      <td>93</td>\n",
       "    </tr>\n",
       "  </tbody>\n",
       "</table>\n",
       "</div>"
      ],
      "text/plain": [
       "          Top 3    n\n",
       "0    government  593\n",
       "1      citizens  237\n",
       "2  constitution  205\n",
       "3      national  154\n",
       "4      american  147\n",
       "5      congress  129\n",
       "6     interests  113\n",
       "7     political  106\n",
       "8     executive   97\n",
       "9    principles   93"
      ]
     },
     "execution_count": 11,
     "metadata": {},
     "output_type": "execute_result"
    }
   ],
   "source": [
    "df_freq"
   ]
  },
  {
   "cell_type": "markdown",
   "metadata": {},
   "source": [
    "As we can see above, governement appears the most often from the top 10 words and principles the least."
   ]
  },
  {
   "cell_type": "markdown",
   "metadata": {},
   "source": [
    "### Synonyms\n",
    "Next we can get synomyns for all the words. We're printing all the synonyms for the words."
   ]
  },
  {
   "cell_type": "code",
   "execution_count": 12,
   "metadata": {},
   "outputs": [
    {
     "name": "stdout",
     "output_type": "stream",
     "text": [
      "Word:  government\n",
      "Synonymns: \n",
      "   [u'government', u'authorities', u'regime']\n",
      "   [u'government', u'governing', u'governance', u'government_activity', u'administration']\n",
      "   [u'government']\n",
      "   [u'politics', u'political_science', u'government']\n",
      "Word:  citizens\n",
      "Synonymns: \n",
      "   [u'citizen']\n",
      "Word:  constitution\n",
      "Synonymns: \n",
      "   [u'fundamental_law', u'organic_law', u'constitution']\n",
      "   [u'constitution', u'establishment', u'formation', u'organization', u'organisation']\n",
      "   [u'United_States_Constitution', u'U.S._Constitution', u'US_Constitution', u'Constitution', u'Constitution_of_the_United_States']\n",
      "   [u'constitution', u'composition', u'physical_composition', u'makeup', u'make-up']\n",
      "   [u'Constitution', u'Old_Ironsides']\n",
      "Word:  national\n",
      "Synonymns: \n",
      "   [u'national', u'subject']\n",
      "   [u'national']\n",
      "   [u'national']\n",
      "   [u'national']\n",
      "   [u'national']\n",
      "   [u'home', u'interior', u'internal', u'national']\n",
      "   [u'national']\n",
      "   [u'national']\n",
      "Word:  american\n",
      "Synonymns: \n",
      "   [u'American']\n",
      "   [u'American_English', u'American_language', u'American']\n",
      "   [u'American']\n",
      "   [u'American']\n",
      "   [u'American']\n",
      "Word:  congress\n",
      "Synonymns: \n",
      "   [u'Congress', u'United_States_Congress', u'U.S._Congress', u'US_Congress']\n",
      "   [u'congress']\n",
      "   [u'congress']\n",
      "   [u'sexual_intercourse', u'intercourse', u'sex_act', u'copulation', u'coitus', u'coition', u'sexual_congress', u'congress', u'sexual_relation', u'relation', u'carnal_knowledge']\n",
      "Word:  interests\n",
      "Synonymns: \n",
      "   [u'interest', u'involvement']\n",
      "   [u'sake', u'interest']\n",
      "   [u'interest', u'interestingness']\n",
      "   [u'interest']\n",
      "   [u'interest', u'stake']\n",
      "   [u'interest', u'interest_group']\n",
      "   [u'pastime', u'interest', u'pursuit']\n",
      "   [u'interest']\n",
      "   [u'concern', u'interest', u'occupy', u'worry']\n",
      "   [u'matter_to', u'interest']\n",
      "Word:  political\n",
      "Synonymns: \n",
      "   [u'political']\n",
      "   [u'political']\n",
      "   [u'political']\n",
      "Word:  executive\n",
      "Synonymns: \n",
      "   [u'executive', u'executive_director']\n",
      "   [u'executive']\n",
      "   [u'administrator', u'executive']\n",
      "   [u'executive']\n",
      "Word:  principles\n",
      "Synonymns: \n",
      "   [u'principle', u'rule']\n",
      "   [u'principle']\n",
      "   [u'principle']\n",
      "   [u'principle', u'rule']\n",
      "   [u'principle', u'precept']\n",
      "   [u'rationale', u'principle']\n"
     ]
    }
   ],
   "source": [
    "# Create array\n",
    "np_syn = []\n",
    "\n",
    "# Loop trough distribution\n",
    "for i in f_dist.most_common(10):\n",
    "    # Print word\n",
    "    print 'Word: ', i[0]\n",
    "    count=0\n",
    "    \n",
    "    # Print synonym\n",
    "    print 'Synonymns: '\n",
    "    for j in wn.synsets(i[0]):\n",
    "        print '  ',j.lemma_names()\n",
    "        count+=len(j.lemma_names())\n",
    "    np_syn.append([i[0], count])       "
   ]
  },
  {
   "cell_type": "code",
   "execution_count": 13,
   "metadata": {
    "collapsed": true
   },
   "outputs": [],
   "source": [
    "# Creaty empty arrays\n",
    "np_1 = []\n",
    "np_2 = []\n",
    "\n",
    "# Get synonyms\n",
    "for i in range(10):\n",
    "    np_1.append(np_syn[i][0])\n",
    "\n",
    "for j in range(10):\n",
    "    np_2.append(np_syn[j][1])\n",
    "\n",
    "# Create dataframe\n",
    "df_syn = pd.DataFrame({'Top 3':np_1, 'n':np_2})"
   ]
  },
  {
   "cell_type": "markdown",
   "metadata": {},
   "source": [
    "The top 10 words with its synonym counts are:"
   ]
  },
  {
   "cell_type": "code",
   "execution_count": 14,
   "metadata": {},
   "outputs": [
    {
     "data": {
      "text/html": [
       "<div>\n",
       "<style>\n",
       "    .dataframe thead tr:only-child th {\n",
       "        text-align: right;\n",
       "    }\n",
       "\n",
       "    .dataframe thead th {\n",
       "        text-align: left;\n",
       "    }\n",
       "\n",
       "    .dataframe tbody tr th {\n",
       "        vertical-align: top;\n",
       "    }\n",
       "</style>\n",
       "<table border=\"1\" class=\"dataframe\">\n",
       "  <thead>\n",
       "    <tr style=\"text-align: right;\">\n",
       "      <th></th>\n",
       "      <th>Top 3</th>\n",
       "      <th>n</th>\n",
       "    </tr>\n",
       "  </thead>\n",
       "  <tbody>\n",
       "    <tr>\n",
       "      <th>6</th>\n",
       "      <td>interests</td>\n",
       "      <td>21</td>\n",
       "    </tr>\n",
       "    <tr>\n",
       "      <th>2</th>\n",
       "      <td>constitution</td>\n",
       "      <td>20</td>\n",
       "    </tr>\n",
       "    <tr>\n",
       "      <th>5</th>\n",
       "      <td>congress</td>\n",
       "      <td>17</td>\n",
       "    </tr>\n",
       "    <tr>\n",
       "      <th>0</th>\n",
       "      <td>government</td>\n",
       "      <td>12</td>\n",
       "    </tr>\n",
       "    <tr>\n",
       "      <th>3</th>\n",
       "      <td>national</td>\n",
       "      <td>12</td>\n",
       "    </tr>\n",
       "    <tr>\n",
       "      <th>9</th>\n",
       "      <td>principles</td>\n",
       "      <td>10</td>\n",
       "    </tr>\n",
       "    <tr>\n",
       "      <th>4</th>\n",
       "      <td>american</td>\n",
       "      <td>7</td>\n",
       "    </tr>\n",
       "    <tr>\n",
       "      <th>8</th>\n",
       "      <td>executive</td>\n",
       "      <td>6</td>\n",
       "    </tr>\n",
       "    <tr>\n",
       "      <th>7</th>\n",
       "      <td>political</td>\n",
       "      <td>3</td>\n",
       "    </tr>\n",
       "    <tr>\n",
       "      <th>1</th>\n",
       "      <td>citizens</td>\n",
       "      <td>1</td>\n",
       "    </tr>\n",
       "  </tbody>\n",
       "</table>\n",
       "</div>"
      ],
      "text/plain": [
       "          Top 3   n\n",
       "6     interests  21\n",
       "2  constitution  20\n",
       "5      congress  17\n",
       "0    government  12\n",
       "3      national  12\n",
       "9    principles  10\n",
       "4      american   7\n",
       "8     executive   6\n",
       "7     political   3\n",
       "1      citizens   1"
      ]
     },
     "execution_count": 14,
     "metadata": {},
     "output_type": "execute_result"
    }
   ],
   "source": [
    "df_syn.sort_values(by=\"n\", ascending=False)"
   ]
  },
  {
   "cell_type": "markdown",
   "metadata": {},
   "source": [
    "As we can see above, interests appears to have the most synonyms and citizens the least."
   ]
  },
  {
   "cell_type": "markdown",
   "metadata": {},
   "source": [
    "### Hyponyms\n",
    "We're next listing all the hyponyms of those 10 most frequently used words. The goal is to find the largest numberof hyponyms."
   ]
  },
  {
   "cell_type": "code",
   "execution_count": 15,
   "metadata": {},
   "outputs": [
    {
     "name": "stdout",
     "output_type": "stream",
     "text": [
      "Word:  government\n",
      "Hyponyms: \n",
      "Synset('government.n.01')\n",
      "[Synset('ancien_regime.n.01'), Synset('authoritarian_state.n.01'), Synset('bureaucracy.n.02'), Synset('court.n.03'), Synset('downing_street.n.02'), Synset('empire.n.02'), Synset('federal_government.n.01'), Synset('government-in-exile.n.01'), Synset('local_government.n.01'), Synset('military_government.n.01'), Synset('palace.n.02'), Synset('papacy.n.01'), Synset('puppet_government.n.01'), Synset('state.n.03'), Synset('state_government.n.01'), Synset('totalitarian_state.n.01')]\n",
      "Synset('government.n.02')\n",
      "[Synset('legislation.n.02'), Synset('misgovernment.n.01'), Synset('trust_busting.n.01')]\n",
      "Synset('government.n.03')\n",
      "[]\n",
      "Synset('politics.n.02')\n",
      "[Synset('geopolitics.n.01'), Synset('realpolitik.n.01')]\n",
      "Word:  citizens\n",
      "Hyponyms: \n",
      "Synset('citizen.n.01')\n",
      "[Synset('active_citizen.n.01'), Synset('civilian.n.01'), Synset('freeman.n.01'), Synset('private_citizen.n.01'), Synset('repatriate.n.01'), Synset('thane.n.02'), Synset('voter.n.01')]\n",
      "Word:  constitution\n",
      "Hyponyms: \n",
      "Synset('fundamental_law.n.01')\n",
      "[]\n",
      "Synset('constitution.n.02')\n",
      "[Synset('collectivization.n.01'), Synset('colonization.n.01'), Synset('communization.n.02'), Synset('federation.n.03'), Synset('unionization.n.01')]\n",
      "Synset('united_states_constitution.n.01')\n",
      "[]\n",
      "Synset('constitution.n.04')\n",
      "[Synset('genotype.n.02'), Synset('karyotype.n.01'), Synset('phenotype.n.01'), Synset('structure.n.02'), Synset('texture.n.05')]\n",
      "Synset('constitution.n.05')\n",
      "[]\n",
      "Word:  national\n",
      "Hyponyms: \n",
      "Synset('national.n.01')\n",
      "[Synset('citizen.n.01'), Synset('compatriot.n.01'), Synset('patriot.n.01')]\n",
      "Synset('national.a.01')\n",
      "[]\n",
      "Synset('national.a.02')\n",
      "[]\n",
      "Synset('national.a.03')\n",
      "[]\n",
      "Synset('national.s.04')\n",
      "[]\n",
      "Synset('home.s.03')\n",
      "[]\n",
      "Synset('national.a.06')\n",
      "[]\n",
      "Synset('national.a.07')\n",
      "[]\n",
      "Word:  american\n",
      "Hyponyms: \n",
      "Synset('american.n.01')\n",
      "[Synset('african-american.n.01'), Synset('alabaman.n.01'), Synset('alaskan.n.01'), Synset('anglo-american.n.01'), Synset('appalachian.n.01'), Synset('arizonan.n.01'), Synset('arkansan.n.01'), Synset('asian_american.n.01'), Synset('bay_stater.n.01'), Synset('bostonian.n.01'), Synset('californian.n.01'), Synset('carolinian.n.01'), Synset('coloradan.n.01'), Synset('connecticuter.n.01'), Synset('creole.n.02'), Synset('delawarean.n.01'), Synset('floridian.n.01'), Synset('franco-american.n.01'), Synset('georgian.n.01'), Synset('german_american.n.01'), Synset('hawaiian.n.02'), Synset('idahoan.n.01'), Synset('illinoisan.n.01'), Synset('indianan.n.01'), Synset('iowan.n.01'), Synset('kansan.n.01'), Synset('kentuckian.n.01'), Synset('louisianan.n.01'), Synset('mainer.n.01'), Synset('marylander.n.01'), Synset('michigander.n.01'), Synset('minnesotan.n.01'), Synset('mississippian.n.02'), Synset('missourian.n.01'), Synset('montanan.n.01'), Synset('nebraskan.n.01'), Synset('nevadan.n.01'), Synset('new_englander.n.01'), Synset('new_hampshirite.n.01'), Synset('new_jerseyan.n.01'), Synset('new_mexican.n.01'), Synset('new_yorker.n.01'), Synset('nisei.n.01'), Synset('north_carolinian.n.01'), Synset('north_dakotan.n.01'), Synset('ohioan.n.01'), Synset('oklahoman.n.01'), Synset('oregonian.n.01'), Synset('pennsylvanian.n.02'), Synset('puerto_rican.n.01'), Synset('rhode_islander.n.01'), Synset('south_carolinian.n.01'), Synset('south_dakotan.n.01'), Synset('southerner.n.01'), Synset('spanish_american.n.01'), Synset('tennessean.n.01'), Synset('texan.n.01'), Synset('tory.n.01'), Synset('utahan.n.01'), Synset('vermonter.n.01'), Synset('virginian.n.01'), Synset('washingtonian.n.01'), Synset('washingtonian.n.02'), Synset('west_virginian.n.01'), Synset('wisconsinite.n.01'), Synset('wyomingite.n.01'), Synset('yankee.n.01'), Synset('yankee.n.03')]\n",
      "Synset('american_english.n.01')\n",
      "[Synset('african_american_vernacular_english.n.01')]\n",
      "Synset('american.n.03')\n",
      "[Synset('creole.n.01'), Synset('latin_american.n.01'), Synset('mesoamerican.n.01'), Synset('north_american.n.01'), Synset('south_american.n.01'), Synset('west_indian.n.01')]\n",
      "Synset('american.a.01')\n",
      "[]\n",
      "Synset('american.a.02')\n",
      "[]\n",
      "Word:  congress\n",
      "Hyponyms: \n",
      "Synset('congress.n.01')\n",
      "[]\n",
      "Synset('congress.n.02')\n",
      "[Synset('continental_congress.n.01')]\n",
      "Synset('congress.n.03')\n",
      "[]\n",
      "Synset('sexual_intercourse.n.01')\n",
      "[Synset('defloration.n.02'), Synset('fuck.n.01'), Synset('hank_panky.n.01'), Synset('penetration.n.06'), Synset('unlawful_carnal_knowledge.n.01')]\n",
      "Word:  interests\n",
      "Hyponyms: \n",
      "Synset('interest.n.01')\n",
      "[Synset('concern.n.01'), Synset('enthusiasm.n.03')]\n",
      "Synset('sake.n.01')\n",
      "[Synset('behalf.n.02')]\n",
      "Synset('interest.n.03')\n",
      "[Synset('charisma.n.01'), Synset('color.n.02'), Synset('newsworthiness.n.01'), Synset('shrillness.n.01'), Synset('topicality.n.01')]\n",
      "Synset('interest.n.04')\n",
      "[Synset('compound_interest.n.01'), Synset('simple_interest.n.01')]\n",
      "Synset('interest.n.05')\n",
      "[Synset('controlling_interest.n.01'), Synset('equity.n.02'), Synset('fee.n.02'), Synset('grubstake.n.01'), Synset('insurable_interest.n.01'), Synset('reversion.n.01'), Synset('right.n.08'), Synset('security_interest.n.01'), Synset('terminable_interest.n.01'), Synset('undivided_interest.n.01'), Synset('vested_interest.n.01')]\n",
      "Synset('interest.n.06')\n",
      "[Synset('special_interest.n.01'), Synset('vested_interest.n.02')]\n",
      "Synset('pastime.n.01')\n",
      "[Synset('avocation.n.01')]\n",
      "Synset('interest.v.01')\n",
      "[Synset('absorb.v.09'), Synset('fascinate.v.02')]\n",
      "Synset('concern.v.02')\n",
      "[]\n",
      "Synset('matter_to.v.01')\n",
      "[Synset('intrigue.v.01')]\n",
      "Word:  political\n",
      "Hyponyms: \n",
      "Synset('political.a.01')\n",
      "[]\n",
      "Synset('political.a.02')\n",
      "[]\n",
      "Synset('political.a.03')\n",
      "[]\n",
      "Word:  executive\n",
      "Hyponyms: \n",
      "Synset('executive.n.01')\n",
      "[Synset('corporate_executive.n.01'), Synset('minister.n.02'), Synset('rainmaker.n.01'), Synset('surgeon_general.n.01'), Synset('vice_president.n.01')]\n",
      "Synset('executive.n.02')\n",
      "[Synset('bush_administration.n.01'), Synset('bush_administration.n.02'), Synset('carter_administration.n.01'), Synset('clinton_administration.n.01'), Synset('reagan_administration.n.01')]\n",
      "Synset('administrator.n.03')\n",
      "[Synset('commissioner.n.01'), Synset('director_of_central_intelligence.n.01'), Synset('prefect.n.01'), Synset('secretary_general.n.01'), Synset('triumvir.n.01')]\n",
      "Synset('executive.a.01')\n",
      "[]\n",
      "Word:  principles\n",
      "Hyponyms: \n",
      "Synset('principle.n.01')\n",
      "[Synset('feng_shui.n.01'), Synset('pillar.n.01'), Synset('yang.n.01'), Synset('yin.n.01')]\n",
      "Synset('principle.n.02')\n",
      "[Synset('accounting_principle.n.01'), Synset('chivalry.n.02'), Synset('ethic.n.01'), Synset('hellenism.n.01'), Synset('legal_principle.n.01'), Synset('scruple.n.03')]\n",
      "Synset('principle.n.03')\n",
      "[Synset('conservation.n.03'), Synset('dictate.n.02'), Synset('fundamentals.n.01'), Synset('insurrectionism.n.01'), Synset('logic.n.03'), Synset('pleasure_principle.n.01'), Synset('reality_principle.n.01'), Synset('tao.n.02')]\n",
      "Synset('principle.n.04')\n",
      "[Synset('gestalt_law_of_organization.n.01'), Synset('gresham's_law.n.01'), Synset('le_chatelier's_principle.n.01'), Synset('localization_of_function.n.01'), Synset('mass-action_principle.n.01'), Synset('mass-energy_equivalence.n.01'), Synset('naegele's_rule.n.01'), Synset('occam's_razor.n.01'), Synset('principle_of_equivalence.n.01'), Synset('principle_of_liquid_displacement.n.01'), Synset('principle_of_superposition.n.01'), Synset('principle_of_superposition.n.02')]\n",
      "Synset('principle.n.05')\n",
      "[Synset('caveat_emptor.n.01'), Synset('higher_law.n.01'), Synset('hypothetical_imperative.n.01'), Synset('moral_principle.n.02')]\n",
      "Synset('rationale.n.01')\n",
      "[Synset('dialectics.n.01')]\n"
     ]
    }
   ],
   "source": [
    "# Create array\n",
    "np_hyp = []\n",
    "\n",
    "# Loop trough distribution\n",
    "for i in f_dist.most_common(10):\n",
    "    # Print word\n",
    "    print 'Word: ', i[0]\n",
    "    count=0\n",
    "    \n",
    "    # Print Hyponyms\n",
    "    print 'Hyponyms: '\n",
    "    for j in wn.synsets(i[0]):\n",
    "        print j\n",
    "        print j.hyponyms()\n",
    "        count+= len(j.hyponyms())\n",
    "    np_hyp.append([i[0], count])"
   ]
  },
  {
   "cell_type": "code",
   "execution_count": 16,
   "metadata": {
    "collapsed": true
   },
   "outputs": [],
   "source": [
    "# Creaty empty arrays\n",
    "np_1 = []\n",
    "np_2 = []\n",
    "\n",
    "# Get synonyms\n",
    "for i in range(10):\n",
    "    np_1.append(np_hyp[i][0])\n",
    "\n",
    "for j in range(10):\n",
    "    np_2.append(np_hyp[j][1])\n",
    "\n",
    "# Create dataframe\n",
    "df_hyp = pd.DataFrame({'Top 3':np_1, 'n':np_2})"
   ]
  },
  {
   "cell_type": "markdown",
   "metadata": {},
   "source": [
    "The top 10 words with hyponyms are:"
   ]
  },
  {
   "cell_type": "code",
   "execution_count": 17,
   "metadata": {},
   "outputs": [
    {
     "data": {
      "text/html": [
       "<div>\n",
       "<style>\n",
       "    .dataframe thead tr:only-child th {\n",
       "        text-align: right;\n",
       "    }\n",
       "\n",
       "    .dataframe thead th {\n",
       "        text-align: left;\n",
       "    }\n",
       "\n",
       "    .dataframe tbody tr th {\n",
       "        vertical-align: top;\n",
       "    }\n",
       "</style>\n",
       "<table border=\"1\" class=\"dataframe\">\n",
       "  <thead>\n",
       "    <tr style=\"text-align: right;\">\n",
       "      <th></th>\n",
       "      <th>Top 3</th>\n",
       "      <th>n</th>\n",
       "    </tr>\n",
       "  </thead>\n",
       "  <tbody>\n",
       "    <tr>\n",
       "      <th>4</th>\n",
       "      <td>american</td>\n",
       "      <td>75</td>\n",
       "    </tr>\n",
       "    <tr>\n",
       "      <th>9</th>\n",
       "      <td>principles</td>\n",
       "      <td>35</td>\n",
       "    </tr>\n",
       "    <tr>\n",
       "      <th>6</th>\n",
       "      <td>interests</td>\n",
       "      <td>27</td>\n",
       "    </tr>\n",
       "    <tr>\n",
       "      <th>0</th>\n",
       "      <td>government</td>\n",
       "      <td>21</td>\n",
       "    </tr>\n",
       "    <tr>\n",
       "      <th>8</th>\n",
       "      <td>executive</td>\n",
       "      <td>15</td>\n",
       "    </tr>\n",
       "    <tr>\n",
       "      <th>2</th>\n",
       "      <td>constitution</td>\n",
       "      <td>10</td>\n",
       "    </tr>\n",
       "    <tr>\n",
       "      <th>1</th>\n",
       "      <td>citizens</td>\n",
       "      <td>7</td>\n",
       "    </tr>\n",
       "    <tr>\n",
       "      <th>5</th>\n",
       "      <td>congress</td>\n",
       "      <td>6</td>\n",
       "    </tr>\n",
       "    <tr>\n",
       "      <th>3</th>\n",
       "      <td>national</td>\n",
       "      <td>3</td>\n",
       "    </tr>\n",
       "    <tr>\n",
       "      <th>7</th>\n",
       "      <td>political</td>\n",
       "      <td>0</td>\n",
       "    </tr>\n",
       "  </tbody>\n",
       "</table>\n",
       "</div>"
      ],
      "text/plain": [
       "          Top 3   n\n",
       "4      american  75\n",
       "9    principles  35\n",
       "6     interests  27\n",
       "0    government  21\n",
       "8     executive  15\n",
       "2  constitution  10\n",
       "1      citizens   7\n",
       "5      congress   6\n",
       "3      national   3\n",
       "7     political   0"
      ]
     },
     "execution_count": 17,
     "metadata": {},
     "output_type": "execute_result"
    }
   ],
   "source": [
    "df_hyp.sort_values(by=\"n\", ascending=False)"
   ]
  },
  {
   "cell_type": "markdown",
   "metadata": {},
   "source": [
    "As can be seen above, the word american has the most hyponyms and policial the least amount."
   ]
  },
  {
   "cell_type": "markdown",
   "metadata": {},
   "source": [
    "# Problem 3 (10%)\n",
    "Create your own grammar for the following sentence: \n",
    "\"Describe every step of your work and present all intermediate and final results in a Word document\". "
   ]
  },
  {
   "cell_type": "markdown",
   "metadata": {},
   "source": [
    "### Create and split\n",
    "We're first creating and splitting the above sentence"
   ]
  },
  {
   "cell_type": "code",
   "execution_count": 19,
   "metadata": {
    "collapsed": true
   },
   "outputs": [],
   "source": [
    "text = \"\"\"Describe every step of your work and present all intermediate \n",
    "          and final results in a Word document\"\"\"\n",
    "sentence = text.split()"
   ]
  },
  {
   "cell_type": "markdown",
   "metadata": {
    "collapsed": true
   },
   "source": [
    "### Output\n",
    "Next we can print the sentence."
   ]
  },
  {
   "cell_type": "code",
   "execution_count": 20,
   "metadata": {},
   "outputs": [
    {
     "name": "stdout",
     "output_type": "stream",
     "text": [
      "['Describe', 'every', 'step', 'of', 'your', 'work', 'and', 'present', 'all', 'intermediate', 'and', 'final', 'results', 'in', 'a', 'Word', 'document']\n"
     ]
    }
   ],
   "source": [
    "print sentence"
   ]
  },
  {
   "cell_type": "markdown",
   "metadata": {},
   "source": [
    "### Define grammar\n",
    "Next we're defining a context free grammar for the above sentence."
   ]
  },
  {
   "cell_type": "code",
   "execution_count": 21,
   "metadata": {
    "collapsed": true
   },
   "outputs": [],
   "source": [
    "# define a simple context-free grammar.\n",
    "grammar = CFG.fromstring(\"\"\"\n",
    "                            S -> VP | VP Cnj VP\n",
    "                            VP -> V NP | V PP\n",
    "                            NP -> Det N | Det N PP | Adj N | Adj N PP\n",
    "                            PP -> P NP  \n",
    "                            N -> 'step' | 'work' | 'results' | 'Word' 'document'\n",
    "                            P -> 'in' | 'of' | 'all'\n",
    "                            V -> 'Describe' | 'present'\n",
    "                            Det -> 'an' | 'my' | 'every' | 'your' | 'a'\n",
    "                            Adj -> 'intermediate' | 'final' | Adj Cnj Adj\n",
    "                            Cnj -> 'and' | 'or' \n",
    "                        \"\"\")\n"
   ]
  },
  {
   "cell_type": "markdown",
   "metadata": {},
   "source": [
    "### Parse and print tree\n",
    "Next we can parse and print the above tree"
   ]
  },
  {
   "cell_type": "code",
   "execution_count": 22,
   "metadata": {},
   "outputs": [
    {
     "name": "stdout",
     "output_type": "stream",
     "text": [
      "(S\n",
      "  (VP\n",
      "    (V Describe)\n",
      "    (NP (Det every) (N step) (PP (P of) (NP (Det your) (N work)))))\n",
      "  (Cnj and)\n",
      "  (VP\n",
      "    (V present)\n",
      "    (PP\n",
      "      (P all)\n",
      "      (NP\n",
      "        (Adj (Adj intermediate) (Cnj and) (Adj final))\n",
      "        (N results)\n",
      "        (PP (P in) (NP (Det a) (N Word document)))))))\n"
     ]
    }
   ],
   "source": [
    "# Parse\n",
    "par_grammar = nltk.ChartParser(grammar, trace=0)\n",
    "par_trees = par_grammar.parse(sentence)\n",
    "\n",
    "# Print\n",
    "for i in par_trees:\n",
    "    print i"
   ]
  },
  {
   "cell_type": "markdown",
   "metadata": {},
   "source": [
    "# Problem 4 (20%)\n",
    "Install and compile Word2Vec C executables. Train CBOW model and create 200 dimensional embedding of Word Vectors. Demonstrate that you could run analogical reasoning when searching for country’s favorite food starting with japan and sushi. Note that words might have to be in lower case. Find favorite food for 5 different countries. Report improbable results as well as good results. Use scripts provided with original Google C code. "
   ]
  },
  {
   "cell_type": "markdown",
   "metadata": {},
   "source": [
    "### Download\n",
    "I downloaded the Word2Vec C executables from the following github repository by William Yeh to my EC2 Ubuntu instance. Somehow I wasn't able to install Word2Vec directly. The nice thing about the code in the repository by Yeh is, that it has a make file can can be easily compiled."
   ]
  },
  {
   "cell_type": "markdown",
   "metadata": {},
   "source": [
    "```bash\n",
    "git clone https://github.com/William-Yeh/word2vec-mac.git\n",
    "```"
   ]
  },
  {
   "cell_type": "markdown",
   "metadata": {
    "collapsed": true
   },
   "source": [
    "```text\n",
    "Cloning into 'word2vec-mac'...\n",
    "remote: Counting objects: 123, done.\n",
    "remote: Total 123 (delta 0), reused 0 (delta 0), pack-reused 123\n",
    "Receiving objects: 100% (123/123), 111.30 KiB | 0 bytes/s, done.\n",
    "Resolving deltas: 100% (97/97), done.\n",
    "Checking connectivity... done.\n",
    "```"
   ]
  },
  {
   "cell_type": "markdown",
   "metadata": {},
   "source": [
    "### Installation\n",
    "Next I compiled the word2vec program. As explained above, installation trough pip somewho failed."
   ]
  },
  {
   "cell_type": "markdown",
   "metadata": {},
   "source": [
    "```bash\n",
    "cd word2vec-mac/\n",
    "make\n",
    "```"
   ]
  },
  {
   "cell_type": "markdown",
   "metadata": {},
   "source": [
    "```text\n",
    "gcc word2vec.c -o word2vec -lm -pthread -Ofast -march=native -Wall \\\n",
    "    -funroll-loops -Wno-unused-result\n",
    "gcc word2phrase.c -o word2phrase -lm -pthread -Ofast -march=native \\\n",
    "    -Wall -funroll-loops -Wno-unused-result\n",
    "gcc distance.c -o distance -lm -pthread -Ofast -march=native -Wall \\\n",
    "    -funroll-loops -Wno-unused-result\n",
    "gcc word-analogy.c -o word-analogy -lm -pthread -Ofast -march=native \\\n",
    "    -Wall -funroll-loops -Wno-unused-result\n",
    "gcc compute-accuracy.c -o compute-accuracy -lm -pthread -Ofast \\\n",
    "    -march=native -Wall -funroll-loops -Wno-unused-result\n",
    "```"
   ]
  },
  {
   "cell_type": "markdown",
   "metadata": {},
   "source": [
    "### Train model\n",
    "I next trained a neural net using a CBOW model and created 200 dimensional embeddings of word vectors. This was done using the demo-words.sh, using the text8 as the training data. I entered Japan and Sushi as words."
   ]
  },
  {
   "cell_type": "markdown",
   "metadata": {},
   "source": [
    "```bash\n",
    "chmod +x *.sh\n",
    "./demo-word.sh\n",
    "```"
   ]
  },
  {
   "cell_type": "markdown",
   "metadata": {},
   "source": [
    "```text\n",
    "make: Nothing to be done for 'all'.\n",
    "  % Total    % Received % Xferd  Average Speed   Time    Time     Time  Current\n",
    "                                 Dload  Upload   Total   Spent    Left  Speed\n",
    "100 29.8M  100 29.8M    0     0  1913k      0  0:00:16  0:00:16 --:--:-- 1963k\n",
    "Archive:  text8.zip\n",
    "  inflating: text8\n",
    "Starting training using file text8\n",
    "Vocab size: 71290\n",
    "Words in train file: 16718843\n",
    "Alpha: 0.000121  Progress: 99.58%  Words/thread/sec: 97.71k\n",
    "real    1m30.997s\n",
    "user    2m54.924s\n",
    "sys     0m0.236s\n",
    "Enter word or sentence (EXIT to break): japan\n",
    "\n",
    "Word: japan  Position in vocabulary: 582\n",
    "\n",
    "                                              Word       Cosine distance\n",
    "------------------------------------------------------------------------\n",
    "                                             china              0.666397\n",
    "                                             korea              0.584256\n",
    "                                         singapore              0.572973\n",
    "                                          cambodia              0.563123\n",
    "...\n",
    "```"
   ]
  },
  {
   "cell_type": "markdown",
   "metadata": {},
   "source": [
    "```text\n",
    "Enter word or sentence (EXIT to break): sushi\n",
    "\n",
    "Word: sushi  Position in vocabulary: 30906\n",
    "\n",
    "                                              Word       Cosine distance\n",
    "------------------------------------------------------------------------\n",
    "                                             dashi              0.726945\n",
    "                                              tofu              0.723628\n",
    "                                         glutinous              0.705772\n",
    "                                           steamed              0.696959\n",
    "...\n",
    "```"
   ]
  },
  {
   "cell_type": "markdown",
   "metadata": {},
   "source": [
    "### Demo phrases\n",
    "I also looked at the file demo phrases."
   ]
  },
  {
   "cell_type": "markdown",
   "metadata": {},
   "source": [
    "```bash\n",
    "./demo-phrases.sh\n",
    "```"
   ]
  },
  {
   "cell_type": "markdown",
   "metadata": {},
   "source": [
    "```text\n",
    "Starting training using file text8\n",
    "Words processed: 17000K     Vocab size: 4399K\n",
    "Vocab size (unigrams + bigrams): 2419827\n",
    "Words in train file: 17005206\n",
    "Words written: 17000K\n",
    "real    0m24.892s\n",
    "user    0m23.432s\n",
    "sys     0m0.760s\n",
    "Starting training using file text8-phrase\n",
    "Vocab size: 84069\n",
    "Words in train file: 16307293\n",
    "Alpha: 0.000117  Progress: 99.60%  Words/thread/sec: 40.23k\n",
    "real    3m29.039s\n",
    "user    6m49.088s\n",
    "sys     0m0.264s\n",
    "Enter word or sentence (EXIT to break):\n",
    "```"
   ]
  },
  {
   "cell_type": "markdown",
   "metadata": {},
   "source": [
    "i entered sushi japan germany"
   ]
  },
  {
   "cell_type": "markdown",
   "metadata": {},
   "source": [
    "```text\n",
    "Enter word or sentence (EXIT to break): japan sushi germany\n",
    "\n",
    "Word: japan  Position in vocabulary: 547\n",
    "\n",
    "Word: sushi  Position in vocabulary: 32615\n",
    "\n",
    "Word: germany  Position in vocabulary: 319\n",
    "\n",
    "                                              Word       Cosine distance\n",
    "------------------------------------------------------------------------\n",
    "                                  exports_partners              0.509551\n",
    "                                            russia              0.486049\n",
    "                                             italy              0.485402\n",
    "                                            france              0.481288\n",
    "...\n",
    "```"
   ]
  },
  {
   "cell_type": "markdown",
   "metadata": {},
   "source": [
    "The closest word to the above search is exports_partners, followed by Russia and Italy."
   ]
  },
  {
   "cell_type": "markdown",
   "metadata": {},
   "source": [
    "### Word Analogy\n",
    "Next I run demo-analogy.sh in order to find the food analogies. Japan susi is used as the analogy. I tried to find the favorite foods for Germany, France, Italy, Spain and USA. "
   ]
  },
  {
   "cell_type": "markdown",
   "metadata": {},
   "source": [
    "```bash\n",
    "./demo-analogy.sh \n",
    "```"
   ]
  },
  {
   "cell_type": "markdown",
   "metadata": {},
   "source": [
    "```text\n",
    "tim@ip-172-31-24-35:~/word2vec-mac$ ./demo-analogy.sh\n",
    "make: Nothing to be done for 'all'.\n",
    "----------------------------------------------------------\n",
    "Note that for the word analogy to perform well, the models\n",
    "should be trained on much larger data sets\n",
    "Example input: paris france berlin\n",
    "----------------------------------------------------------\n",
    "Starting training using file text8\n",
    "Vocab size: 71290\n",
    "Words in train file: 16718843\n",
    "Alpha: 0.000121  Progress: 99.58%  Words/thread/sec: 98.08k\n",
    "real    1m30.090s\n",
    "user    2m54.356s\n",
    "sys     0m0.252s\n",
    "Enter three words (EXIT to break):\n",
    "```"
   ]
  },
  {
   "cell_type": "markdown",
   "metadata": {},
   "source": [
    "#### Germany"
   ]
  },
  {
   "cell_type": "markdown",
   "metadata": {},
   "source": [
    "```text\n",
    "Enter three words (EXIT to break): japan sushi germany\n",
    "\n",
    "Word: japan  Position in vocabulary: 582\n",
    "\n",
    "Word: sushi  Position in vocabulary: 30906\n",
    "\n",
    "Word: germany  Position in vocabulary: 324\n",
    "\n",
    "                                              Word              Distance\n",
    "------------------------------------------------------------------------\n",
    "                                           turnips              0.521571\n",
    "                                           cabbage              0.521392\n",
    "                                            glazed              0.516707\n",
    "                                              hams              0.512228\n",
    "...\n",
    "```"
   ]
  },
  {
   "cell_type": "markdown",
   "metadata": {},
   "source": [
    "#### France"
   ]
  },
  {
   "cell_type": "markdown",
   "metadata": {},
   "source": [
    "```text\n",
    "Enter three words (EXIT to break): japan sushi france\n",
    "\n",
    "Word: japan  Position in vocabulary: 582\n",
    "\n",
    "Word: sushi  Position in vocabulary: 30906\n",
    "\n",
    "Word: france  Position in vocabulary: 303\n",
    "\n",
    "                                              Word              Distance\n",
    "------------------------------------------------------------------------\n",
    "                                          omelette              0.551152\n",
    "                                           grilled              0.541595\n",
    "                                           caramel              0.537879\n",
    "                                            breads              0.536886\n",
    "...\n",
    "```"
   ]
  },
  {
   "cell_type": "markdown",
   "metadata": {},
   "source": [
    "#### Italy"
   ]
  },
  {
   "cell_type": "markdown",
   "metadata": {},
   "source": [
    "```text\n",
    "Enter three words (EXIT to break): japan sushi italy\n",
    "\n",
    "Word: japan  Position in vocabulary: 582\n",
    "\n",
    "Word: sushi  Position in vocabulary: 30906\n",
    "\n",
    "Word: italy  Position in vocabulary: 843\n",
    "\n",
    "                                              Word              Distance\n",
    "------------------------------------------------------------------------\n",
    "                                          omelette              0.542516\n",
    "                                              tofu              0.541085\n",
    "                                            cooked              0.538601\n",
    "                                           lettuce              0.538252\n",
    "...\n",
    "```"
   ]
  },
  {
   "cell_type": "markdown",
   "metadata": {},
   "source": [
    "#### Spain"
   ]
  },
  {
   "cell_type": "markdown",
   "metadata": {},
   "source": [
    "```text\n",
    "Enter three words (EXIT to break): japan sushi spain\n",
    "\n",
    "Word: japan  Position in vocabulary: 582\n",
    "\n",
    "Word: sushi  Position in vocabulary: 30906\n",
    "\n",
    "Word: spain  Position in vocabulary: 804\n",
    "\n",
    "                                              Word              Distance\n",
    "------------------------------------------------------------------------\n",
    "                                           caramel              0.539891\n",
    "                                            breads              0.527792\n",
    "                                           savoury              0.525772\n",
    "                                           paprika              0.523075\n",
    "...\n",
    "```"
   ]
  },
  {
   "cell_type": "markdown",
   "metadata": {},
   "source": [
    "#### USA"
   ]
  },
  {
   "cell_type": "markdown",
   "metadata": {},
   "source": [
    "```text\n",
    "Enter three words (EXIT to break): japan sushi usa\n",
    "\n",
    "Word: japan  Position in vocabulary: 582\n",
    "\n",
    "Word: sushi  Position in vocabulary: 30906\n",
    "\n",
    "Word: usa  Position in vocabulary: 1164\n",
    "\n",
    "                                              Word              Distance\n",
    "------------------------------------------------------------------------\n",
    "                                         raspberry              0.532414\n",
    "                                             crepe              0.530286\n",
    "                                          shallots              0.527220\n",
    "                                             kodak              0.525473\n",
    "...\n",
    "```"
   ]
  },
  {
   "cell_type": "markdown",
   "metadata": {},
   "source": [
    "According to the word analogy the favorite foods are:\n",
    "\n",
    "* Germany: Turnips & Cabbage\n",
    "* France: Omellete & Grilled\n",
    "* Italy: Omellete & Tofu\n",
    "* Spain: Caramel & Breads\n",
    "* USA: Rasperry & Crepe\n",
    "\n",
    "<br>\n",
    "The resulting foods do make sense to a certain degree and belong to the country in question. However, in most cases, one would expect different results. Such as Burgers for the USA, Sausages for Germany, Pasta for Italy or Tapas for Spain. The reason for the results is that we're limited on the small training set in the text8 file. "
   ]
  },
  {
   "cell_type": "markdown",
   "metadata": {},
   "source": [
    "# Problem 5 (20%)\n",
    "Install and run Genism Python Word2Vec API. Find the most probable words you will obtain when you start with an emperor add a woman and subtract a man. Use this tutorial as a guide https://rare-technologies.com/word2vec-tutorial/\n",
    "\n",
    "**Note:** Somehow the installation didn't work under python 2.7. I didn't have jupyter notebook installed for python 3. That is why I executed the following steps directly in the shell."
   ]
  },
  {
   "cell_type": "markdown",
   "metadata": {},
   "source": [
    "### Install gensim\n",
    "First we can start by installing gensim in the bash terminal.\n",
    "\n",
    "```bash\n",
    "pip3 install -U gensim\n",
    "```"
   ]
  },
  {
   "cell_type": "markdown",
   "metadata": {},
   "source": [
    "### Get file from \n",
    "It is possible to download the text8 corpus used (see comments, in the rare-technologies tutorial.\n",
    "\n",
    "```bash\n",
    "wget http://mattmahoney.net/dc/text8.zip\n",
    "unzip text8.zip\n",
    "```"
   ]
  },
  {
   "cell_type": "markdown",
   "metadata": {},
   "source": [
    "Next I opened python3 and did the following analyis in the shell."
   ]
  },
  {
   "cell_type": "markdown",
   "metadata": {},
   "source": [
    "```python\n",
    "# import gensim\n",
    "import gensim, logging\n",
    "from gensim.models import word2vec\n",
    "\n",
    "# open text8\n",
    "sentences = word2vec.Text8Corpus('text8')\n",
    "\n",
    "# build the model with vector size 2\n",
    "model = word2vec.Word2Vec(sentences, size=200)\n",
    "\n",
    "# Run query\n",
    "top_5 = model.most_similar(positive=['emperor', 'woman'],\n",
    "                           negative=['man'], topn=5)\n",
    "```"
   ]
  },
  {
   "cell_type": "markdown",
   "metadata": {
    "collapsed": true
   },
   "source": [
    "Next we can output the words"
   ]
  },
  {
   "cell_type": "markdown",
   "metadata": {
    "collapsed": true
   },
   "source": [
    "```python\n",
    "# Print list\n",
    "for word in top_5:\n",
    "     print(word)\n",
    "```\n"
   ]
  },
  {
   "cell_type": "markdown",
   "metadata": {},
   "source": [
    "```text\n",
    ">>> for word in top_5:\n",
    "...     print(word)\n",
    "...\n",
    "('empress', 0.6854598522186279)\n",
    "('emperors', 0.6028348207473755)\n",
    "('ruler', 0.5929163694381714)\n",
    "('augustus', 0.5781252384185791)\n",
    "('daughter', 0.5724169015884399)\n",
    "```"
   ]
  },
  {
   "cell_type": "markdown",
   "metadata": {},
   "source": [
    "The most likely words are empress, emperors, ruler, augustus and daughter."
   ]
  }
 ],
 "metadata": {
  "anaconda-cloud": {},
  "kernelspec": {
   "display_name": "Python 3",
   "language": "python",
   "name": "python3"
  },
  "language_info": {
   "codemirror_mode": {
    "name": "ipython",
    "version": 3
   },
   "file_extension": ".py",
   "mimetype": "text/x-python",
   "name": "python",
   "nbconvert_exporter": "python",
   "pygments_lexer": "ipython3",
   "version": "3.6.1"
  }
 },
 "nbformat": 4,
 "nbformat_minor": 1
}
